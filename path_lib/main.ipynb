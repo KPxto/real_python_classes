{
 "cells": [
  {
   "cell_type": "markdown",
   "metadata": {},
   "source": [
    "[Real Python Class](https://realpython.com/lessons/reading-and-writing-files/)"
   ]
  },
  {
   "cell_type": "markdown",
   "metadata": {},
   "source": [
    "Alguns problemas ao tratar caminhos de arquivo como strings:\n",
    "- Ler e escrever arquivos\n",
    "- Listar arquivos de uma pasta\n",
    "- Encontrar a pasta pai\n",
    "- Criar nomes únicos para arquivos. Não tem como explorar a pasta e saber quais seus arquivos\n",
    "- Endereço do arquivo pode ficar errado a depender do SO. Windows usa contrabarra por exemplo "
   ]
  },
  {
   "cell_type": "code",
   "execution_count": 5,
   "metadata": {},
   "outputs": [],
   "source": [
    "# basicamente, Path é a unica classe q vamos usar do modulo pathlib\n",
    "from pathlib import Path"
   ]
  },
  {
   "cell_type": "markdown",
   "metadata": {},
   "source": [
    "Um objeto path pode ser criado passando a string para a classe Path.\n",
    "\n",
    "Lembre de sempre usar o 'r' na frente da string para que seja uma string literal. Dessa forma a contrabarra dos endereços do windows não serão interpretadas como escape."
   ]
  },
  {
   "cell_type": "code",
   "execution_count": 6,
   "metadata": {},
   "outputs": [
    {
     "data": {
      "text/plain": [
       "PosixPath('home/user/folder1/file.txt')"
      ]
     },
     "execution_count": 6,
     "metadata": {},
     "output_type": "execute_result"
    }
   ],
   "source": [
    "Path(r'home/user/folder1/file.txt')"
   ]
  },
  {
   "cell_type": "code",
   "execution_count": 7,
   "metadata": {},
   "outputs": [
    {
     "data": {
      "text/plain": [
       "PosixPath('/home/kaio-peixoto/GitHub/real_python/path_lib')"
      ]
     },
     "execution_count": 7,
     "metadata": {},
     "output_type": "execute_result"
    }
   ],
   "source": [
    "# retorna o endereço do diretório atual\n",
    "Path.cwd()"
   ]
  },
  {
   "cell_type": "code",
   "execution_count": 8,
   "metadata": {},
   "outputs": [
    {
     "data": {
      "text/plain": [
       "PosixPath('/home/kaio-peixoto')"
      ]
     },
     "execution_count": 8,
     "metadata": {},
     "output_type": "execute_result"
    }
   ],
   "source": [
    "# o método home traz o endereço do diretório raíz\n",
    "Path.home()"
   ]
  },
  {
   "cell_type": "code",
   "execution_count": 9,
   "metadata": {},
   "outputs": [
    {
     "data": {
      "text/plain": [
       "PosixPath('/home/kaio-peixoto/pasta1/subpasta/arquivo.xlsx')"
      ]
     },
     "execution_count": 9,
     "metadata": {},
     "output_type": "execute_result"
    }
   ],
   "source": [
    "# é possível criar um caminho usando a notação de barra abaixo\n",
    "# este objeto gerado vem de acordo com o padrão do SO sendo utilizado\n",
    "Path.home() / 'pasta1' / 'subpasta' / 'arquivo.xlsx'"
   ]
  },
  {
   "cell_type": "code",
   "execution_count": 10,
   "metadata": {},
   "outputs": [
    {
     "data": {
      "text/plain": [
       "PosixPath('/home/kaio-peixoto/pasta1/subpasta/arquivo.xlsx')"
      ]
     },
     "execution_count": 10,
     "metadata": {},
     "output_type": "execute_result"
    }
   ],
   "source": [
    "# outra opção para criar um caminho é utilizando o metodo joinpath\n",
    "Path.home().joinpath('pasta1', 'subpasta', 'arquivo.xlsx')"
   ]
  },
  {
   "cell_type": "markdown",
   "metadata": {},
   "source": [
    "### Ler e escrever arquivos com pathlib\n",
    "\n",
    "Podemos ler arquivos diretamente de um objeto Path.\n",
    "A função é a mesma se utilizar o tradicional open(). Mas manipulando arquivos com o objeto Path é uma forma mais pythonica para deixar o código mais bonito e também facilitar leitura. No final, a escolha depende só do gosto de quem está criando o código. Veja os exemplos abaixo:"
   ]
  },
  {
   "cell_type": "code",
   "execution_count": 14,
   "metadata": {},
   "outputs": [],
   "source": [
    "# criando um objeto Path\n",
    "path = Path.cwd() / 'exemplo.txt'"
   ]
  },
  {
   "cell_type": "code",
   "execution_count": 15,
   "metadata": {},
   "outputs": [
    {
     "name": "stdout",
     "output_type": "stream",
     "text": [
      "#linha4\n",
      "#linha5\n",
      "#linha7\n"
     ]
    }
   ],
   "source": [
    "# abrindo o arquivo com o built-in open()\n",
    "with open(path, mode='r', encoding='utf-8') as fid:\n",
    "    linhas = [linha.strip() for linha in fid if linha.startswith('#')]\n",
    "\n",
    "print('\\n'.join(linhas))"
   ]
  },
  {
   "cell_type": "code",
   "execution_count": 16,
   "metadata": {},
   "outputs": [
    {
     "name": "stdout",
     "output_type": "stream",
     "text": [
      "#linha4\n",
      "#linha5\n",
      "#linha7\n"
     ]
    }
   ],
   "source": [
    "# fazendo o mesmo, mas agora diretamente com o objeto Path\n",
    "with path.open(mode='r', encoding='utf-8') as fid:\n",
    "    linhas = [linha.strip() for linha in fid if linha.startswith('#')]\n",
    "\n",
    "print('\\n'.join(linhas))"
   ]
  },
  {
   "cell_type": "markdown",
   "metadata": {},
   "source": [
    "Para uma leitura rápida do arquivo q não vai precisar de muito processamento podemos utilizar o método abaixo. Ele apenas lê o arquivo e retorna seu conteúdo como string:"
   ]
  },
  {
   "cell_type": "code",
   "execution_count": 17,
   "metadata": {},
   "outputs": [
    {
     "data": {
      "text/plain": [
       "['linha1', 'linha2', 'linha3', '#linha4', '#linha5', 'linha6', '#linha7']"
      ]
     },
     "execution_count": 17,
     "metadata": {},
     "output_type": "execute_result"
    }
   ],
   "source": [
    "# o simples nome do arquivo pode ser jogado diretamente dentro do objeto Path \n",
    "# ele procura este arquivo dentro do diretório atual e faz a leitura\n",
    "Path('exemplo.txt').read_text().split('\\n')"
   ]
  },
  {
   "cell_type": "code",
   "execution_count": 18,
   "metadata": {},
   "outputs": [
    {
     "data": {
      "text/plain": [
       "'linha1\\nlinha2\\nlinha3\\n#linha4\\n#linha5\\nlinha6\\n#linha7'"
      ]
     },
     "execution_count": 18,
     "metadata": {},
     "output_type": "execute_result"
    }
   ],
   "source": [
    "# lendo como método do objeto path criado anteriormente\n",
    "path.read_text()"
   ]
  },
  {
   "cell_type": "markdown",
   "metadata": {},
   "source": [
    "Veja os métodos que fazer esta leitura/escrita rápida:\n",
    "- read_text()\n",
    "- read_bytes()\n",
    "- write_text()\n",
    "- write_bytes()"
   ]
  },
  {
   "cell_type": "code",
   "execution_count": 19,
   "metadata": {},
   "outputs": [
    {
     "data": {
      "text/plain": [
       "PosixPath('/home/kaio-peixoto/GitHub/real_python/path_lib/exemplo.txt')"
      ]
     },
     "execution_count": 19,
     "metadata": {},
     "output_type": "execute_result"
    }
   ],
   "source": [
    "# o método resolve retorna o caminho absolut do objeto path\n",
    "Path('exemplo.txt').resolve()"
   ]
  },
  {
   "cell_type": "markdown",
   "metadata": {},
   "source": [
    "Mover, renomear, deletar arquivos\n",
    "\n",
    "Com o pathlib isso também é possível. Mas tem q ser usado com cuidado, já q ele não avisa nada antes. Se deletar, ele executa imediatamente."
   ]
  },
  {
   "cell_type": "code",
   "execution_count": 20,
   "metadata": {},
   "outputs": [
    {
     "data": {
      "text/plain": [
       "PosixPath('exemplo_versao2.txt')"
      ]
     },
     "execution_count": 20,
     "metadata": {},
     "output_type": "execute_result"
    }
   ],
   "source": [
    "# usando replace para renomear o arquivo\n",
    "# replace também pode mover o arquivo para outra pasta\n",
    "# porém mover o arquivo pode ser perigoso, pois ele sobrescreve se tiver nome igual\n",
    "Path('exemplo.txt').replace('exemplo_versao2.txt')"
   ]
  },
  {
   "cell_type": "code",
   "execution_count": 23,
   "metadata": {},
   "outputs": [],
   "source": [
    "# metodo utilizado para deletar pasta\n",
    "Path('pasta1').rmdir()\n",
    "# metodo para deletar arquivos\n",
    "Path('file.txt').unlink()"
   ]
  },
  {
   "cell_type": "code",
   "execution_count": 24,
   "metadata": {},
   "outputs": [
    {
     "data": {
      "text/plain": [
       "PosixPath('/home/kaio-peixoto/GitHub/real_python/path_lib/exemplo.xlsx')"
      ]
     },
     "execution_count": 24,
     "metadata": {},
     "output_type": "execute_result"
    }
   ],
   "source": [
    "# os metodos with_name e with_suffix retorna o nome do arquivo modificado, mas nao muda inplace\n",
    "# with_suffix altera somente o sufixo do path\n",
    "path.with_suffix('.xlsx')"
   ]
  },
  {
   "cell_type": "code",
   "execution_count": 25,
   "metadata": {},
   "outputs": [
    {
     "data": {
      "text/plain": [
       "PosixPath('/home/kaio-peixoto/GitHub/real_python/path_lib/exemplo_teste2.xlsx')"
      ]
     },
     "execution_count": 25,
     "metadata": {},
     "output_type": "execute_result"
    }
   ],
   "source": [
    "# with_name altera todo o nome do arquivo, inclusive o sufixo\n",
    "path.with_name('exemplo_teste2.xlsx')"
   ]
  },
  {
   "cell_type": "markdown",
   "metadata": {},
   "source": [
    "O objeto Path() e seus componentes"
   ]
  },
  {
   "cell_type": "code",
   "execution_count": 28,
   "metadata": {},
   "outputs": [
    {
     "data": {
      "text/plain": [
       "('/',\n",
       " 'home',\n",
       " 'kaio-peixoto',\n",
       " 'GitHub',\n",
       " 'real_python',\n",
       " 'path_lib',\n",
       " 'exemplo.txt')"
      ]
     },
     "execution_count": 28,
     "metadata": {},
     "output_type": "execute_result"
    }
   ],
   "source": [
    "# podemos extrair partes específicas de um path\n",
    "path.parts "
   ]
  },
  {
   "cell_type": "code",
   "execution_count": 32,
   "metadata": {},
   "outputs": [
    {
     "data": {
      "text/plain": [
       "'exemplo.txt'"
      ]
     },
     "execution_count": 32,
     "metadata": {},
     "output_type": "execute_result"
    }
   ],
   "source": [
    "# aqui pegamos o nome do arquivo\n",
    "path.name"
   ]
  },
  {
   "cell_type": "code",
   "execution_count": 33,
   "metadata": {},
   "outputs": [
    {
     "data": {
      "text/plain": [
       "'exemplo'"
      ]
     },
     "execution_count": 33,
     "metadata": {},
     "output_type": "execute_result"
    }
   ],
   "source": [
    "# nome do arquivo sem a extensão\n",
    "path.stem"
   ]
  },
  {
   "cell_type": "code",
   "execution_count": 35,
   "metadata": {},
   "outputs": [
    {
     "data": {
      "text/plain": [
       "PosixPath('/home/kaio-peixoto/GitHub/real_python/path_lib')"
      ]
     },
     "execution_count": 35,
     "metadata": {},
     "output_type": "execute_result"
    }
   ],
   "source": [
    "# pasta pai\n",
    "path.parent"
   ]
  },
  {
   "cell_type": "markdown",
   "metadata": {},
   "source": [
    "---"
   ]
  },
  {
   "cell_type": "markdown",
   "metadata": {},
   "source": [
    "O método iterdir() faz uma iteração na pasta desejada."
   ]
  },
  {
   "cell_type": "code",
   "execution_count": 95,
   "metadata": {},
   "outputs": [
    {
     "data": {
      "text/plain": [
       "[PosixPath('/home/kaio-peixoto/GitHub/real_python/dash'),\n",
       " PosixPath('/home/kaio-peixoto/GitHub/real_python/lixo'),\n",
       " PosixPath('/home/kaio-peixoto/GitHub/real_python/data_management'),\n",
       " PosixPath('/home/kaio-peixoto/GitHub/real_python/realpython'),\n",
       " PosixPath('/home/kaio-peixoto/GitHub/real_python/python_env'),\n",
       " PosixPath('/home/kaio-peixoto/GitHub/real_python/dataclasses'),\n",
       " PosixPath('/home/kaio-peixoto/GitHub/real_python/venv'),\n",
       " PosixPath('/home/kaio-peixoto/GitHub/real_python/Readme.md'),\n",
       " PosixPath('/home/kaio-peixoto/GitHub/real_python/datetime'),\n",
       " PosixPath('/home/kaio-peixoto/GitHub/real_python/modules_packages_explain'),\n",
       " PosixPath('/home/kaio-peixoto/GitHub/real_python/exceptions'),\n",
       " PosixPath('/home/kaio-peixoto/GitHub/real_python/path_lib'),\n",
       " PosixPath('/home/kaio-peixoto/GitHub/real_python/.git')]"
      ]
     },
     "execution_count": 95,
     "metadata": {},
     "output_type": "execute_result"
    }
   ],
   "source": [
    "# aqui vamos iterar na pasta pai do diretório atual\n",
    "[i for i in Path.cwd().parent.iterdir()]"
   ]
  },
  {
   "cell_type": "code",
   "execution_count": 82,
   "metadata": {},
   "outputs": [
    {
     "data": {
      "text/plain": [
       "Counter({'.ipynb': 1, '.txt': 1, '': 1})"
      ]
     },
     "execution_count": 82,
     "metadata": {},
     "output_type": "execute_result"
    }
   ],
   "source": [
    "# ainda utilizando o iterdir() em união com Collections\n",
    "# podemos listar quantos arquivos de cada tipo existe em determinada pasta\n",
    "from collections import Counter\n",
    "\n",
    "# itere na pasta do diretorio atual e conte qual a qtd de cada tipo de arquivo\n",
    "Counter(p.suffix for p in Path.cwd().iterdir())"
   ]
  },
  {
   "cell_type": "code",
   "execution_count": 88,
   "metadata": {},
   "outputs": [
    {
     "data": {
      "text/plain": [
       "Counter({'.ipynb': 1})"
      ]
     },
     "execution_count": 88,
     "metadata": {},
     "output_type": "execute_result"
    }
   ],
   "source": [
    "# pode combinar com glob e deixar o código mais flexível\n",
    "# conte todos os arquivos em q a extensão comece com i\n",
    "Counter(p.suffix for p in Path.cwd().glob('*.i*'))"
   ]
  },
  {
   "cell_type": "code",
   "execution_count": 89,
   "metadata": {},
   "outputs": [],
   "source": [
    "# aqui podemos criar uma árvore de um diretório\n",
    "def tree(directory):\n",
    "    print(f'+ {directory}')\n",
    "    for path in sorted(directory.rglob('*')):\n",
    "        depth = len(path.relative_to(directory).parts)\n",
    "        spacer = '    ' * depth\n",
    "        print(f'{spacer}+ {path.name}')"
   ]
  },
  {
   "cell_type": "code",
   "execution_count": 91,
   "metadata": {},
   "outputs": [],
   "source": [
    "# testando a função\n",
    "#tree(Path.cwd())"
   ]
  },
  {
   "cell_type": "code",
   "execution_count": 109,
   "metadata": {},
   "outputs": [
    {
     "data": {
      "text/plain": [
       "[PosixPath('/home/kaio-peixoto/GitHub/real_python/path_lib/main.ipynb')]"
      ]
     },
     "execution_count": 109,
     "metadata": {},
     "output_type": "execute_result"
    }
   ],
   "source": [
    "# podemos usar o método glob para pesquisar termos específicos em notação glob\n",
    "# retorne todos os arquivos do diretorio atual em que a extensão comece com ip\n",
    "[i for i in Path.cwd().glob('*.ip*')]"
   ]
  },
  {
   "cell_type": "code",
   "execution_count": 112,
   "metadata": {},
   "outputs": [
    {
     "data": {
      "text/plain": [
       "[PosixPath('/home/kaio-peixoto/GitHub/real_python/data_management/data_management.ipynb'),\n",
       " PosixPath('/home/kaio-peixoto/GitHub/real_python/data_management/.ipynb_checkpoints'),\n",
       " PosixPath('/home/kaio-peixoto/GitHub/real_python/data_management/.ipynb_checkpoints/data_management-checkpoint.ipynb'),\n",
       " PosixPath('/home/kaio-peixoto/GitHub/real_python/python_env/.ipynb_checkpoints'),\n",
       " PosixPath('/home/kaio-peixoto/GitHub/real_python/python_env/python_env.ipynb'),\n",
       " PosixPath('/home/kaio-peixoto/GitHub/real_python/python_env/.ipynb_checkpoints/python_env-checkpoint.ipynb'),\n",
       " PosixPath('/home/kaio-peixoto/GitHub/real_python/dataclasses/dataclasses.ipynb'),\n",
       " PosixPath('/home/kaio-peixoto/GitHub/real_python/dataclasses/.ipynb_checkpoints'),\n",
       " PosixPath('/home/kaio-peixoto/GitHub/real_python/dataclasses/.ipynb_checkpoints/dataclasses-checkpoint.ipynb'),\n",
       " PosixPath('/home/kaio-peixoto/GitHub/real_python/datetime/.ipynb_checkpoints'),\n",
       " PosixPath('/home/kaio-peixoto/GitHub/real_python/datetime/datetime.ipynb'),\n",
       " PosixPath('/home/kaio-peixoto/GitHub/real_python/datetime/.ipynb_checkpoints/datetime-checkpoint.ipynb'),\n",
       " PosixPath('/home/kaio-peixoto/GitHub/real_python/modules_packages_explain/.ipynb_checkpoints'),\n",
       " PosixPath('/home/kaio-peixoto/GitHub/real_python/modules_packages_explain/modules_packages.ipynb'),\n",
       " PosixPath('/home/kaio-peixoto/GitHub/real_python/modules_packages_explain/.ipynb_checkpoints/modules_packages-checkpoint.ipynb'),\n",
       " PosixPath('/home/kaio-peixoto/GitHub/real_python/exceptions/exceptions.ipynb'),\n",
       " PosixPath('/home/kaio-peixoto/GitHub/real_python/exceptions/.ipynb_checkpoints'),\n",
       " PosixPath('/home/kaio-peixoto/GitHub/real_python/exceptions/.ipynb_checkpoints/exceptions-checkpoint.ipynb'),\n",
       " PosixPath('/home/kaio-peixoto/GitHub/real_python/path_lib/main.ipynb')]"
      ]
     },
     "execution_count": 112,
     "metadata": {},
     "output_type": "execute_result"
    }
   ],
   "source": [
    "# retorne todos os arquivos do diretorio pai em que a extensão comece com ip\n",
    "# veja que foi utilizado o rglob em vez de glob\n",
    "# o rglob faz a pesquisa em todas as subpastas também\n",
    "[i for i in Path.cwd().parent.rglob('*.ip*')]"
   ]
  },
  {
   "cell_type": "markdown",
   "metadata": {},
   "source": [
    "Em resumo, os métodos abaixo são geradores e podem ser utilizados em iteradores como list comprehensions:\n",
    "\n",
    "- iterdir()\n",
    "    - Itera dentro das pastas\n",
    "- glob()\n",
    "    - Itera nas pastas fazendo pesquisa com notação glob\n",
    "- rglob\n",
    "    - mesma função de glob, mas extende a busca para as subpastas"
   ]
  }
 ],
 "metadata": {
  "kernelspec": {
   "display_name": "Python 3",
   "language": "python",
   "name": "python3"
  },
  "language_info": {
   "codemirror_mode": {
    "name": "ipython",
    "version": 3
   },
   "file_extension": ".py",
   "mimetype": "text/x-python",
   "name": "python",
   "nbconvert_exporter": "python",
   "pygments_lexer": "ipython3",
   "version": "3.9.0"
  },
  "orig_nbformat": 4
 },
 "nbformat": 4,
 "nbformat_minor": 2
}
