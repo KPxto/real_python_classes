{
 "cells": [
  {
   "cell_type": "markdown",
   "id": "aaad41c6",
   "metadata": {},
   "source": [
    "[Link para artigo no RealPython](https://realpython.com/python-datetime/)"
   ]
  },
  {
   "cell_type": "code",
   "execution_count": 1,
   "id": "522d9f75",
   "metadata": {},
   "outputs": [],
   "source": [
    "import time"
   ]
  },
  {
   "cell_type": "markdown",
   "id": "e3d8ff5c",
   "metadata": {},
   "source": [
    "A função abaixo retorna a quantidade dde segundos que distancia o agora da Unix Epoch (01 de Janeiro de 1970 00:00:00 UTC)"
   ]
  },
  {
   "cell_type": "code",
   "execution_count": 2,
   "id": "ff21c72d",
   "metadata": {
    "scrolled": true
   },
   "outputs": [
    {
     "data": {
      "text/plain": [
       "1644977173.59675"
      ]
     },
     "execution_count": 2,
     "metadata": {},
     "output_type": "execute_result"
    }
   ],
   "source": [
    "time.time()"
   ]
  },
  {
   "cell_type": "markdown",
   "id": "19a931d3",
   "metadata": {},
   "source": [
    "**ISO 8601**\n",
    "<br>\n",
    "Estabeleceu que o formato de data padrão deve ser aaaa-mm-dd hh:mm:ss. Ou seja, a ordem deve ser ano, mês, dia e depois vem a hora."
   ]
  },
  {
   "cell_type": "markdown",
   "id": "6d560940",
   "metadata": {},
   "source": [
    "## O módulo datetime"
   ]
  },
  {
   "cell_type": "markdown",
   "id": "da6cae67",
   "metadata": {},
   "source": [
    "Possui 3 classes:\n",
    "<br>\n",
    "   * datetime.date:\n",
    "       * Relacionado a informação de data somente (ano, mês e dia)\n",
    "   * datetime.time\n",
    "       * Para manipular informação de tempo. Assume que o dia possui exatamente 86.400 segundos\n",
    "   * datetime.datetime\n",
    "       * Combinação dos 2 acima. Contém todos os atributos de ambas classes"
   ]
  },
  {
   "cell_type": "markdown",
   "id": "7da11e2d",
   "metadata": {},
   "source": [
    "### Instanciando datetime\n",
    "Vamos instanciar cada classe e observar o que elas retornam"
   ]
  },
  {
   "cell_type": "code",
   "execution_count": 3,
   "id": "00e692dc",
   "metadata": {},
   "outputs": [],
   "source": [
    "from datetime import date, time, datetime, timedelta"
   ]
  },
  {
   "cell_type": "code",
   "execution_count": 4,
   "id": "348b3d1c",
   "metadata": {},
   "outputs": [
    {
     "data": {
      "text/plain": [
       "datetime.date(2022, 2, 12)"
      ]
     },
     "execution_count": 4,
     "metadata": {},
     "output_type": "execute_result"
    }
   ],
   "source": [
    "date(year=2022, month=2, day=12)"
   ]
  },
  {
   "cell_type": "code",
   "execution_count": 5,
   "id": "c42fc6f6",
   "metadata": {},
   "outputs": [
    {
     "data": {
      "text/plain": [
       "datetime.time(13, 14, 18)"
      ]
     },
     "execution_count": 5,
     "metadata": {},
     "output_type": "execute_result"
    }
   ],
   "source": [
    "time(hour=13, minute=14, second=18)"
   ]
  },
  {
   "cell_type": "code",
   "execution_count": 6,
   "id": "ef01b39b",
   "metadata": {},
   "outputs": [
    {
     "data": {
      "text/plain": [
       "datetime.datetime(2022, 11, 22, 10, 50, 36)"
      ]
     },
     "execution_count": 6,
     "metadata": {},
     "output_type": "execute_result"
    }
   ],
   "source": [
    "datetime(year=2022, month=11, day=22, hour=10, minute=50, second=36)"
   ]
  },
  {
   "cell_type": "markdown",
   "id": "550a692b",
   "metadata": {},
   "source": [
    "Temos também outros métodos para criar tempo"
   ]
  },
  {
   "cell_type": "code",
   "execution_count": 7,
   "id": "eb37774c",
   "metadata": {},
   "outputs": [
    {
     "data": {
      "text/plain": [
       "datetime.datetime(2022, 2, 15, 23, 6, 13, 621237)"
      ]
     },
     "execution_count": 7,
     "metadata": {},
     "output_type": "execute_result"
    }
   ],
   "source": [
    "datetime.today()"
   ]
  },
  {
   "cell_type": "markdown",
   "id": "33533db0",
   "metadata": {},
   "source": [
    ">Instancia a data local atual"
   ]
  },
  {
   "cell_type": "code",
   "execution_count": 8,
   "id": "d57e4e63",
   "metadata": {},
   "outputs": [
    {
     "data": {
      "text/plain": [
       "datetime.datetime(2022, 2, 15, 23, 6, 13, 625206)"
      ]
     },
     "execution_count": 8,
     "metadata": {},
     "output_type": "execute_result"
    }
   ],
   "source": [
    "datetime.now()"
   ]
  },
  {
   "cell_type": "markdown",
   "id": "8a36a3da",
   "metadata": {},
   "source": [
    ">Instancia a data e tempo local atual. Tipo de dado datetime"
   ]
  },
  {
   "cell_type": "markdown",
   "id": "78dcdbae",
   "metadata": {},
   "source": [
    "### Usando strings para instanciar datetime\n",
    "<br>\n",
    "\n",
    "O método .fromisoformat() aceita uma string no padrão ISO8601, ou seja, ano-mes-dia"
   ]
  },
  {
   "cell_type": "code",
   "execution_count": 9,
   "id": "cf09b3ae",
   "metadata": {},
   "outputs": [
    {
     "data": {
      "text/plain": [
       "datetime.time(8, 45, 30)"
      ]
     },
     "execution_count": 9,
     "metadata": {},
     "output_type": "execute_result"
    }
   ],
   "source": [
    "time.fromisoformat('08:45:30')"
   ]
  },
  {
   "cell_type": "code",
   "execution_count": 10,
   "id": "b4e535e6",
   "metadata": {},
   "outputs": [
    {
     "data": {
      "text/plain": [
       "'Tue Feb 22 22:04:38 2022'"
      ]
     },
     "execution_count": 10,
     "metadata": {},
     "output_type": "execute_result"
    }
   ],
   "source": [
    "datetime.fromisoformat('2022-02-22 22:04:38').strftime('%c')"
   ]
  },
  {
   "cell_type": "markdown",
   "id": "e00ac9fb",
   "metadata": {},
   "source": [
    ">Veja que podemos usar o método strftime() para acessar todos atributos da data. Esses atributos são dia da semana, dia do mês, semana do ano, dia da semana abreviado etc"
   ]
  },
  {
   "cell_type": "code",
   "execution_count": 11,
   "id": "848037ef",
   "metadata": {},
   "outputs": [
    {
     "data": {
      "text/plain": [
       "datetime.datetime(2022, 2, 15, 23, 6, 13, 636660)"
      ]
     },
     "execution_count": 11,
     "metadata": {},
     "output_type": "execute_result"
    }
   ],
   "source": [
    "datetime.now()"
   ]
  },
  {
   "cell_type": "markdown",
   "id": "8900d84d",
   "metadata": {},
   "source": [
    "**Mas, e para as strings que não estão no padrão ISO8601, como em 01-02-2023?**\n",
    "<br>\n",
    "\n",
    "Nesse caso vamos utilizar o método strptime() da classe datetime. Com ele inserimos 2 argumentos, o primeiro será a string da data e o segundo será uma mini linguagem que vai orientar como o Python vai ler aquela data"
   ]
  },
  {
   "cell_type": "code",
   "execution_count": 12,
   "id": "4086c64e",
   "metadata": {},
   "outputs": [],
   "source": [
    "date_string = \"02-04-2016 13:45:36\"\n",
    "format_string = \"%d-%m-%Y %H:%M:%S\""
   ]
  },
  {
   "cell_type": "code",
   "execution_count": 13,
   "id": "a136eaf5",
   "metadata": {},
   "outputs": [
    {
     "data": {
      "text/plain": [
       "datetime.datetime(2016, 4, 2, 13, 45, 36)"
      ]
     },
     "execution_count": 13,
     "metadata": {},
     "output_type": "execute_result"
    }
   ],
   "source": [
    "datetime.strptime(date_string, format_string)"
   ]
  },
  {
   "cell_type": "markdown",
   "id": "efd57dc0",
   "metadata": {},
   "source": [
    "### Projeto: contagem regressiva para o próximo PyCon US"
   ]
  },
  {
   "cell_type": "code",
   "execution_count": 14,
   "id": "18474ff2",
   "metadata": {},
   "outputs": [],
   "source": [
    "pycon_date = datetime(year=2022, month=4, day=27, hour=8)\n",
    "count = pycon_date - datetime.now()"
   ]
  },
  {
   "cell_type": "code",
   "execution_count": 15,
   "id": "febe0dac",
   "metadata": {},
   "outputs": [
    {
     "name": "stdout",
     "output_type": "stream",
     "text": [
      "Contagem para o próximo PyCon US: 70 days, 8:53:46.351946\n"
     ]
    }
   ],
   "source": [
    "print(f\"Contagem para o próximo PyCon US: {count}\")"
   ]
  },
  {
   "cell_type": "markdown",
   "id": "d80fe560",
   "metadata": {},
   "source": [
    ">A diferença entre as 2 instancias de datetime retorna uma instancia de timedelta, como ilustrado acima"
   ]
  },
  {
   "cell_type": "markdown",
   "id": "0964d091",
   "metadata": {},
   "source": [
    "timedelta significa a mudança de tempo entre 2 instancias de datetime. Resumindo, é o resultado de um cálculo entre 2 grandezas de tempo"
   ]
  },
  {
   "cell_type": "markdown",
   "id": "23e9c69c",
   "metadata": {},
   "source": [
    "### Trabalhando com time zones\n",
    "<br>\n",
    "\n",
    "Na classe datetime temos a opção de usar o tzinfo para trabalhar com informações de time zone. No entanto, este recurso nativo do datetime não está sincronizado com a base de dados do IANA (órgão oficial que mantém atualizado as novas regulamentações de horário de verão ou novos fusos).\n",
    "<br>\n",
    "\n",
    "Para isso, vamos trabalhar com a biblioteca chamada dateutil, recomendada pela própria documentação do datetime."
   ]
  },
  {
   "cell_type": "code",
   "execution_count": 16,
   "id": "f93ec42d",
   "metadata": {},
   "outputs": [],
   "source": [
    "from dateutil import tz\n",
    "from datetime import datetime"
   ]
  },
  {
   "cell_type": "code",
   "execution_count": 17,
   "id": "4c534f1b",
   "metadata": {},
   "outputs": [],
   "source": [
    "now = datetime.now(tz=tz.tzlocal())"
   ]
  },
  {
   "cell_type": "code",
   "execution_count": 18,
   "id": "49469d35",
   "metadata": {},
   "outputs": [
    {
     "data": {
      "text/plain": [
       "datetime.datetime(2022, 2, 15, 23, 6, 13, 659683, tzinfo=tzlocal())"
      ]
     },
     "execution_count": 18,
     "metadata": {},
     "output_type": "execute_result"
    }
   ],
   "source": [
    "now"
   ]
  },
  {
   "cell_type": "code",
   "execution_count": 19,
   "id": "15bc5657",
   "metadata": {},
   "outputs": [
    {
     "data": {
      "text/plain": [
       "'-03'"
      ]
     },
     "execution_count": 19,
     "metadata": {},
     "output_type": "execute_result"
    }
   ],
   "source": [
    "now.tzname()"
   ]
  },
  {
   "cell_type": "markdown",
   "id": "48126eab",
   "metadata": {},
   "source": [
    ">Veja que passamos o argumento de time zone dentro do método now(). O argumento passado para now() é uma instancia de dateutil, que acabamos de importar. \n",
    "<br>\n",
    "\n",
    ">Podemos inclusive imprimir o nome do time zone com o método tzname(). O output dessa operação pode ser diferente entre sistemas Windows e macOS/Linux"
   ]
  },
  {
   "cell_type": "markdown",
   "id": "016101cd",
   "metadata": {},
   "source": [
    "**Podemos ainda trabalhar com os diferentes timezones do mundo**\n",
    "<br>\n",
    "\n",
    "Basta usar o método tz.gettz() e passar o nome de timezone como argumento"
   ]
  },
  {
   "cell_type": "code",
   "execution_count": 20,
   "id": "9f0d03a3",
   "metadata": {},
   "outputs": [
    {
     "data": {
      "text/plain": [
       "'Wed Feb 16 02:06:13 2022'"
      ]
     },
     "execution_count": 20,
     "metadata": {},
     "output_type": "execute_result"
    }
   ],
   "source": [
    "london = tz.gettz(\"Europe/London\")\n",
    "now = datetime.now(tz=london)\n",
    "now.strftime('%c')"
   ]
  },
  {
   "cell_type": "markdown",
   "id": "4cac64f1",
   "metadata": {},
   "source": [
    ">1. Criamos o timezone desejado\n",
    ">2. Passamos esse timezone como argumento de now para capturar o horário local de Londres no momento\n",
    ">3. Exibimos este horário num formato amigável usando o strftime()"
   ]
  },
  {
   "cell_type": "markdown",
   "id": "4d9fdf0e",
   "metadata": {},
   "source": [
    "Vamos checar o nome de timezone utilizado em now"
   ]
  },
  {
   "cell_type": "code",
   "execution_count": 21,
   "id": "8297f3f5",
   "metadata": {},
   "outputs": [
    {
     "data": {
      "text/plain": [
       "'GMT'"
      ]
     },
     "execution_count": 21,
     "metadata": {},
     "output_type": "execute_result"
    }
   ],
   "source": [
    "now.tzname()"
   ]
  },
  {
   "cell_type": "markdown",
   "id": "0cdbd5e3",
   "metadata": {},
   "source": [
    "**Criando datetime UTC atual**\n",
    "<br>\n",
    "\n",
    "O recomendado é usar a mesma estrutura acima para cirar datetime do utc. Não é recomendado usar o método utcnow() para o mesmo fim porque utcnow retorna uma instancia *naive* enquanto o método abaixo retornará uma instancia *aware*. Veremos logo mais abaixo a diferença entre essas duas nomenclaturas."
   ]
  },
  {
   "cell_type": "code",
   "execution_count": 22,
   "id": "b4b9b92b",
   "metadata": {},
   "outputs": [
    {
     "data": {
      "text/plain": [
       "datetime.datetime(2022, 2, 16, 2, 6, 13, 682279, tzinfo=tzutc())"
      ]
     },
     "execution_count": 22,
     "metadata": {},
     "output_type": "execute_result"
    }
   ],
   "source": [
    "now = datetime.now(tz=tz.UTC)\n",
    "now"
   ]
  },
  {
   "cell_type": "code",
   "execution_count": 23,
   "id": "5eacfbc8",
   "metadata": {},
   "outputs": [
    {
     "data": {
      "text/plain": [
       "'UTC'"
      ]
     },
     "execution_count": 23,
     "metadata": {},
     "output_type": "execute_result"
    }
   ],
   "source": [
    "now.tzname()"
   ]
  },
  {
   "cell_type": "markdown",
   "id": "c796b10c",
   "metadata": {},
   "source": [
    ">Perceba que aqui o programa sabe com qual tipo de timezone ele está lidando, que é o UTC."
   ]
  },
  {
   "cell_type": "markdown",
   "id": "56b1f9b8",
   "metadata": {},
   "source": [
    "### Comparando as instancias de datetime *Naive* e *Aware*"
   ]
  },
  {
   "cell_type": "markdown",
   "id": "03e7cae1",
   "metadata": {},
   "source": [
    "**Naive**: Não contém informação de timezone\n",
    "<br>\n",
    "**Aware**: Ciente da timezone sendo manipulada. Recomendado utilizar caso esteja comparando tempos de diferentes partes do mundo"
   ]
  },
  {
   "cell_type": "markdown",
   "id": "50be7f55",
   "metadata": {},
   "source": [
    "### Melhorando a contagem regressiva para o PyCon US\n",
    "\n",
    "Aqui vamos utilizar a classe dateutil.parser para que o programa leia input de data na linguagem natural"
   ]
  },
  {
   "cell_type": "code",
   "execution_count": 24,
   "id": "edfc388b",
   "metadata": {},
   "outputs": [],
   "source": [
    "from dateutil import parser, tz\n",
    "from datetime import datetime"
   ]
  },
  {
   "cell_type": "code",
   "execution_count": 25,
   "id": "eb3d81fc",
   "metadata": {},
   "outputs": [
    {
     "name": "stdout",
     "output_type": "stream",
     "text": [
      "Contagem para o próximo PyCon: 70 days, 9:53:46.304500\n"
     ]
    }
   ],
   "source": [
    "pycon_date = parser.parse(\"April 27th, 2022 08:00 AM\")\n",
    "pycon_date = pycon_date.replace(tzinfo=tz.gettz(\"America/New_York\"))\n",
    "now = datetime.now(tz=tz.tzlocal())\n",
    "\n",
    "countdown = pycon_date - now\n",
    "print(f\"Contagem para o próximo PyCon: {countdown}\")"
   ]
  },
  {
   "cell_type": "markdown",
   "id": "6cfa52e3",
   "metadata": {},
   "source": [
    ">1. Utilizamos o dateutil.parser para armazenar a data do PyCon no formato string\n",
    ">2. Aqui adicionamos a informação de timezone, transformando a variável de naive para aware\n",
    ">3. Instanciamos o momento presente local\n",
    ">5. Calculamos a diferença entre o momento atual e a PyCon"
   ]
  },
  {
   "cell_type": "markdown",
   "id": "dd3bfb4d",
   "metadata": {},
   "source": [
    "### Fazendo contas com datetime\n",
    "<br>\n",
    "\n",
    "Como já vimos, a instancia timedelta representa o intervalo de tempo. Ela também é uma classe de datetime e utilizamos para fazer aritimética com grandezas de tempo"
   ]
  },
  {
   "cell_type": "code",
   "execution_count": 26,
   "id": "b8d384a4",
   "metadata": {},
   "outputs": [],
   "source": [
    "from datetime import datetime, timedelta"
   ]
  },
  {
   "cell_type": "code",
   "execution_count": 27,
   "id": "82e6ad78",
   "metadata": {},
   "outputs": [
    {
     "data": {
      "text/plain": [
       "datetime.datetime(2022, 2, 16, 23, 6, 13, 702212)"
      ]
     },
     "execution_count": 27,
     "metadata": {},
     "output_type": "execute_result"
    }
   ],
   "source": [
    "now = datetime.now()\n",
    "tomorrow = now + timedelta(days=1)\n",
    "tomorrow"
   ]
  },
  {
   "cell_type": "markdown",
   "id": "42c5af1e",
   "metadata": {},
   "source": [
    ">1. Criamos o momento atual\n",
    ">2. Adicionamos 1 dia após esse momento atual e atribuímos o nome de tomorrow\n",
    ">3. Retornamos o que tem guardado dentro desta variável"
   ]
  },
  {
   "cell_type": "markdown",
   "id": "19f60fa3",
   "metadata": {},
   "source": [
    "#### timedelta suporta valores negativos também para diminuirmos valores de tempo"
   ]
  },
  {
   "cell_type": "code",
   "execution_count": 28,
   "id": "422f46c5",
   "metadata": {},
   "outputs": [],
   "source": [
    "ontem = timedelta(days=-1)"
   ]
  },
  {
   "cell_type": "code",
   "execution_count": 29,
   "id": "a0eae9e2",
   "metadata": {},
   "outputs": [
    {
     "data": {
      "text/plain": [
       "datetime.datetime(2022, 2, 14, 23, 6, 13, 702212)"
      ]
     },
     "execution_count": 29,
     "metadata": {},
     "output_type": "execute_result"
    }
   ],
   "source": [
    "now + ontem"
   ]
  },
  {
   "cell_type": "markdown",
   "id": "d36f400d",
   "metadata": {},
   "source": [
    "#### Além disso podemos também fazer um cálculo mais complexo e fornecer um mix de valores positivos e negativos dentro de timedelta.\n",
    "<br>\n",
    "\n",
    "#### No código abaixo por exemplo vamos adicionar 1 dia e subtrair 4 horas à instancia now."
   ]
  },
  {
   "cell_type": "code",
   "execution_count": 30,
   "id": "2a01a45f",
   "metadata": {},
   "outputs": [],
   "source": [
    "delta = timedelta(days=+1, hours=-4)"
   ]
  },
  {
   "cell_type": "code",
   "execution_count": 31,
   "id": "e1676f90",
   "metadata": {},
   "outputs": [
    {
     "data": {
      "text/plain": [
       "datetime.datetime(2022, 2, 15, 23, 6, 13, 702212)"
      ]
     },
     "execution_count": 31,
     "metadata": {},
     "output_type": "execute_result"
    }
   ],
   "source": [
    "now"
   ]
  },
  {
   "cell_type": "code",
   "execution_count": 32,
   "id": "bf959a5e",
   "metadata": {},
   "outputs": [
    {
     "data": {
      "text/plain": [
       "'Wed Feb 16 19:06:13 2022'"
      ]
     },
     "execution_count": 32,
     "metadata": {},
     "output_type": "execute_result"
    }
   ],
   "source": [
    "(now + delta).strftime(\"%c\")"
   ]
  },
  {
   "cell_type": "markdown",
   "id": "355bc8ef",
   "metadata": {},
   "source": [
    "#### No entanto, o timedelta do módulo datetime é limitado uma vez que ele não suporta operações do que a grandeza dia, como mês ou ano por exemplo.\n",
    "<br>\n",
    "\n",
    "#### Felizmente, a biblioteca dateutil tem uma classe chamada relativedelta que substitui o timedelta com melhores funções. A sintaxe é muito similar com a de timedelta, ou seja, basta fornecer argumentos de quantidade de dias, horas, meses, anos, minutos etc. Veja abaixo:"
   ]
  },
  {
   "cell_type": "code",
   "execution_count": 33,
   "id": "0f896f13",
   "metadata": {},
   "outputs": [],
   "source": [
    "from dateutil.relativedelta import relativedelta"
   ]
  },
  {
   "cell_type": "code",
   "execution_count": 34,
   "id": "edd31591",
   "metadata": {},
   "outputs": [],
   "source": [
    "tomorrow = relativedelta(days=+1)"
   ]
  },
  {
   "cell_type": "code",
   "execution_count": 35,
   "id": "b5025080",
   "metadata": {},
   "outputs": [
    {
     "data": {
      "text/plain": [
       "datetime.datetime(2022, 2, 16, 23, 6, 13, 702212)"
      ]
     },
     "execution_count": 35,
     "metadata": {},
     "output_type": "execute_result"
    }
   ],
   "source": [
    "tomorrow = now + tomorrow\n",
    "tomorrow"
   ]
  },
  {
   "cell_type": "markdown",
   "id": "8a13074c",
   "metadata": {},
   "source": [
    "#### Agora vamos deixar a continha acima um pouco mais complexa:"
   ]
  },
  {
   "cell_type": "code",
   "execution_count": 36,
   "id": "15419cf6",
   "metadata": {},
   "outputs": [],
   "source": [
    "delta = relativedelta(years=+5, months=+2, days=+2, hours=-10, minutes=-15)"
   ]
  },
  {
   "cell_type": "code",
   "execution_count": 37,
   "id": "6e388dd8",
   "metadata": {},
   "outputs": [
    {
     "data": {
      "text/plain": [
       "datetime.datetime(2027, 4, 17, 12, 51, 13, 702212)"
      ]
     },
     "execution_count": 37,
     "metadata": {},
     "output_type": "execute_result"
    }
   ],
   "source": [
    "now + delta"
   ]
  },
  {
   "cell_type": "markdown",
   "id": "cc76396c",
   "metadata": {},
   "source": [
    "#### O relativedelta também aceita instancias de datetime como argumento e calcula o intervalo de tempo entre eles"
   ]
  },
  {
   "cell_type": "code",
   "execution_count": 38,
   "id": "8463abf8",
   "metadata": {},
   "outputs": [
    {
     "data": {
      "text/plain": [
       "datetime.datetime(2022, 2, 15, 23, 6, 13, 702212)"
      ]
     },
     "execution_count": 38,
     "metadata": {},
     "output_type": "execute_result"
    }
   ],
   "source": [
    "now"
   ]
  },
  {
   "cell_type": "code",
   "execution_count": 39,
   "id": "258c5443",
   "metadata": {},
   "outputs": [
    {
     "data": {
      "text/plain": [
       "datetime.datetime(2022, 2, 16, 23, 6, 13, 702212)"
      ]
     },
     "execution_count": 39,
     "metadata": {},
     "output_type": "execute_result"
    }
   ],
   "source": [
    "tomorrow"
   ]
  },
  {
   "cell_type": "code",
   "execution_count": 40,
   "id": "bffac839",
   "metadata": {},
   "outputs": [
    {
     "data": {
      "text/plain": [
       "relativedelta(days=-1)"
      ]
     },
     "execution_count": 40,
     "metadata": {},
     "output_type": "execute_result"
    }
   ],
   "source": [
    "relativedelta(now, tomorrow)"
   ]
  },
  {
   "cell_type": "markdown",
   "id": "845f6728",
   "metadata": {},
   "source": [
    "> Veja que ele retorna uma instancia de relativedelta indicando a diferença. \n",
    "\n",
    "> O relativedelta possiblita muita mais cálculos de tempo como qual será a proxima sexta-feira daqui a 40 dias?\n",
    "\n",
    "> [Link para documentação completa do relativedelta](https://dateutil.readthedocs.io/en/stable/examples.html#relativedelta-examples)"
   ]
  },
  {
   "cell_type": "code",
   "execution_count": 41,
   "id": "ae9074a5",
   "metadata": {},
   "outputs": [
    {
     "data": {
      "text/plain": [
       "datetime.date(2022, 3, 10)"
      ]
     },
     "execution_count": 41,
     "metadata": {},
     "output_type": "execute_result"
    }
   ],
   "source": [
    "today = date.today()\n",
    "today + relativedelta(months=+1, days=-5, weekday=3)"
   ]
  },
  {
   "cell_type": "markdown",
   "id": "fd09f231",
   "metadata": {},
   "source": [
    ">1. Instanciando a data de hoje\n",
    "\n",
    ">2. Respondendo a pergunta: quando será a próxima quinta-feira daqui a 1 mês e menos 5 dias?"
   ]
  },
  {
   "cell_type": "code",
   "execution_count": 62,
   "id": "7b0dd14f",
   "metadata": {},
   "outputs": [],
   "source": [
    "from datetime import *; from dateutil.relativedelta import *\n",
    "import calendar"
   ]
  },
  {
   "cell_type": "code",
   "execution_count": 63,
   "id": "9784b298",
   "metadata": {},
   "outputs": [],
   "source": [
    "now = date.today()"
   ]
  },
  {
   "cell_type": "code",
   "execution_count": 64,
   "id": "848ccf85",
   "metadata": {},
   "outputs": [
    {
     "data": {
      "text/plain": [
       "datetime.date(2022, 2, 19)"
      ]
     },
     "execution_count": 64,
     "metadata": {},
     "output_type": "execute_result"
    }
   ],
   "source": [
    "now + relativedelta(weekday=5)"
   ]
  },
  {
   "cell_type": "markdown",
   "id": "f3d041b9",
   "metadata": {},
   "source": [
    ">O código acima responde: quando será o próximo sábado?"
   ]
  },
  {
   "cell_type": "markdown",
   "id": "0bbf26f4",
   "metadata": {},
   "source": [
    "Usando calensar para saber o número que representa o dia na semana"
   ]
  },
  {
   "cell_type": "code",
   "execution_count": 61,
   "id": "5155e474",
   "metadata": {},
   "outputs": [
    {
     "data": {
      "text/plain": [
       "5"
      ]
     },
     "execution_count": 61,
     "metadata": {},
     "output_type": "execute_result"
    }
   ],
   "source": [
    "calendar.SATURDAY"
   ]
  },
  {
   "cell_type": "markdown",
   "id": "21ea5304",
   "metadata": {},
   "source": [
    "### Aprimorando o contador para a próxima PyCon"
   ]
  },
  {
   "cell_type": "code",
   "execution_count": 42,
   "id": "9e4dd542",
   "metadata": {},
   "outputs": [],
   "source": [
    "from dateutil import parser, tz\n",
    "from dateutil.relativedelta import relativedelta\n",
    "from datetime import datetime"
   ]
  },
  {
   "cell_type": "markdown",
   "id": "0c9cc22e",
   "metadata": {},
   "source": [
    "Para um cálculo de tempo melhor, primeiro passo será substituir a subtração de pycon_date e now e colocá-los como argumento de relativedelta(). Isso acontece na linha 5"
   ]
  },
  {
   "cell_type": "code",
   "execution_count": 43,
   "id": "b4afa6f7",
   "metadata": {},
   "outputs": [
    {
     "name": "stdout",
     "output_type": "stream",
     "text": [
      "Countdown to PyCon US 2021: relativedelta(months=+2, days=+11, hours=+9, minutes=+53, seconds=+46, microseconds=+236489)\n"
     ]
    }
   ],
   "source": [
    "PYCON_DATE = parser.parse(\"April 27th, 2022 8:00 AM\")\n",
    "PYCON_DATE = PYCON_DATE.replace(tzinfo=tz.gettz(\"America/New_York\"))\n",
    "now = datetime.now(tz=tz.tzlocal())\n",
    "\n",
    "countdown = relativedelta(PYCON_DATE, now)\n",
    "print(f\"Countdown to PyCon US 2021: {countdown}\")"
   ]
  },
  {
   "cell_type": "markdown",
   "id": "c78838e2",
   "metadata": {},
   "source": [
    ">Melhorou bastante a forma de contagem do tempo, já que antes o cálculo com datetime só mostrava o total de dias e agora temos separado por meses, dias, horas etc.\n",
    "\n",
    ">No código abaixo vamos melhorar esse output"
   ]
  },
  {
   "cell_type": "code",
   "execution_count": 44,
   "id": "a4184a00",
   "metadata": {},
   "outputs": [
    {
     "name": "stdout",
     "output_type": "stream",
     "text": [
      "Countdown to PyCon US 2021: 2 months, 11 days, 9 hours, 53 minutes, 46 seconds\n"
     ]
    }
   ],
   "source": [
    "def time_amount(time_unit: str, countdown: relativedelta) -> str:\n",
    "    t = getattr(countdown, time_unit)\n",
    "    return f\"{t} {time_unit}\" if t != 0 else \"\"\n",
    "\n",
    "countdown = relativedelta(PYCON_DATE, now)\n",
    "time_units = [\"years\", \"months\", \"days\", \"hours\", \"minutes\", \"seconds\"]\n",
    "output = (t for tu in time_units if (t := time_amount(tu, countdown)))\n",
    "print(\"Countdown to PyCon US 2021:\", \", \".join(output))"
   ]
  },
  {
   "cell_type": "markdown",
   "id": "97eeafcf",
   "metadata": {},
   "source": [
    ">1. Definimos a função para retornar a combinação da quantidade de tempo e da dimensão se ela existir. Para isso usamos o getattr() que vai tentar capturar cada elemento dentro da lista time_units. O getattr vai aceitar o relativedelta e tentar acessar cada atributo da lista time_units. Caso este elemento exista (retorne diferente de zero), será feita uma string combinando os 2 elementos. Caso não exista retornará uma string vazia.\n",
    "\n",
    ">5. Fazemos a conta para instanciar num objeto relativedelta\n",
    "\n",
    ">6. Lista que será usada para percorrer cada elemento\n",
    "\n",
    ">7. Fazemos uma comprehension para aplicar a função time_amount em cada elemento da lista time_units. Aqui aplicamos também o walrus operator para que o valor de t seja atualizado"
   ]
  },
  {
   "cell_type": "markdown",
   "id": "dd8b237b",
   "metadata": {},
   "source": [
    "### Strftime\n",
    "\n",
    "Faz o reverso de strptime, ou seja, formata uma instancia de datetime para string. \n",
    "<br>\n",
    "Strptime lê em string e parseia para uma instancia de datetime. \n",
    "<br>\n",
    "F para formatar e P para parsear"
   ]
  },
  {
   "cell_type": "code",
   "execution_count": 45,
   "id": "33f9f3eb",
   "metadata": {},
   "outputs": [
    {
     "name": "stdout",
     "output_type": "stream",
     "text": [
      "PyCon US 2021 will start on: Wednesday, April 27, 2022 at 08:00 AM EDT\n",
      "Countdown to PyCon US 2021: \n"
     ]
    }
   ],
   "source": [
    "pycon_date_str = PYCON_DATE.strftime(\"%A, %B %d, %Y at %H:%M %p %Z\")\n",
    "print(f\"PyCon US 2021 will start on:\", pycon_date_str)\n",
    "print(\"Countdown to PyCon US 2021:\", \", \".join(output))"
   ]
  },
  {
   "cell_type": "markdown",
   "id": "56d4e2e3",
   "metadata": {},
   "source": [
    "### Finalizando o programa de contagem"
   ]
  },
  {
   "cell_type": "markdown",
   "id": "0e879b8f",
   "metadata": {},
   "source": [
    "Finalizando com as boas práticas do python, agora temos que colocar nosso programa numa função main().\n",
    "<br>\n",
    "\n",
    "Nossa versão final do programa ficou conforme abaixo:"
   ]
  },
  {
   "cell_type": "code",
   "execution_count": 56,
   "id": "eae8ac8a",
   "metadata": {},
   "outputs": [
    {
     "name": "stdout",
     "output_type": "stream",
     "text": [
      "PyCon US 2021 will start on: Wednesday, May 12, 2021 at 08:00 AM EDT\n",
      "Countdown to PyCon US 2021: -9 months, -3 days, -14 hours, -9 minutes, -15 seconds\n"
     ]
    }
   ],
   "source": [
    "from dateutil import parser, tz\n",
    "from dateutil.relativedelta import relativedelta\n",
    "from datetime import datetime\n",
    "\n",
    "PYCON_DATE = parser.parse(\"May 12, 2021 8:00 AM\")\n",
    "PYCON_DATE = PYCON_DATE.replace(tzinfo=tz.gettz(\"America/New_York\"))\n",
    "\n",
    "def time_amount(time_unit: str, countdown: relativedelta) -> str:\n",
    "    t = getattr(countdown, time_unit)\n",
    "    return f\"{t} {time_unit}\" if t != 0 else \"\"\n",
    "\n",
    "def main():\n",
    "    now = datetime.now(tz=tz.tzlocal())\n",
    "    countdown = relativedelta(PYCON_DATE, now)\n",
    "    time_units = [\"years\", \"months\", \"days\", \"hours\", \"minutes\", \"seconds\"]\n",
    "    output = (t for tu in time_units if (t := time_amount(tu, countdown)))\n",
    "    pycon_date_str = PYCON_DATE.strftime(\"%A, %B %d, %Y at %H:%M %p %Z\")\n",
    "    print(f\"PyCon US 2021 will start on:\", pycon_date_str)\n",
    "    print(\"Countdown to PyCon US 2021:\", \", \".join(output))\n",
    "\n",
    "if __name__ == \"__main__\":\n",
    "    main()"
   ]
  },
  {
   "cell_type": "markdown",
   "id": "3bb5f114",
   "metadata": {},
   "source": [
    "O que fizemos aí foi mover o gerador e os prints para dentro da função main().\n",
    "<br>\n",
    "\n",
    "Na linha 21 a gente usa a **guard clause**, que garante que a função main() só rodará quando este arquivo for executado como script. Isso permite que outras pessoas importem este código e usem da forma que desejarem.\n",
    "<br>\n",
    "\n",
    "Além disso, o código acima ainda poderia ter outras modificações. Como, por exemplo permitir que o usuário altere as variáveis de data ou timezone passando o argumento através da linha de comando."
   ]
  },
  {
   "cell_type": "code",
   "execution_count": null,
   "id": "8ecb9c2a",
   "metadata": {},
   "outputs": [],
   "source": []
  }
 ],
 "metadata": {
  "kernelspec": {
   "display_name": "Python 3 (ipykernel)",
   "language": "python",
   "name": "python3"
  },
  "language_info": {
   "codemirror_mode": {
    "name": "ipython",
    "version": 3
   },
   "file_extension": ".py",
   "mimetype": "text/x-python",
   "name": "python",
   "nbconvert_exporter": "python",
   "pygments_lexer": "ipython3",
   "version": "3.8.12"
  }
 },
 "nbformat": 4,
 "nbformat_minor": 5
}
