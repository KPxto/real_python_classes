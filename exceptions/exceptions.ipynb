{
 "cells": [
  {
   "cell_type": "code",
   "execution_count": 1,
   "id": "191f16a3",
   "metadata": {},
   "outputs": [],
   "source": [
    "import sys"
   ]
  },
  {
   "cell_type": "markdown",
   "id": "c2b2c3e4",
   "metadata": {},
   "source": [
    "---"
   ]
  },
  {
   "cell_type": "markdown",
   "id": "dfaa9e81",
   "metadata": {},
   "source": [
    "## Exceptions vs Syntax Errors"
   ]
  },
  {
   "cell_type": "markdown",
   "id": "5a5bdb5e",
   "metadata": {},
   "source": [
    "**Erro de síntase**"
   ]
  },
  {
   "cell_type": "markdown",
   "id": "355ee4be",
   "metadata": {},
   "source": [
    "Quando o erro acontece quando o python está fazendo o parsing do código. Ou seja, percorrendo cada caractere e fazendo a leitura. \n",
    "<br>\n",
    "O erro acontece quando python encontra algo inválido e não entende o que vc quis dizer."
   ]
  },
  {
   "cell_type": "code",
   "execution_count": 2,
   "id": "445e6d78",
   "metadata": {},
   "outputs": [
    {
     "ename": "SyntaxError",
     "evalue": "unmatched ')' (3749974017.py, line 1)",
     "output_type": "error",
     "traceback": [
      "\u001b[0;36m  File \u001b[0;32m\"/tmp/ipykernel_205721/3749974017.py\"\u001b[0;36m, line \u001b[0;32m1\u001b[0m\n\u001b[0;31m    print(4/2))\u001b[0m\n\u001b[0m              ^\u001b[0m\n\u001b[0;31mSyntaxError\u001b[0m\u001b[0;31m:\u001b[0m unmatched ')'\n"
     ]
    }
   ],
   "source": [
    "print(4/2))"
   ]
  },
  {
   "cell_type": "markdown",
   "id": "3d1df43e",
   "metadata": {},
   "source": [
    ">No exemplo acima tem um excesso de parêntese no final. Isso vai dar erro de síntase pois essa estrutura não é reconhecida pelo python."
   ]
  },
  {
   "cell_type": "markdown",
   "id": "22b0ec28",
   "metadata": {},
   "source": [
    "**Exception**"
   ]
  },
  {
   "cell_type": "markdown",
   "id": "22ba64ef",
   "metadata": {},
   "source": [
    "Acontece durante a execução.\n",
    "<br>\n",
    "A sintaxe do código pode estar correta, mas o código não é executável."
   ]
  },
  {
   "cell_type": "code",
   "execution_count": null,
   "id": "32abb56d",
   "metadata": {},
   "outputs": [],
   "source": [
    "print(3 / 0)"
   ]
  },
  {
   "cell_type": "markdown",
   "id": "dedb9b04",
   "metadata": {},
   "source": [
    ">O código acima foi escrito de forma correta. O python consegue ler e entender traquilamente. Porém, o erro acontece porque vc não pode dividir nenhum número por zero."
   ]
  },
  {
   "cell_type": "markdown",
   "id": "0cf543cf",
   "metadata": {},
   "source": [
    "## Raise"
   ]
  },
  {
   "cell_type": "markdown",
   "id": "2ddc77f9",
   "metadata": {},
   "source": [
    "A palavra reservada **raise** serve para criar uma exceção no código e terminar o programa. \n",
    "<br>\n",
    "Na linha abaixo criamos um erro com Exception() e inserimos uma mensagem dentro"
   ]
  },
  {
   "cell_type": "code",
   "execution_count": null,
   "id": "5b6fe8e8",
   "metadata": {},
   "outputs": [],
   "source": [
    "raise Exception(\"oops...\")"
   ]
  },
  {
   "cell_type": "markdown",
   "id": "1720a9e6",
   "metadata": {},
   "source": [
    "Para contextualizar vamos escrever um código que utiliza um raise\n",
    "<br>\n",
    "\n",
    "Vamos escrever um programa que identifica o sistema operacional do usuário e levanta um erro quando este não for windows"
   ]
  },
  {
   "cell_type": "code",
   "execution_count": 5,
   "id": "50346c77",
   "metadata": {},
   "outputs": [
    {
     "name": "stdout",
     "output_type": "stream",
     "text": [
      "linux\n"
     ]
    }
   ],
   "source": [
    "# com o módulo sys podemos descobrir nosso OS\n",
    "print(sys.platform)"
   ]
  },
  {
   "cell_type": "code",
   "execution_count": 6,
   "id": "93af4d25",
   "metadata": {},
   "outputs": [
    {
     "ename": "Exception",
     "evalue": "oops",
     "output_type": "error",
     "traceback": [
      "\u001b[0;31m---------------------------------------------------------------------------\u001b[0m",
      "\u001b[0;31mException\u001b[0m                                 Traceback (most recent call last)",
      "\u001b[0;32m/tmp/ipykernel_205721/495765879.py\u001b[0m in \u001b[0;36m<module>\u001b[0;34m\u001b[0m\n\u001b[1;32m      1\u001b[0m \u001b[0;31m# se o sistema não for linux, levante uma exceção com a mensagem 'oops'\u001b[0m\u001b[0;34m\u001b[0m\u001b[0;34m\u001b[0m\u001b[0;34m\u001b[0m\u001b[0m\n\u001b[1;32m      2\u001b[0m \u001b[0;32mif\u001b[0m \u001b[0;32mnot\u001b[0m \u001b[0msys\u001b[0m\u001b[0;34m.\u001b[0m\u001b[0mplatform\u001b[0m\u001b[0;34m.\u001b[0m\u001b[0mstartswith\u001b[0m\u001b[0;34m(\u001b[0m\u001b[0;34m\"windows\"\u001b[0m\u001b[0;34m)\u001b[0m\u001b[0;34m:\u001b[0m\u001b[0;34m\u001b[0m\u001b[0;34m\u001b[0m\u001b[0m\n\u001b[0;32m----> 3\u001b[0;31m     \u001b[0;32mraise\u001b[0m \u001b[0mException\u001b[0m\u001b[0;34m(\u001b[0m\u001b[0;34m\"oops\"\u001b[0m\u001b[0;34m)\u001b[0m\u001b[0;34m\u001b[0m\u001b[0;34m\u001b[0m\u001b[0m\n\u001b[0m",
      "\u001b[0;31mException\u001b[0m: oops"
     ]
    }
   ],
   "source": [
    "# se o sistema não for linux, levante uma exceção com a mensagem 'oops'\n",
    "if not sys.platform.startswith(\"windows\"):\n",
    "    raise Exception(\"oops\")"
   ]
  },
  {
   "cell_type": "code",
   "execution_count": 7,
   "id": "bb8cd250",
   "metadata": {},
   "outputs": [
    {
     "ename": "Exception",
     "evalue": "oops",
     "output_type": "error",
     "traceback": [
      "\u001b[0;31m---------------------------------------------------------------------------\u001b[0m",
      "\u001b[0;31mException\u001b[0m                                 Traceback (most recent call last)",
      "\u001b[0;32m/tmp/ipykernel_205721/275786268.py\u001b[0m in \u001b[0;36m<module>\u001b[0;34m\u001b[0m\n\u001b[1;32m      1\u001b[0m \u001b[0;32mif\u001b[0m \u001b[0;32mnot\u001b[0m \u001b[0msys\u001b[0m\u001b[0;34m.\u001b[0m\u001b[0mplatform\u001b[0m\u001b[0;34m.\u001b[0m\u001b[0mstartswith\u001b[0m\u001b[0;34m(\u001b[0m\u001b[0;34m\"windows\"\u001b[0m\u001b[0;34m)\u001b[0m\u001b[0;34m:\u001b[0m\u001b[0;34m\u001b[0m\u001b[0;34m\u001b[0m\u001b[0m\n\u001b[0;32m----> 2\u001b[0;31m     \u001b[0;32mraise\u001b[0m \u001b[0mException\u001b[0m\u001b[0;34m(\u001b[0m\u001b[0;34m\"oops\"\u001b[0m\u001b[0;34m)\u001b[0m\u001b[0;34m\u001b[0m\u001b[0;34m\u001b[0m\u001b[0m\n\u001b[0m\u001b[1;32m      3\u001b[0m \u001b[0;34m\u001b[0m\u001b[0m\n\u001b[1;32m      4\u001b[0m \u001b[0mprint\u001b[0m\u001b[0;34m(\u001b[0m\u001b[0;34m\"hello\"\u001b[0m\u001b[0;34m)\u001b[0m\u001b[0;34m\u001b[0m\u001b[0;34m\u001b[0m\u001b[0m\n",
      "\u001b[0;31mException\u001b[0m: oops"
     ]
    }
   ],
   "source": [
    "if not sys.platform.startswith(\"windows\"):\n",
    "    raise Exception(\"oops\")\n",
    "\n",
    "print(\"hello\")"
   ]
  },
  {
   "cell_type": "markdown",
   "id": "d1fe59b1",
   "metadata": {},
   "source": [
    ">Veja que quando um erro é levantado o processo para ali e nenhum código adiante é executado"
   ]
  },
  {
   "cell_type": "markdown",
   "id": "1c7b7afa",
   "metadata": {},
   "source": [
    "**Podemos criar nossa própria exceção**\n",
    "<br>\n",
    "\n",
    "Para isso, basta criar uma classe herdeira de Exception()"
   ]
  },
  {
   "cell_type": "code",
   "execution_count": 3,
   "id": "fdaf1839",
   "metadata": {},
   "outputs": [],
   "source": [
    "class SistemaErrado(Exception):\n",
    "    pass"
   ]
  },
  {
   "cell_type": "code",
   "execution_count": 4,
   "id": "653e8164",
   "metadata": {},
   "outputs": [
    {
     "ename": "SistemaErrado",
     "evalue": "Sistema Operacional Errado!",
     "output_type": "error",
     "traceback": [
      "\u001b[0;31m---------------------------------------------------------------------------\u001b[0m",
      "\u001b[0;31mSistemaErrado\u001b[0m                             Traceback (most recent call last)",
      "\u001b[0;32m/tmp/ipykernel_205721/947465906.py\u001b[0m in \u001b[0;36m<module>\u001b[0;34m\u001b[0m\n\u001b[1;32m      1\u001b[0m \u001b[0;32mif\u001b[0m \u001b[0;32mnot\u001b[0m \u001b[0msys\u001b[0m\u001b[0;34m.\u001b[0m\u001b[0mplatform\u001b[0m\u001b[0;34m.\u001b[0m\u001b[0mstartswith\u001b[0m\u001b[0;34m(\u001b[0m\u001b[0;34m\"windows\"\u001b[0m\u001b[0;34m)\u001b[0m\u001b[0;34m:\u001b[0m\u001b[0;34m\u001b[0m\u001b[0;34m\u001b[0m\u001b[0m\n\u001b[0;32m----> 2\u001b[0;31m     \u001b[0;32mraise\u001b[0m \u001b[0mSistemaErrado\u001b[0m\u001b[0;34m(\u001b[0m\u001b[0;34m\"Sistema Operacional Errado!\"\u001b[0m\u001b[0;34m)\u001b[0m\u001b[0;34m\u001b[0m\u001b[0;34m\u001b[0m\u001b[0m\n\u001b[0m",
      "\u001b[0;31mSistemaErrado\u001b[0m: Sistema Operacional Errado!"
     ]
    }
   ],
   "source": [
    "if not sys.platform.startswith(\"windows\"):\n",
    "    raise SistemaErrado(\"Sistema Operacional Errado!\")"
   ]
  },
  {
   "cell_type": "markdown",
   "id": "47499e0c",
   "metadata": {},
   "source": [
    "## Assert"
   ]
  },
  {
   "cell_type": "markdown",
   "id": "8cfb2040",
   "metadata": {},
   "source": [
    "Assert vem do ingles assegurar. No python é uma forma de assegurar que certa condição seja cumprida. \n",
    "<br>\n",
    "Caso contrário levantará um erro de **AssertionError**"
   ]
  },
  {
   "cell_type": "markdown",
   "id": "7e0b2a3d",
   "metadata": {},
   "source": [
    "Vamos dar uma leve modificada no código anterior"
   ]
  },
  {
   "cell_type": "code",
   "execution_count": null,
   "id": "18148ae5",
   "metadata": {},
   "outputs": [],
   "source": [
    "if not sys.platform.startswith(\"windows\"):\n",
    "    raise AssertionError(\"Sistema Operacional Errado!\")"
   ]
  },
  {
   "cell_type": "markdown",
   "id": "d444911a",
   "metadata": {},
   "source": [
    ">Ele faz a mesma coisa, ou seja, checa o sistema e levanta um erro caso não seja o definido. Veja que aqui utilizamos o built-in AssertionError"
   ]
  },
  {
   "cell_type": "markdown",
   "id": "7eb8f711",
   "metadata": {},
   "source": [
    "Podemos escrever o mesmo código acima em apenas uma linha de código\n",
    "<br>\n",
    "Para isso usamos o **assert**"
   ]
  },
  {
   "cell_type": "code",
   "execution_count": null,
   "id": "73f6116d",
   "metadata": {},
   "outputs": [],
   "source": [
    "assert sys.platform.startswith(\"liunux\"), \"Sistema Errado!\""
   ]
  },
  {
   "cell_type": "markdown",
   "id": "823682cb",
   "metadata": {},
   "source": [
    ">Os código tem o mesmo efeito, porém com menos escrita"
   ]
  },
  {
   "cell_type": "markdown",
   "id": "deb9ab99",
   "metadata": {},
   "source": [
    "Apesar de parecer pythonico com a economia de código, o assert só é recomendado no modo debug e não deve ser utilizado para código em produção."
   ]
  },
  {
   "cell_type": "code",
   "execution_count": null,
   "id": "ecd047ad",
   "metadata": {},
   "outputs": [],
   "source": [
    "def soma(x, y):\n",
    "    assert sys.platform.startswith('windows'), \"Sistema errado!\"\n",
    "    return x + y"
   ]
  },
  {
   "cell_type": "code",
   "execution_count": null,
   "id": "7db11433",
   "metadata": {},
   "outputs": [],
   "source": [
    "soma(1, 2)"
   ]
  },
  {
   "cell_type": "code",
   "execution_count": null,
   "id": "efc7b098",
   "metadata": {},
   "outputs": [],
   "source": [
    "x = 1\n",
    "y = 0\n",
    "assert y != 0 , \"Division by zero not possible!\"\n",
    "print(x / y)"
   ]
  },
  {
   "cell_type": "markdown",
   "id": "d1179d21",
   "metadata": {},
   "source": [
    "A razão de não utilizar o assert em produção é porque quando está nesse modo o seu código já é esperado estar otimizado e, portanto, qualquer verificação com assert será ignorada.\n",
    "<br>\n",
    "\n",
    "Se você quer criar uma exceção no seu código seja explícito e faça isso com o raise, como no primeiro exeplo acima sobre asert.\n",
    "<br>\n",
    "\n",
    "A boa prática recomenda colocar o AssertionError dentro da condição if __debug__ conforme abaixo:"
   ]
  },
  {
   "cell_type": "code",
   "execution_count": null,
   "id": "9ebcb496",
   "metadata": {},
   "outputs": [],
   "source": [
    "# 1\n",
    "assert sys.platform.startswith('windows'), \"Sistema Errado!\""
   ]
  },
  {
   "cell_type": "code",
   "execution_count": null,
   "id": "36c581f5",
   "metadata": {},
   "outputs": [],
   "source": [
    "# 2\n",
    "if __debug__:\n",
    "    if sys.platform.startswith('windows'):\n",
    "        raise AssertionError('Sistema Errado!')"
   ]
  },
  {
   "cell_type": "markdown",
   "id": "b28a5300",
   "metadata": {},
   "source": [
    ">O código 2 acima é o recomendado para pontos críticos do código. Ou seja, explícito é melhor que implícito"
   ]
  },
  {
   "cell_type": "markdown",
   "id": "f17dedfd",
   "metadata": {},
   "source": [
    "Nos casos de debugging, o **assert** também é muito utilizado para casos em que uma condição não pode sair dos limites das leis naturais e lógicas.\n",
    "<br>\n",
    "Como por exemplo no código abaixo:"
   ]
  },
  {
   "cell_type": "code",
   "execution_count": null,
   "id": "73bc38d0",
   "metadata": {},
   "outputs": [],
   "source": [
    "def hours_per_day(h):\n",
    "    assert str(h) <= '24', \"O dia não pode ter mais de 24 horas.\" \n",
    "    print(f\"Total horas de estudos: {h}\")"
   ]
  },
  {
   "cell_type": "markdown",
   "id": "fea4859b",
   "metadata": {},
   "source": [
    ">No código acima o usuário não pode colocar uma quantidade diária de mais de 24 horas. Isto é foge às leis universais."
   ]
  },
  {
   "cell_type": "markdown",
   "id": "12e65330",
   "metadata": {},
   "source": [
    "O objetivo de utilizar assert dentro do código é para encontrar bugs e a causa raiz de algum problema de forma mais rápida. São muito utilizados na fase de testes ou para mensurar a qualidade de alguma função ou programa."
   ]
  },
  {
   "cell_type": "markdown",
   "id": "4fc5321e",
   "metadata": {},
   "source": [
    "## Catching Exceptions With Try and Except\n",
    "<br>\n",
    "Este bloco garante que o código continuará funcionando normal mesmo quando uma exceção surgir.\n",
    "<br>\n",
    "\n",
    "Veja no diagrama abaixo como isso acontece:"
   ]
  },
  {
   "cell_type": "markdown",
   "id": "6f48a9eb",
   "metadata": {},
   "source": [
    "![title](try_except_else_finally.webp)"
   ]
  },
  {
   "cell_type": "markdown",
   "id": "a697ef1a",
   "metadata": {},
   "source": [
    "Vamos definir algumas funções pra dar uma otimizada no código:"
   ]
  },
  {
   "cell_type": "code",
   "execution_count": 28,
   "id": "4ba81a5b",
   "metadata": {},
   "outputs": [],
   "source": [
    "class SistemaErrado(Exception):\n",
    "    ..."
   ]
  },
  {
   "cell_type": "code",
   "execution_count": 31,
   "id": "967483be",
   "metadata": {},
   "outputs": [],
   "source": [
    "def linux_interaction():\n",
    "    if not sys.platform.startswith('linux'):\n",
    "        raise SistemaErrado(f\"Somente Linux. Seu sistema é:{sys.platform}\")\n",
    "    print(\"Processando tarefas do linux...\")\n",
    "    \n",
    "    \n",
    "def macos_interaction():\n",
    "    if not sys.platform.startswith('macos'):\n",
    "        raise SistemaErrado(f\"Somente MacOS. Seu sistema é:{sys.platform}\")\n",
    "    print(\"Processando tarefas do MacOS...\")\n",
    "    \n",
    "    \n",
    "def windows_interaction():\n",
    "    if not sys.platform.startswith('windows'):\n",
    "        raise SistemaErrado(f\"Somente Windows. Seu sistema é:{sys.platform}\")\n",
    "    print(\"Processando tarefas do Windows...\")"
   ]
  },
  {
   "cell_type": "markdown",
   "id": "e6f60c42",
   "metadata": {},
   "source": [
    ">1. Definição da função\n",
    ">2. Checando se o sistema não é linux\n",
    ">3. Levantando o erro caso não seja linux. Aqui utilizamos uma Exception customizada\n",
    ">4. Caso seja linux o código não entra na condição if e simula o processamento de algumas tarefas\n",
    "<br>\n",
    "\n",
    ">O resto das funções segue o mesmo padrão"
   ]
  },
  {
   "cell_type": "markdown",
   "id": "a13c140a",
   "metadata": {},
   "source": [
    "Vamos agora usar nossas funções para conhecer um pouco mais sobre as exceções.\n",
    "<br>\n"
   ]
  },
  {
   "cell_type": "code",
   "execution_count": 33,
   "id": "fdd4354b",
   "metadata": {},
   "outputs": [
    {
     "ename": "SistemaErrado",
     "evalue": "Somente Windows. Seu sistema é:linux",
     "output_type": "error",
     "traceback": [
      "\u001b[0;31m---------------------------------------------------------------------------\u001b[0m",
      "\u001b[0;31mSistemaErrado\u001b[0m                             Traceback (most recent call last)",
      "\u001b[0;32m/tmp/ipykernel_205721/3858838466.py\u001b[0m in \u001b[0;36m<module>\u001b[0;34m\u001b[0m\n\u001b[0;32m----> 1\u001b[0;31m \u001b[0mwindows_interaction\u001b[0m\u001b[0;34m(\u001b[0m\u001b[0;34m)\u001b[0m\u001b[0;34m\u001b[0m\u001b[0;34m\u001b[0m\u001b[0m\n\u001b[0m",
      "\u001b[0;32m/tmp/ipykernel_205721/3409032364.py\u001b[0m in \u001b[0;36mwindows_interaction\u001b[0;34m()\u001b[0m\n\u001b[1;32m     13\u001b[0m \u001b[0;32mdef\u001b[0m \u001b[0mwindows_interaction\u001b[0m\u001b[0;34m(\u001b[0m\u001b[0;34m)\u001b[0m\u001b[0;34m:\u001b[0m\u001b[0;34m\u001b[0m\u001b[0;34m\u001b[0m\u001b[0m\n\u001b[1;32m     14\u001b[0m     \u001b[0;32mif\u001b[0m \u001b[0;32mnot\u001b[0m \u001b[0msys\u001b[0m\u001b[0;34m.\u001b[0m\u001b[0mplatform\u001b[0m\u001b[0;34m.\u001b[0m\u001b[0mstartswith\u001b[0m\u001b[0;34m(\u001b[0m\u001b[0;34m'windows'\u001b[0m\u001b[0;34m)\u001b[0m\u001b[0;34m:\u001b[0m\u001b[0;34m\u001b[0m\u001b[0;34m\u001b[0m\u001b[0m\n\u001b[0;32m---> 15\u001b[0;31m         \u001b[0;32mraise\u001b[0m \u001b[0mSistemaErrado\u001b[0m\u001b[0;34m(\u001b[0m\u001b[0;34mf\"Somente Windows. Seu sistema é:{sys.platform}\"\u001b[0m\u001b[0;34m)\u001b[0m\u001b[0;34m\u001b[0m\u001b[0;34m\u001b[0m\u001b[0m\n\u001b[0m\u001b[1;32m     16\u001b[0m     \u001b[0mprint\u001b[0m\u001b[0;34m(\u001b[0m\u001b[0;34m\"Processando tarefas do Windows...\"\u001b[0m\u001b[0;34m)\u001b[0m\u001b[0;34m\u001b[0m\u001b[0;34m\u001b[0m\u001b[0m\n",
      "\u001b[0;31mSistemaErrado\u001b[0m: Somente Windows. Seu sistema é:linux"
     ]
    }
   ],
   "source": [
    "windows_interaction()"
   ]
  },
  {
   "cell_type": "markdown",
   "id": "5d186139",
   "metadata": {},
   "source": [
    ">A função checa se estamos num sistema Windows e como não estamos ele levanta a exceção."
   ]
  },
  {
   "cell_type": "code",
   "execution_count": 37,
   "id": "542c84e1",
   "metadata": {},
   "outputs": [
    {
     "ename": "SistemaErrado",
     "evalue": "Somente Windows. Seu sistema é:linux",
     "output_type": "error",
     "traceback": [
      "\u001b[0;31m---------------------------------------------------------------------------\u001b[0m",
      "\u001b[0;31mSistemaErrado\u001b[0m                             Traceback (most recent call last)",
      "\u001b[0;32m/tmp/ipykernel_205721/3745982454.py\u001b[0m in \u001b[0;36m<module>\u001b[0;34m\u001b[0m\n\u001b[0;32m----> 1\u001b[0;31m \u001b[0mwindows_interaction\u001b[0m\u001b[0;34m(\u001b[0m\u001b[0;34m)\u001b[0m\u001b[0;34m\u001b[0m\u001b[0;34m\u001b[0m\u001b[0m\n\u001b[0m\u001b[1;32m      2\u001b[0m \u001b[0mprint\u001b[0m\u001b[0;34m(\u001b[0m\u001b[0;34m\"código seguinte\"\u001b[0m\u001b[0;34m)\u001b[0m\u001b[0;34m\u001b[0m\u001b[0;34m\u001b[0m\u001b[0m\n",
      "\u001b[0;32m/tmp/ipykernel_205721/3409032364.py\u001b[0m in \u001b[0;36mwindows_interaction\u001b[0;34m()\u001b[0m\n\u001b[1;32m     13\u001b[0m \u001b[0;32mdef\u001b[0m \u001b[0mwindows_interaction\u001b[0m\u001b[0;34m(\u001b[0m\u001b[0;34m)\u001b[0m\u001b[0;34m:\u001b[0m\u001b[0;34m\u001b[0m\u001b[0;34m\u001b[0m\u001b[0m\n\u001b[1;32m     14\u001b[0m     \u001b[0;32mif\u001b[0m \u001b[0;32mnot\u001b[0m \u001b[0msys\u001b[0m\u001b[0;34m.\u001b[0m\u001b[0mplatform\u001b[0m\u001b[0;34m.\u001b[0m\u001b[0mstartswith\u001b[0m\u001b[0;34m(\u001b[0m\u001b[0;34m'windows'\u001b[0m\u001b[0;34m)\u001b[0m\u001b[0;34m:\u001b[0m\u001b[0;34m\u001b[0m\u001b[0;34m\u001b[0m\u001b[0m\n\u001b[0;32m---> 15\u001b[0;31m         \u001b[0;32mraise\u001b[0m \u001b[0mSistemaErrado\u001b[0m\u001b[0;34m(\u001b[0m\u001b[0;34mf\"Somente Windows. Seu sistema é:{sys.platform}\"\u001b[0m\u001b[0;34m)\u001b[0m\u001b[0;34m\u001b[0m\u001b[0;34m\u001b[0m\u001b[0m\n\u001b[0m\u001b[1;32m     16\u001b[0m     \u001b[0mprint\u001b[0m\u001b[0;34m(\u001b[0m\u001b[0;34m\"Processando tarefas do Windows...\"\u001b[0m\u001b[0;34m)\u001b[0m\u001b[0;34m\u001b[0m\u001b[0;34m\u001b[0m\u001b[0m\n",
      "\u001b[0;31mSistemaErrado\u001b[0m: Somente Windows. Seu sistema é:linux"
     ]
    }
   ],
   "source": [
    "windows_interaction()\n",
    "print(\"código seguinte\")"
   ]
  },
  {
   "cell_type": "markdown",
   "id": "d5f89810",
   "metadata": {},
   "source": [
    ">Veja que quando sobe uma exceção o código seguinte não é executado"
   ]
  },
  {
   "cell_type": "code",
   "execution_count": 36,
   "id": "baf3dbbe",
   "metadata": {},
   "outputs": [
    {
     "name": "stdout",
     "output_type": "stream",
     "text": [
      "Processando tarefas do linux...\n",
      "código seguinte\n"
     ]
    }
   ],
   "source": [
    "linux_interaction()\n",
    "print(\"código seguinte\")"
   ]
  },
  {
   "cell_type": "markdown",
   "id": "25fa4d88",
   "metadata": {},
   "source": [
    ">Já aqui nenhuma exceção é levantada e o código seguinte executado normalmente"
   ]
  },
  {
   "cell_type": "markdown",
   "id": "6659e2ef",
   "metadata": {},
   "source": [
    "Agora vamos utilizar o bloco try except para garantir que mesmo com erro o código seguinte seja executado:"
   ]
  },
  {
   "cell_type": "code",
   "execution_count": 52,
   "id": "8d27826d",
   "metadata": {},
   "outputs": [
    {
     "name": "stdout",
     "output_type": "stream",
     "text": [
      "opa, algo deu ruim no código acima\n",
      "código seguinte\n"
     ]
    }
   ],
   "source": [
    "try:\n",
    "    windows_interaction()\n",
    "except:\n",
    "    print(\"opa, algo deu ruim no código acima\")\n",
    "    \n",
    "print('código seguinte')"
   ]
  },
  {
   "cell_type": "markdown",
   "id": "3768edf7",
   "metadata": {},
   "source": [
    ">Veja aqui que o python identificou o erro e tratou com o except e depois executou o comando print logo após"
   ]
  },
  {
   "cell_type": "markdown",
   "id": "07ada408",
   "metadata": {},
   "source": [
    "Seguindo a filosofia python, o recomendado é que sejamos explícitos com o erro esperado no bloco except. Veja abaixo:"
   ]
  },
  {
   "cell_type": "code",
   "execution_count": 59,
   "id": "78d536a4",
   "metadata": {},
   "outputs": [
    {
     "name": "stdout",
     "output_type": "stream",
     "text": [
      "Erro. Mensagem de erro: Somente Windows. Seu sistema é:linux\n",
      "código seguinte\n"
     ]
    }
   ],
   "source": [
    "try:\n",
    "    windows_interaction()\n",
    "except SistemaErrado as e:\n",
    "    print(\"Erro. Mensagem de erro:\", e)\n",
    "    \n",
    "print('código seguinte')"
   ]
  },
  {
   "cell_type": "code",
   "execution_count": 60,
   "id": "214513b7",
   "metadata": {},
   "outputs": [
    {
     "name": "stdout",
     "output_type": "stream",
     "text": [
      "Processando tarefas do linux...\n",
      "código seguinte\n"
     ]
    }
   ],
   "source": [
    "try:\n",
    "    linux_interaction()\n",
    "except SistemaErrado as e:\n",
    "    print(\"Erro. Mensagem de erro:\", e)\n",
    "    \n",
    "print('código seguinte')"
   ]
  },
  {
   "cell_type": "markdown",
   "id": "ffdf04ff",
   "metadata": {},
   "source": [
    ">Veja a diferença para um código que não acusa erro. O bloco except é simplesmente ignorado"
   ]
  },
  {
   "cell_type": "markdown",
   "id": "b237d604",
   "metadata": {},
   "source": [
    "Podemos inserir múltiplos blocos except:"
   ]
  },
  {
   "cell_type": "code",
   "execution_count": null,
   "id": "a0975515",
   "metadata": {},
   "outputs": [],
   "source": [
    "try:\n",
    "    linux_interaction()\n",
    "except SistemaErrado as e:\n",
    "    print(\"Erro. Mensagem de erro:\", e)\n",
    "except OutroErro as e:\n",
    "    print(\"Erro. Mesagem de erro:\", e)\n",
    "    \n",
    "print('código seguinte')"
   ]
  },
  {
   "cell_type": "markdown",
   "id": "ac3c7a83",
   "metadata": {},
   "source": [
    "---"
   ]
  },
  {
   "cell_type": "markdown",
   "id": "75c62c9e",
   "metadata": {},
   "source": [
    "## Handling the Success Case With else"
   ]
  },
  {
   "cell_type": "markdown",
   "id": "76d8eaee",
   "metadata": {},
   "source": [
    "O bloco else serve para executarmos um código específico caso o try tenha sucesso e nenhuma exceção seja levantada."
   ]
  },
  {
   "cell_type": "code",
   "execution_count": 65,
   "id": "76a5a9cc",
   "metadata": {},
   "outputs": [
    {
     "name": "stdout",
     "output_type": "stream",
     "text": [
      "Processando tarefas do linux...\n",
      "Sem problemas. Sistema Operacional aceito com sucesso\n",
      "código seguinte\n"
     ]
    }
   ],
   "source": [
    "try:\n",
    "    linux_interaction()\n",
    "except SistemaErrado as e:\n",
    "    print(\"Erro. Mensagem de erro:\", e)\n",
    "else:\n",
    "    print(\"Sem problemas. Sistema Operacional aceito com sucesso\")\n",
    "    \n",
    "print('código seguinte')"
   ]
  },
  {
   "cell_type": "markdown",
   "id": "092f6fa4",
   "metadata": {},
   "source": [
    ">Perceba que o bloco except não detectou erro e então o bloco else foi executado"
   ]
  },
  {
   "cell_type": "markdown",
   "id": "7e9bed37",
   "metadata": {},
   "source": [
    "Já aqui veja que o bloco except levanta erro e pula o bloco else, executando somente o código print que está fora do bloco."
   ]
  },
  {
   "cell_type": "code",
   "execution_count": 64,
   "id": "c43895de",
   "metadata": {},
   "outputs": [
    {
     "name": "stdout",
     "output_type": "stream",
     "text": [
      "Erro. Mensagem de erro: Somente MacOS. Seu sistema é:linux\n",
      "código seguinte\n"
     ]
    }
   ],
   "source": [
    "try:\n",
    "    macos_interaction()\n",
    "except SistemaErrado as e:\n",
    "    print(\"Erro. Mensagem de erro:\", e)\n",
    "else:\n",
    "    print(\"Sem problemas. Sistema Operacional aceito com sucesso\")\n",
    "    \n",
    "print('código seguinte')"
   ]
  },
  {
   "cell_type": "markdown",
   "id": "625403a9",
   "metadata": {},
   "source": [
    "Aqui abaixo temos um bom exemplo de como o else pode ser últil. Ele mostra o log de casos de sucesso caso seja executado."
   ]
  },
  {
   "cell_type": "code",
   "execution_count": null,
   "id": "d9c90c47",
   "metadata": {},
   "outputs": [],
   "source": [
    "try:\n",
    "    linux_interaction()\n",
    "except SistemaErrado as e:\n",
    "    print(\"Erro. Mensagem de erro:\", e)\n",
    "else:\n",
    "    print(\"Sem problemas. Sistema Operacional aceito com sucesso\")\n",
    "    with open('file.log') as log_file:\n",
    "        print(log_file.read())\n",
    "    \n",
    "print('código seguinte')"
   ]
  },
  {
   "cell_type": "markdown",
   "id": "8ec8ffa8",
   "metadata": {},
   "source": [
    "Porém, o código acima vai gerar um erro de FileNotFoundError porque não foi criado nenhum arquivo de log.\n",
    "<br>\n",
    "\n",
    "Nesse caso, como tratar esta exceção dentro do else? Vamos ver a resposta na próxima seção"
   ]
  },
  {
   "cell_type": "markdown",
   "id": "5a11ae1e",
   "metadata": {},
   "source": [
    "## Catching a Built-in Exception"
   ]
  },
  {
   "cell_type": "markdown",
   "id": "8ffe7aba",
   "metadata": {},
   "source": [
    "Built-in Exception: exceções nativas do python. Vem nomeada com o tipo de erro e uma breve mensagem sobre este erro.\n",
    "<br>\n",
    "\n",
    "O FileNotFoundError é uma exceção built-in.\n",
    "<br>\n",
    "\n",
    "Veja abaixo outras exceções built-in do python. Conhecê-las é importante para entender melhor os possíveis erros do seu código."
   ]
  },
  {
   "cell_type": "markdown",
   "id": "4ae961e5",
   "metadata": {},
   "source": [
    "![title](base_exception.png)"
   ]
  },
  {
   "cell_type": "markdown",
   "id": "7124f3c1",
   "metadata": {},
   "source": [
    "Agora vamos tratar o erro FileNotFoundError que apareceu no nosso código:"
   ]
  },
  {
   "cell_type": "code",
   "execution_count": 66,
   "id": "662e48b6",
   "metadata": {},
   "outputs": [
    {
     "name": "stdout",
     "output_type": "stream",
     "text": [
      "Processando tarefas do linux...\n",
      "Sem problemas. Sistema Operacional aceito com sucesso\n"
     ]
    },
    {
     "ename": "FileNotFoundError",
     "evalue": "[Errno 2] No such file or directory: 'file.log'",
     "output_type": "error",
     "traceback": [
      "\u001b[0;31m---------------------------------------------------------------------------\u001b[0m",
      "\u001b[0;31mFileNotFoundError\u001b[0m                         Traceback (most recent call last)",
      "\u001b[0;32m/tmp/ipykernel_205721/1748270646.py\u001b[0m in \u001b[0;36m<module>\u001b[0;34m\u001b[0m\n\u001b[1;32m      5\u001b[0m \u001b[0;32melse\u001b[0m\u001b[0;34m:\u001b[0m\u001b[0;34m\u001b[0m\u001b[0;34m\u001b[0m\u001b[0m\n\u001b[1;32m      6\u001b[0m     \u001b[0mprint\u001b[0m\u001b[0;34m(\u001b[0m\u001b[0;34m\"Sem problemas. Sistema Operacional aceito com sucesso\"\u001b[0m\u001b[0;34m)\u001b[0m\u001b[0;34m\u001b[0m\u001b[0;34m\u001b[0m\u001b[0m\n\u001b[0;32m----> 7\u001b[0;31m     \u001b[0;32mwith\u001b[0m \u001b[0mopen\u001b[0m\u001b[0;34m(\u001b[0m\u001b[0;34m'file.log'\u001b[0m\u001b[0;34m)\u001b[0m \u001b[0;32mas\u001b[0m \u001b[0mlog_file\u001b[0m\u001b[0;34m:\u001b[0m\u001b[0;34m\u001b[0m\u001b[0;34m\u001b[0m\u001b[0m\n\u001b[0m\u001b[1;32m      8\u001b[0m         \u001b[0mprint\u001b[0m\u001b[0;34m(\u001b[0m\u001b[0mlog_file\u001b[0m\u001b[0;34m.\u001b[0m\u001b[0mread\u001b[0m\u001b[0;34m(\u001b[0m\u001b[0;34m)\u001b[0m\u001b[0;34m)\u001b[0m\u001b[0;34m\u001b[0m\u001b[0;34m\u001b[0m\u001b[0m\n\u001b[1;32m      9\u001b[0m \u001b[0;34m\u001b[0m\u001b[0m\n",
      "\u001b[0;31mFileNotFoundError\u001b[0m: [Errno 2] No such file or directory: 'file.log'"
     ]
    }
   ],
   "source": [
    "try:\n",
    "    linux_interaction()\n",
    "except SistemaErrado as e:\n",
    "    print(\"Erro. Mensagem de erro:\", e)\n",
    "else:\n",
    "    print(\"Sem problemas. Sistema Operacional aceito com sucesso\")\n",
    "    with open('file.log') as log_file:\n",
    "        print(log_file.read())\n",
    "    \n",
    "print('código seguinte')"
   ]
  },
  {
   "cell_type": "code",
   "execution_count": 67,
   "id": "7ee27c0b",
   "metadata": {},
   "outputs": [
    {
     "name": "stdout",
     "output_type": "stream",
     "text": [
      "Processando tarefas do linux...\n",
      "Sem problemas. Sistema Operacional aceito com sucesso\n",
      "Read logging file...\n",
      "Erro: [Errno 2] No such file or directory: 'file.log'\n",
      "código seguinte\n"
     ]
    }
   ],
   "source": [
    "try:\n",
    "    linux_interaction()\n",
    "except SistemaErrado as e:\n",
    "    print(\"Erro. Mensagem de erro:\", e)\n",
    "else:\n",
    "    print(\"Sem problemas. Sistema Operacional aceito com sucesso\")\n",
    "    print(\"Read logging file...\")\n",
    "    try:\n",
    "        with open('file.log') as log_file:\n",
    "            print(log_file.read())\n",
    "    except FileNotFoundError as fnf_error:\n",
    "        print(\"Erro:\", fnf_error)\n",
    "        \n",
    "    \n",
    "print('código seguinte')"
   ]
  },
  {
   "cell_type": "markdown",
   "id": "07e1b9d7",
   "metadata": {},
   "source": [
    ">Ou seja, para tratar um erro dentro do else, basta inserir mais um bloco try except dentro dele. Veja que adicionamos a linha 7 para simular que o programa vai procurar o arquivo, mas dá erro quando isto acontece na linha 9. Então na linha 11 tratamos esse erro e o resto do código é executado normalmente."
   ]
  },
  {
   "cell_type": "markdown",
   "id": "7f749747",
   "metadata": {},
   "source": [
    "## Finally"
   ]
  },
  {
   "cell_type": "markdown",
   "id": "8b12c9bb",
   "metadata": {},
   "source": [
    "Diferente do else, este é um bloco de código que sempre será executado. Seja o try executado com sucesso ou não.\n",
    "<br>\n",
    "\n",
    "Além das suas várias utilidades, um exemplo é quando vc termina um processo e quer fechar o arquivo q estava sendo trabalhado."
   ]
  },
  {
   "cell_type": "markdown",
   "id": "abb0514f",
   "metadata": {},
   "source": [
    "Sendo assim, vamos incrementar nosso programa acima."
   ]
  },
  {
   "cell_type": "code",
   "execution_count": 68,
   "id": "bdb3aed6",
   "metadata": {},
   "outputs": [
    {
     "name": "stdout",
     "output_type": "stream",
     "text": [
      "Processando tarefas do linux...\n",
      "Sem problemas. Sistema Operacional aceito com sucesso\n",
      "Read logging file...\n",
      "Erro: [Errno 2] No such file or directory: 'file.log'\n",
      "Fazendo limpeza de disco\n",
      "código seguinte\n"
     ]
    }
   ],
   "source": [
    "try:\n",
    "    linux_interaction()\n",
    "except SistemaErrado as e:\n",
    "    print(\"Erro. Mensagem de erro:\", e)\n",
    "else:\n",
    "    print(\"Sem problemas. Sistema Operacional aceito com sucesso\")\n",
    "    print(\"Read logging file...\")\n",
    "    try:\n",
    "        with open('file.log') as log_file:\n",
    "            print(log_file.read())\n",
    "    except FileNotFoundError as fnf_error:\n",
    "        print(\"Erro:\", fnf_error)\n",
    "finally:\n",
    "    print('Fazendo limpeza de disco')\n",
    "        \n",
    "    \n",
    "print('código seguinte')"
   ]
  },
  {
   "cell_type": "markdown",
   "id": "411203fe",
   "metadata": {},
   "source": [
    ">Veja que na linha 13 nosso código agora faz a tarefa de limpezas necessárias após a execução do programa. Isso acontece mesmo com a acusação de erro."
   ]
  },
  {
   "cell_type": "markdown",
   "id": "bda956dc",
   "metadata": {},
   "source": [
    "Vamos testar o bloco finally agora num código em que o bloco try não terá sucesso.\n",
    "<br>\n",
    "\n",
    "Usaremos o teste do windows para causar o erro."
   ]
  },
  {
   "cell_type": "code",
   "execution_count": 69,
   "id": "259326a1",
   "metadata": {},
   "outputs": [
    {
     "name": "stdout",
     "output_type": "stream",
     "text": [
      "Erro. Mensagem de erro: Somente Windows. Seu sistema é:linux\n",
      "Fazendo limpeza de disco\n",
      "código seguinte\n"
     ]
    }
   ],
   "source": [
    "try:\n",
    "    windows_interaction()\n",
    "except SistemaErrado as e:\n",
    "    print(\"Erro. Mensagem de erro:\", e)\n",
    "else:\n",
    "    print(\"Sem problemas. Sistema Operacional aceito com sucesso\")\n",
    "    print(\"Read logging file...\")\n",
    "    try:\n",
    "        with open('file.log') as log_file:\n",
    "            print(log_file.read())\n",
    "    except FileNotFoundError as fnf_error:\n",
    "        print(\"Erro:\", fnf_error)\n",
    "finally:\n",
    "    print('Fazendo limpeza de disco')\n",
    "        \n",
    "    \n",
    "print('código seguinte')"
   ]
  },
  {
   "cell_type": "markdown",
   "id": "ea5513d0",
   "metadata": {},
   "source": [
    ">Veja como agora o bloco else inteiro é ignorado e do bloco de exceção pula imediatamente para o finally. Ou seja, o finally **sempre** será executado, independente se o try teve sucesso ou não."
   ]
  }
 ],
 "metadata": {
  "kernelspec": {
   "display_name": "Python 3 (ipykernel)",
   "language": "python",
   "name": "python3"
  },
  "language_info": {
   "codemirror_mode": {
    "name": "ipython",
    "version": 3
   },
   "file_extension": ".py",
   "mimetype": "text/x-python",
   "name": "python",
   "nbconvert_exporter": "python",
   "pygments_lexer": "ipython3",
   "version": "3.8.12"
  }
 },
 "nbformat": 4,
 "nbformat_minor": 5
}
