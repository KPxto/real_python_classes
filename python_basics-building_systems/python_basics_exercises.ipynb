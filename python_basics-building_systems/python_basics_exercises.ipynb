{
 "cells": [
  {
   "cell_type": "markdown",
   "metadata": {},
   "source": [
    "[Building Systems With Classes](https://realpython.com/lessons/building-systems-classes-exercieses-overview/)"
   ]
  },
  {
   "cell_type": "markdown",
   "metadata": {},
   "source": [
    "### Challenge: Model a Farm"
   ]
  },
  {
   "cell_type": "code",
   "execution_count": 57,
   "metadata": {},
   "outputs": [],
   "source": [
    "class Animal:\n",
    "    animal_type = None\n",
    "\n",
    "    def __init__(self, name, color):\n",
    "        self.name = name\n",
    "        self.color = color\n",
    "\n",
    "    def __str__(self) -> str:\n",
    "        return f\"This is a {self.__class__.animal_type}, and its name is {self.nome}\"\n",
    "    \n",
    "\n",
    "    def eat(self):\n",
    "        pass\n",
    "\n",
    "    def move(self, location):\n",
    "        pass\n",
    "\n",
    "    def talk(self, sound=\"Zzzz\"):\n",
    "        return f\"{self.nome} says {sound}\"\n",
    "\n",
    "\n",
    "class Galinha(Animal):\n",
    "    animal_type = 'galinha'\n",
    "\n",
    "    # aqui a gente sobrescreve o método da classe pai\n",
    "    # depois alteramos o argumento q precisamos alterar\n",
    "    # e daí cahamos novamente o método da classe pai através do super()\n",
    "    # e devolvemos a ele o argumento padrão modificado de acordo com cada classe filha\n",
    "    def talk(self, sound=\"Coco\"):\n",
    "        return super().talk(sound)\n",
    "\n",
    "\n",
    "class Vaca(Animal):\n",
    "    animal_type = 'vaca'\n",
    "\n",
    "    def talk(self, sound=\"Muuu\"):\n",
    "        return super().talk(sound)\n",
    "    \n",
    "\n",
    "class Cavalo(Animal):\n",
    "    animal_type = 'cavalo'\n",
    "\n",
    "    def talk(self, sound=\"Bruu\"):\n",
    "        return super().talk(sound)\n"
   ]
  },
  {
   "cell_type": "code",
   "execution_count": 61,
   "metadata": {},
   "outputs": [],
   "source": [
    "# instanciando o objeto Vaca(), classe filha do objeto Animal()\n",
    "v = Vaca('Mimosa', 'preto')"
   ]
  },
  {
   "cell_type": "code",
   "execution_count": 62,
   "metadata": {},
   "outputs": [
    {
     "data": {
      "text/plain": [
       "'This is a vaca, and its name is Mimosa'"
      ]
     },
     "execution_count": 62,
     "metadata": {},
     "output_type": "execute_result"
    }
   ],
   "source": [
    "# aqui vemos o método __str__ retornando uma string explicativa do objeto\n",
    "str(v)"
   ]
  },
  {
   "cell_type": "code",
   "execution_count": 63,
   "metadata": {},
   "outputs": [
    {
     "data": {
      "text/plain": [
       "'Mimosa says Muuu'"
      ]
     },
     "execution_count": 63,
     "metadata": {},
     "output_type": "execute_result"
    }
   ],
   "source": [
    "v.falar()"
   ]
  },
  {
   "cell_type": "markdown",
   "metadata": {},
   "source": [
    "#### Keep Track of food with non-public atribute\n",
    "\n",
    "Nesta aula, ensina sobre a criação de um atributo não público para armanezar a informação do nível de fome do Animal."
   ]
  },
  {
   "cell_type": "code",
   "execution_count": 78,
   "metadata": {},
   "outputs": [],
   "source": [
    "class Animal:\n",
    "    animal_type = None\n",
    "\n",
    "    def __init__(self, name, color):\n",
    "        self.name = name\n",
    "        self.color = color\n",
    "        # atributo não-público para informar o estado de 'fome' do objeto Animal\n",
    "        # o underline na frente do nome da variável indica que o atributo é não-público\n",
    "        self._stuff_in_belly = 0\n",
    "\n",
    "    def __str__(self) -> str:\n",
    "        return f\"This is a {self.__class__.animal_type}, and its name is {self.nome}\"\n",
    "    \n",
    "\n",
    "    def eat(self):\n",
    "        # este método agora pode alterar o valor de self._stuff_in_belly\n",
    "        # toda vez q ele for chamado\n",
    "        # se quiser o nível de fome só acessar este atributo\n",
    "        self._stuff_in_belly += 1\n",
    "        return f\"{self.name} is eating...\"\n",
    "\n",
    "    def move(self, location):\n",
    "        pass\n",
    "\n",
    "    def talk(self, sound=\"Zzzz\"):\n",
    "        return f\"{self.nome} says {sound}\"\n",
    "\n",
    "\n",
    "class Galinha(Animal):\n",
    "    animal_type = 'galinha'\n",
    "\n",
    "    # aqui a gente sobrescreve o método da classe pai\n",
    "    # depois alteramos o argumento q precisamos alterar\n",
    "    # e daí cahamos novamente o método da classe pai através do super()\n",
    "    # e devolvemos a ele o argumento padrão modificado de acordo com cada classe filha\n",
    "    def talk(self, sound=\"Coco\"):\n",
    "        return super().talk(sound)\n",
    "\n",
    "\n",
    "class Vaca(Animal):\n",
    "    animal_type = 'vaca'\n",
    "\n",
    "    def talk(self, sound=\"Muuu\"):\n",
    "        return super().talk(sound)\n",
    "    \n",
    "\n",
    "class Cavalo(Animal):\n",
    "    animal_type = 'cavalo'\n",
    "\n",
    "    def talk(self, sound=\"Bruu\"):\n",
    "        return super().talk(sound)"
   ]
  },
  {
   "cell_type": "code",
   "execution_count": 83,
   "metadata": {},
   "outputs": [],
   "source": [
    "# instanciando o objeto Cavalo()\n",
    "cavalo = Cavalo(\"Pe de pano\", \"branco\")"
   ]
  },
  {
   "cell_type": "code",
   "execution_count": 84,
   "metadata": {},
   "outputs": [
    {
     "data": {
      "text/plain": [
       "0"
      ]
     },
     "execution_count": 84,
     "metadata": {},
     "output_type": "execute_result"
    }
   ],
   "source": [
    "# checando o estado inicial do atributo não-público\n",
    "cavalo._stuff_in_belly"
   ]
  },
  {
   "cell_type": "code",
   "execution_count": 85,
   "metadata": {},
   "outputs": [
    {
     "data": {
      "text/plain": [
       "'Pe de pano is eating...'"
      ]
     },
     "execution_count": 85,
     "metadata": {},
     "output_type": "execute_result"
    }
   ],
   "source": [
    "# aqui ele adiciona +1 na variável não-pública\n",
    "# e retorna uma frase q informa q o animal está comendo\n",
    "cavalo.eat()"
   ]
  },
  {
   "cell_type": "code",
   "execution_count": 86,
   "metadata": {},
   "outputs": [
    {
     "data": {
      "text/plain": [
       "1"
      ]
     },
     "execution_count": 86,
     "metadata": {},
     "output_type": "execute_result"
    }
   ],
   "source": [
    "# veja q o atributo foi alterado\n",
    "cavalo._stuff_in_belly"
   ]
  },
  {
   "cell_type": "code",
   "execution_count": 87,
   "metadata": {},
   "outputs": [
    {
     "data": {
      "text/plain": [
       "'Pe de pano is eating...'"
      ]
     },
     "execution_count": 87,
     "metadata": {},
     "output_type": "execute_result"
    }
   ],
   "source": [
    "# chamando mais uma vez...\n",
    "cavalo.eat()"
   ]
  },
  {
   "cell_type": "code",
   "execution_count": 88,
   "metadata": {},
   "outputs": [
    {
     "data": {
      "text/plain": [
       "2"
      ]
     },
     "execution_count": 88,
     "metadata": {},
     "output_type": "execute_result"
    }
   ],
   "source": [
    "# e veja q o atributo não-público sofreu outra alteração\n",
    "cavalo._stuff_in_belly"
   ]
  },
  {
   "cell_type": "markdown",
   "metadata": {},
   "source": [
    "#### Check Whether Animal Is Hungry\n",
    "\n",
    "Aqui nós criamos um método que informa se o animal está com fome ou não. Toda vez que o atributo não-público for maior que 2 significa q ele não está com fome (False), caso contrário ele retorna True. Veja abaixo como ficou com esté método."
   ]
  },
  {
   "cell_type": "code",
   "execution_count": 89,
   "metadata": {},
   "outputs": [],
   "source": [
    "class Animal:\n",
    "    animal_type = None\n",
    "\n",
    "    def __init__(self, name, color):\n",
    "        self.name = name\n",
    "        self.color = color\n",
    "        self._stuff_in_belly = 0\n",
    "\n",
    "    def __str__(self) -> str:\n",
    "        return f\"This is a {self.__class__.animal_type}, and its name is {self.nome}\"\n",
    "    \n",
    "\n",
    "    def eat(self):\n",
    "        self._stuff_in_belly += 1\n",
    "        return f\"{self.name} is eating...\"\n",
    "    \n",
    "    # novo método adicionado\n",
    "    def is_hungry(self):\n",
    "        if self._stuff_in_belly > 2:\n",
    "            return False\n",
    "        return True\n",
    "\n",
    "    def move(self, location):\n",
    "        pass\n",
    "\n",
    "    def talk(self, sound=\"Zzzz\"):\n",
    "        return f\"{self.nome} says {sound}\"\n",
    "\n",
    "\n",
    "class Galinha(Animal):\n",
    "    animal_type = 'galinha'\n",
    "\n",
    "    def talk(self, sound=\"Coco\"):\n",
    "        return super().talk(sound)\n",
    "\n",
    "\n",
    "class Vaca(Animal):\n",
    "    animal_type = 'vaca'\n",
    "\n",
    "    def talk(self, sound=\"Muuu\"):\n",
    "        return super().talk(sound)\n",
    "    \n",
    "\n",
    "class Cavalo(Animal):\n",
    "    animal_type = 'cavalo'\n",
    "\n",
    "    def talk(self, sound=\"Bruu\"):\n",
    "        return super().talk(sound)"
   ]
  },
  {
   "cell_type": "code",
   "execution_count": 90,
   "metadata": {},
   "outputs": [],
   "source": [
    "# instanciando o objeto Cavalo()\n",
    "cavalo = Cavalo(\"Pe de pano\", \"branco\")"
   ]
  },
  {
   "cell_type": "code",
   "execution_count": 93,
   "metadata": {},
   "outputs": [
    {
     "data": {
      "text/plain": [
       "0"
      ]
     },
     "execution_count": 93,
     "metadata": {},
     "output_type": "execute_result"
    }
   ],
   "source": [
    "# checando o atributo não-publico\n",
    "cavalo._stuff_in_belly"
   ]
  },
  {
   "cell_type": "code",
   "execution_count": 94,
   "metadata": {},
   "outputs": [
    {
     "data": {
      "text/plain": [
       "True"
      ]
     },
     "execution_count": 94,
     "metadata": {},
     "output_type": "execute_result"
    }
   ],
   "source": [
    "# como o valor é zero, o retorno do is_hungry() deve ser True\n",
    "cavalo.is_hungry()"
   ]
  },
  {
   "cell_type": "code",
   "execution_count": 96,
   "metadata": {},
   "outputs": [
    {
     "data": {
      "text/plain": [
       "'Pe de pano is eating...'"
      ]
     },
     "execution_count": 96,
     "metadata": {},
     "output_type": "execute_result"
    }
   ],
   "source": [
    "# vamos colocar o cavalo para comer\n",
    "cavalo.eat()\n",
    "cavalo.eat()\n",
    "cavalo.eat()\n",
    "cavalo.eat()"
   ]
  },
  {
   "cell_type": "code",
   "execution_count": 98,
   "metadata": {},
   "outputs": [
    {
     "data": {
      "text/plain": [
       "5"
      ]
     },
     "execution_count": 98,
     "metadata": {},
     "output_type": "execute_result"
    }
   ],
   "source": [
    "# agora vamos checar a barriga dele de novo\n",
    "cavalo._stuff_in_belly"
   ]
  },
  {
   "cell_type": "code",
   "execution_count": 99,
   "metadata": {},
   "outputs": [
    {
     "data": {
      "text/plain": [
       "False"
      ]
     },
     "execution_count": 99,
     "metadata": {},
     "output_type": "execute_result"
    }
   ],
   "source": [
    "# e agora vendo se ele está com fome\n",
    "cavalo.is_hungry()"
   ]
  },
  {
   "cell_type": "markdown",
   "metadata": {},
   "source": [
    "#### Convert Method to an Attribute\n",
    "\n",
    "Esta aula introduz o uso do decorador @property ao método is_hungry().\n",
    "\n",
    "O q esse decorador faz é transformar o método num atributo. Dessa forma, ele poderá ser acessado sem precisar incluir os parentes, como fazemos quando chamamos um método.\n",
    "\n",
    "Esta ação faz sentido quando temos um método simples, que pode ser transformado num atributo para melhorar na escrita do código, tornando-o mais limpo e seguro. Ou seja, a forma de acessar seria como se fosse atributo, mas o método por trás disso executou alguma lógica necessária à situação do momento."
   ]
  },
  {
   "cell_type": "code",
   "execution_count": 100,
   "metadata": {},
   "outputs": [],
   "source": [
    "class Animal:\n",
    "    animal_type = None\n",
    "\n",
    "    def __init__(self, name, color):\n",
    "        self.name = name\n",
    "        self.color = color\n",
    "        self._stuff_in_belly = 0\n",
    "\n",
    "    def __str__(self) -> str:\n",
    "        return f\"This is a {self.__class__.animal_type}, and its name is {self.nome}\"\n",
    "    \n",
    "\n",
    "    def eat(self):\n",
    "        self._stuff_in_belly += 1\n",
    "        return f\"{self.name} is eating...\"\n",
    "    \n",
    "    # decorador adicionado ao método is_hungry()\n",
    "    # dessa forma ele pode ser acessado como um atributo\n",
    "    @property\n",
    "    def is_hungry(self):\n",
    "        if self._stuff_in_belly > 2:\n",
    "            return False\n",
    "        return True\n",
    "\n",
    "    def move(self, location):\n",
    "        pass\n",
    "\n",
    "    def talk(self, sound=\"Zzzz\"):\n",
    "        return f\"{self.nome} says {sound}\"\n",
    "\n",
    "\n",
    "class Galinha(Animal):\n",
    "    animal_type = 'galinha'\n",
    "\n",
    "    def talk(self, sound=\"Coco\"):\n",
    "        return super().talk(sound)\n",
    "\n",
    "\n",
    "class Vaca(Animal):\n",
    "    animal_type = 'vaca'\n",
    "\n",
    "    def talk(self, sound=\"Muuu\"):\n",
    "        return super().talk(sound)\n",
    "    \n",
    "\n",
    "class Cavalo(Animal):\n",
    "    animal_type = 'cavalo'\n",
    "\n",
    "    def talk(self, sound=\"Bruu\"):\n",
    "        return super().talk(sound)"
   ]
  },
  {
   "cell_type": "code",
   "execution_count": 101,
   "metadata": {},
   "outputs": [],
   "source": [
    "# instanciando o objeto Cavalo()\n",
    "cavalo = Cavalo(\"Pe de pano\", \"branco\")"
   ]
  },
  {
   "cell_type": "code",
   "execution_count": 103,
   "metadata": {},
   "outputs": [
    {
     "data": {
      "text/plain": [
       "True"
      ]
     },
     "execution_count": 103,
     "metadata": {},
     "output_type": "execute_result"
    }
   ],
   "source": [
    "# checando se está com fome\n",
    "# veja que aqui ele foi acessado como se fosse um atributo\n",
    "cavalo.is_hungry"
   ]
  },
  {
   "cell_type": "code",
   "execution_count": 104,
   "metadata": {},
   "outputs": [
    {
     "data": {
      "text/plain": [
       "'Pe de pano is eating...'"
      ]
     },
     "execution_count": 104,
     "metadata": {},
     "output_type": "execute_result"
    }
   ],
   "source": [
    "# vamos colocar o cavalo para comer\n",
    "cavalo.eat()\n",
    "cavalo.eat()\n",
    "cavalo.eat()\n",
    "cavalo.eat()"
   ]
  },
  {
   "cell_type": "code",
   "execution_count": 106,
   "metadata": {},
   "outputs": [
    {
     "data": {
      "text/plain": [
       "False"
      ]
     },
     "execution_count": 106,
     "metadata": {},
     "output_type": "execute_result"
    }
   ],
   "source": [
    "# acessando de novo para verificar que o atributo funciona igual o método\n",
    "cavalo.is_hungry"
   ]
  },
  {
   "cell_type": "markdown",
   "metadata": {},
   "source": [
    "#### Empty the Animal Bellies\n",
    "\n",
    "Adicionado o novo método poop(). Além disso, o método eat() sofreu uma leve modificação, possuindo agora uma condicional."
   ]
  },
  {
   "cell_type": "code",
   "execution_count": 114,
   "metadata": {},
   "outputs": [],
   "source": [
    "class Animal:\n",
    "    animal_type = None\n",
    "\n",
    "    def __init__(self, name, color):\n",
    "        self.name = name\n",
    "        self.color = color\n",
    "        self._stuff_in_belly = 0\n",
    "\n",
    "    def __str__(self) -> str:\n",
    "        return f\"This is a {self.__class__.animal_type}, and its name is {self.nome}\"\n",
    "    \n",
    "\n",
    "    def eat(self):\n",
    "        # nova condicação adicionada ao método eat()\n",
    "        # se o animal não estiver com fome, será chamado o código poop()\n",
    "        if not self.is_hungry:\n",
    "            return self.poop()\n",
    "        # caso o animal ainda esteja com fome\n",
    "        # ele vai comer e adicionar +1 ao atributo não-público\n",
    "        self._stuff_in_belly += 1\n",
    "        return f\"{self.name} is eating...\"\n",
    "    \n",
    "    # novo método adicionado\n",
    "    # o método poop() esvazia a barriga do animal (atributo não-público)\n",
    "    def poop(self):\n",
    "        self._stuff_in_belly = 0\n",
    "        return f\"{self.name} poops, then looks relieved.\"\n",
    "    \n",
    "    # decorador adicionado ao método is_hungry()\n",
    "    # dessa forma ele pode ser acessado como um atributo\n",
    "    @property\n",
    "    def is_hungry(self):\n",
    "        if self._stuff_in_belly > 2:\n",
    "            return False\n",
    "        return True\n",
    "\n",
    "    def move(self, location):\n",
    "        pass\n",
    "\n",
    "    def talk(self, sound=\"Zzzz\"):\n",
    "        return f\"{self.nome} says {sound}\"\n",
    "\n",
    "\n",
    "class Galinha(Animal):\n",
    "    animal_type = 'galinha'\n",
    "\n",
    "    def talk(self, sound=\"Coco\"):\n",
    "        return super().talk(sound)\n",
    "\n",
    "\n",
    "class Vaca(Animal):\n",
    "    animal_type = 'vaca'\n",
    "\n",
    "    def talk(self, sound=\"Muuu\"):\n",
    "        return super().talk(sound)\n",
    "    \n",
    "\n",
    "class Cavalo(Animal):\n",
    "    animal_type = 'cavalo'\n",
    "\n",
    "    def talk(self, sound=\"Bruu\"):\n",
    "        return super().talk(sound)"
   ]
  },
  {
   "cell_type": "code",
   "execution_count": 115,
   "metadata": {},
   "outputs": [],
   "source": [
    "# instanciando o objeto Cavalo()\n",
    "cavalo = Cavalo(\"Pe de pano\", \"branco\")"
   ]
  },
  {
   "cell_type": "code",
   "execution_count": 116,
   "metadata": {},
   "outputs": [
    {
     "data": {
      "text/plain": [
       "True"
      ]
     },
     "execution_count": 116,
     "metadata": {},
     "output_type": "execute_result"
    }
   ],
   "source": [
    "# verificando que o animal está com fome\n",
    "cavalo.is_hungry"
   ]
  },
  {
   "cell_type": "code",
   "execution_count": 117,
   "metadata": {},
   "outputs": [
    {
     "data": {
      "text/plain": [
       "'Pe de pano is eating...'"
      ]
     },
     "execution_count": 117,
     "metadata": {},
     "output_type": "execute_result"
    }
   ],
   "source": [
    "# como o animal está com fome, o método eat() vai mostrar o animal comendo\n",
    "cavalo.eat()"
   ]
  },
  {
   "cell_type": "code",
   "execution_count": 118,
   "metadata": {},
   "outputs": [
    {
     "data": {
      "text/plain": [
       "'Pe de pano is eating...'"
      ]
     },
     "execution_count": 118,
     "metadata": {},
     "output_type": "execute_result"
    }
   ],
   "source": [
    "# o animal ainda está com fome\n",
    "cavalo.eat()"
   ]
  },
  {
   "cell_type": "code",
   "execution_count": 119,
   "metadata": {},
   "outputs": [
    {
     "data": {
      "text/plain": [
       "'Pe de pano is eating...'"
      ]
     },
     "execution_count": 119,
     "metadata": {},
     "output_type": "execute_result"
    }
   ],
   "source": [
    "# ainda com fome..\n",
    "cavalo.eat()"
   ]
  },
  {
   "cell_type": "code",
   "execution_count": 120,
   "metadata": {},
   "outputs": [
    {
     "data": {
      "text/plain": [
       "'Pe de pano poops, then looks relieved.'"
      ]
     },
     "execution_count": 120,
     "metadata": {},
     "output_type": "execute_result"
    }
   ],
   "source": [
    "# aqui is_hungry retornou False e agora o método eat()\n",
    "# acionou o segundo bloco da condição, chamando o método poop()\n",
    "cavalo.eat()"
   ]
  },
  {
   "cell_type": "markdown",
   "metadata": {},
   "source": [
    "#### Create Location Classes\n",
    "\n",
    "Nesta aula criamos uma nova classe pai e herdeiras. Estas classes vão representar os locais dentro da fazenda (campo e armazém)."
   ]
  },
  {
   "cell_type": "code",
   "execution_count": null,
   "metadata": {},
   "outputs": [],
   "source": [
    "class FarmLocation:\n",
    "    def __init__(self, spaces):\n",
    "        self.spaces = spaces\n",
    "        # lista que vai armazenar os animais localizados neste espaço\n",
    "        self.animals = []\n",
    "\n",
    "\n",
    "class Field(FarmLocation):\n",
    "    pass\n",
    "\n",
    "\n",
    "class Barn(FarmLocation):\n",
    "    pass"
   ]
  },
  {
   "cell_type": "markdown",
   "metadata": {},
   "source": [
    "#### Model Location as Instance Attribute\n",
    "\n",
    "Aqui nós criamos um novo atributo de instancia, o location_type. Com o objeto animal este atributo foi criado como atributo de classe. Aqui, para mostrar uma outra maneira, estamos criando-o como atributo de instancia."
   ]
  },
  {
   "cell_type": "code",
   "execution_count": null,
   "metadata": {},
   "outputs": [],
   "source": [
    "class FarmLocation:\n",
    "    def __init__(self, spaces):\n",
    "        # o atributo spaces informa os espaços disponíveis para por animais\n",
    "        self.spaces = spaces\n",
    "        # lista que vai armazenar os animais localizados neste espaço\n",
    "        self.animals = []\n",
    "        # atributo com tipo do local\n",
    "        # aqui está como None pq não sabemos o tipo de objeto q será criado\n",
    "        # mas este atributo tem q existir. Por isso ele está como None\n",
    "        # nas classes herdeiras fazemos uma adaptação deste atributo\n",
    "        self.location_type = None\n",
    "\n",
    "\n",
    "class Field(FarmLocation):\n",
    "    # aqui, para dar um nome padrão ao atributo location_type,\n",
    "    # precisamos sobrescrer o dunder init da classe pai\n",
    "    # já q alteramos apenas um atributo da classe e os outros permanecem os mesmos\n",
    "    # invocamos o método original da classe pai com o super()\n",
    "    # dessa forma, os outros atributos são trazidos juntos\n",
    "    def __init__(self, spaces):\n",
    "        super().__init__(spaces)\n",
    "        self.location_type = 'Field'\n",
    "\n",
    "\n",
    "class Barn(FarmLocation):\n",
    "    def __init__(self, spaces):\n",
    "        super().__init__(spaces)\n",
    "        self.location_type = 'barn'"
   ]
  },
  {
   "cell_type": "markdown",
   "metadata": {},
   "source": [
    "#### Create a dunder str()\n",
    "\n",
    "Nesta aula apenas criamos um método dunder str() para a classe pai FarmLocation."
   ]
  },
  {
   "cell_type": "code",
   "execution_count": 122,
   "metadata": {},
   "outputs": [],
   "source": [
    "class FarmLocation:\n",
    "    def __init__(self, spaces):\n",
    "        self.spaces = spaces\n",
    "        self.animals = []\n",
    "        self.location_type = None\n",
    "\n",
    "    def __str__(self):\n",
    "        return f\"The {self.location_type} has {len(self.animals)}/{self.spaces} spaces filled.\"\n",
    "\n",
    "\n",
    "class Field(FarmLocation):\n",
    "    def __init__(self, spaces):\n",
    "        super().__init__(spaces)\n",
    "        self.location_type = 'Field'\n",
    "\n",
    "\n",
    "class Barn(FarmLocation):\n",
    "    def __init__(self, spaces):\n",
    "        super().__init__(spaces)\n",
    "        self.location_type = 'barn'"
   ]
  },
  {
   "cell_type": "code",
   "execution_count": 123,
   "metadata": {},
   "outputs": [],
   "source": [
    "# instanciando um objeto field\n",
    "field = Field(10)"
   ]
  },
  {
   "cell_type": "code",
   "execution_count": 125,
   "metadata": {},
   "outputs": [
    {
     "name": "stdout",
     "output_type": "stream",
     "text": [
      "The Field has 0/10 spaces filled.\n"
     ]
    }
   ],
   "source": [
    "# printando o objeto field\n",
    "# para vermos como vai funcionar o dunder str()\n",
    "print(field)"
   ]
  },
  {
   "cell_type": "markdown",
   "metadata": {},
   "source": [
    "#### Note Whether a Location Is Full\n",
    "\n",
    "Nesta aula adicionamos um método para checar se aquele local já está cheio de animais ou não. O método is_full() checa se a quantidade de animais é maior ou igual à quantidade de espaços disponíveis naquele local."
   ]
  },
  {
   "cell_type": "code",
   "execution_count": 316,
   "metadata": {},
   "outputs": [],
   "source": [
    "class FarmLocation:\n",
    "    def __init__(self, spaces):\n",
    "        self.spaces = spaces\n",
    "        self.animals = []\n",
    "        self.location_type = None\n",
    "\n",
    "    def __str__(self):\n",
    "        return f\"The {self.location_type} has {len(self.animals)}/{self.spaces} spaces filled.\"\n",
    "    \n",
    "    \n",
    "    # método para checar se o local atingiu a capacidade máxima\n",
    "    # vamos adicionar o decorador property para que fique acessível como um atributo\n",
    "    @property\n",
    "    def is_full(self):\n",
    "        if len(self.animals) >= self.spaces:\n",
    "            return True\n",
    "        return False\n",
    "\n",
    "\n",
    "class Field(FarmLocation):\n",
    "    def __init__(self, spaces):\n",
    "        super().__init__(spaces)\n",
    "        self.location_type = 'Field'\n",
    "\n",
    "\n",
    "class Barn(FarmLocation):\n",
    "    def __init__(self, spaces):\n",
    "        super().__init__(spaces)\n",
    "        self.location_type = 'barn'"
   ]
  },
  {
   "cell_type": "code",
   "execution_count": 131,
   "metadata": {},
   "outputs": [],
   "source": [
    "# instanciando um novo armazém\n",
    "barn = Barn(2)"
   ]
  },
  {
   "cell_type": "code",
   "execution_count": 132,
   "metadata": {},
   "outputs": [
    {
     "data": {
      "text/plain": [
       "False"
      ]
     },
     "execution_count": 132,
     "metadata": {},
     "output_type": "execute_result"
    }
   ],
   "source": [
    "# checando se está cheio\n",
    "# vai retornar False já q não tem nenhum animal\n",
    "barn.is_full"
   ]
  },
  {
   "cell_type": "code",
   "execution_count": 135,
   "metadata": {},
   "outputs": [],
   "source": [
    "# vamos adicionar 2 animais e ver o q acontece\n",
    "# quando checamos novamente o atributo is_full\n",
    "barn.animals.append(\"cavalo\")\n",
    "barn.animals.append(\"vaca\")"
   ]
  },
  {
   "cell_type": "code",
   "execution_count": 136,
   "metadata": {},
   "outputs": [
    {
     "data": {
      "text/plain": [
       "True"
      ]
     },
     "execution_count": 136,
     "metadata": {},
     "output_type": "execute_result"
    }
   ],
   "source": [
    "barn.is_full"
   ]
  },
  {
   "cell_type": "markdown",
   "metadata": {},
   "source": [
    "#### Adapt your plan\n",
    "\n",
    "Nesta aula nós mudamos o plano em relação ao q desenhamos inicialmente. Para movimentação dos animais, decidimos não mais criar os métodos enter() e exit() na classe pai FarmLocation. Agora nós vamos passar essa movimentação para ser um método dos animais. Agora a classe pai Animal vai ter um método move()"
   ]
  },
  {
   "cell_type": "markdown",
   "metadata": {},
   "source": [
    "#### Add a Non-Public Attribute\n",
    "\n",
    "Aqui nós começamos a desenhar a dinamica de movimentação do animal. Primeiro criamos um atributo não-público _location, que vai armazenar a informação de onde está localizado o animal. E no método move() nós adicionamos alguns cometários informando como o método deverá funcionar."
   ]
  },
  {
   "cell_type": "code",
   "execution_count": null,
   "metadata": {},
   "outputs": [],
   "source": [
    "class Animal:\n",
    "    animal_type = None\n",
    "\n",
    "    def __init__(self, name, color):\n",
    "        self.name = name\n",
    "        self.color = color\n",
    "        self._stuff_in_belly = 0\n",
    "        # criação do atributo não-público\n",
    "        self._location = None\n",
    "\n",
    "    def __str__(self) -> str:\n",
    "        return f\"This is a {self.__class__.animal_type}, and its name is {self.nome}\"\n",
    "    \n",
    "\n",
    "    def eat(self):\n",
    "        # nova condicação adicionada ao método eat()\n",
    "        # se o animal não estiver com fome, será chamado o código poop()\n",
    "        if not self.is_hungry:\n",
    "            return self.poop()\n",
    "        # caso o animal ainda esteja com fome\n",
    "        # ele vai comer e adicionar +1 ao atributo não-público\n",
    "        self._stuff_in_belly += 1\n",
    "        return f\"{self.name} is eating...\"\n",
    "    \n",
    "    # novo método adicionado\n",
    "    # o método poop() esvazia a barriga do animal (atributo não-público)\n",
    "    def poop(self):\n",
    "        self._stuff_in_belly = 0\n",
    "        return f\"{self.name} poops, then looks relieved.\"\n",
    "    \n",
    "    # decorador adicionado ao método is_hungry()\n",
    "    # dessa forma ele pode ser acessado como um atributo\n",
    "    @property\n",
    "    def is_hungry(self):\n",
    "        if self._stuff_in_belly > 2:\n",
    "            return False\n",
    "        return True\n",
    "\n",
    "    def move(self, location):\n",
    "        # exit from a location if the animal is in\n",
    "        # enter into a location if it's not\n",
    "        # don't enter if location is full\n",
    "        # don't enter if animal is already in the location\n",
    "        pass\n",
    "\n",
    "    def talk(self, sound=\"Zzzz\"):\n",
    "        return f\"{self.nome} says {sound}\"\n",
    "    \n",
    "\n",
    "\n",
    "\n",
    "class Galinha(Animal):\n",
    "    animal_type = 'galinha'\n",
    "\n",
    "    def talk(self, sound=\"Coco\"):\n",
    "        return super().talk(sound)\n",
    "\n",
    "\n",
    "class Vaca(Animal):\n",
    "    animal_type = 'vaca'\n",
    "\n",
    "    def talk(self, sound=\"Muuu\"):\n",
    "        return super().talk(sound)\n",
    "    \n",
    "\n",
    "class Cavalo(Animal):\n",
    "    animal_type = 'cavalo'\n",
    "\n",
    "    def talk(self, sound=\"Bruu\"):\n",
    "        return super().talk(sound)"
   ]
  },
  {
   "cell_type": "markdown",
   "metadata": {},
   "source": [
    "#### Refine Plan for Move Method\n",
    "\n",
    "Nesta aula nós apenas refinamos os comnentários do método move(). Organizamos melhor os comentários e definimos melhor como o método vai funcionar."
   ]
  },
  {
   "cell_type": "code",
   "execution_count": null,
   "metadata": {},
   "outputs": [],
   "source": [
    "class Animal:\n",
    "    animal_type = None\n",
    "\n",
    "    def __init__(self, name, color):\n",
    "        self.name = name\n",
    "        self.color = color\n",
    "        self._stuff_in_belly = 0\n",
    "        # criação do atributo não-público\n",
    "        self._location = None\n",
    "\n",
    "    def __str__(self) -> str:\n",
    "        return f\"This is a {self.__class__.animal_type}, and its name is {self.nome}\"\n",
    "    \n",
    "\n",
    "    def eat(self):\n",
    "        # nova condicação adicionada ao método eat()\n",
    "        # se o animal não estiver com fome, será chamado o código poop()\n",
    "        if not self.is_hungry:\n",
    "            return self.poop()\n",
    "        # caso o animal ainda esteja com fome\n",
    "        # ele vai comer e adicionar +1 ao atributo não-público\n",
    "        self._stuff_in_belly += 1\n",
    "        return f\"{self.name} is eating...\"\n",
    "    \n",
    "    # novo método adicionado\n",
    "    # o método poop() esvazia a barriga do animal (atributo não-público)\n",
    "    def poop(self):\n",
    "        self._stuff_in_belly = 0\n",
    "        return f\"{self.name} poops, then looks relieved.\"\n",
    "    \n",
    "    # decorador adicionado ao método is_hungry()\n",
    "    # dessa forma ele pode ser acessado como um atributo\n",
    "    @property\n",
    "    def is_hungry(self):\n",
    "        if self._stuff_in_belly > 2:\n",
    "            return False\n",
    "        return True\n",
    "\n",
    "    def move(self, location):\n",
    "        # 1) before updating self._location\n",
    "        # don't enter if animal is already in the location\n",
    "        # exit from a location if the animal is in\n",
    "\n",
    "        # 2) after updating self._location\n",
    "        # check whether the location is full\n",
    "        # enter into a location if it's not\n",
    "        \n",
    "        pass\n",
    "\n",
    "    def talk(self, sound=\"Zzzz\"):\n",
    "        return f\"{self.nome} says {sound}\"\n",
    "    \n",
    "\n",
    "\n",
    "\n",
    "class Galinha(Animal):\n",
    "    animal_type = 'galinha'\n",
    "\n",
    "    def talk(self, sound=\"Coco\"):\n",
    "        return super().talk(sound)\n",
    "\n",
    "\n",
    "class Vaca(Animal):\n",
    "    animal_type = 'vaca'\n",
    "\n",
    "    def talk(self, sound=\"Muuu\"):\n",
    "        return super().talk(sound)\n",
    "    \n",
    "\n",
    "class Cavalo(Animal):\n",
    "    animal_type = 'cavalo'\n",
    "\n",
    "    def talk(self, sound=\"Bruu\"):\n",
    "        return super().talk(sound)"
   ]
  },
  {
   "cell_type": "markdown",
   "metadata": {},
   "source": [
    "#### Avoid Duplicate Animals\n",
    "\n",
    "Aqui nós começamos a incrementar o método move()."
   ]
  },
  {
   "cell_type": "code",
   "execution_count": null,
   "metadata": {},
   "outputs": [],
   "source": [
    "class Animal:\n",
    "    animal_type = None\n",
    "\n",
    "    def __init__(self, name, color):\n",
    "        self.name = name\n",
    "        self.color = color\n",
    "        self._stuff_in_belly = 0\n",
    "        # criação do atributo não-público\n",
    "        self._location = None\n",
    "\n",
    "    def __str__(self) -> str:\n",
    "        return f\"This is a {self.__class__.animal_type}, and its name is {self.nome}\"\n",
    "    \n",
    "\n",
    "    def eat(self):\n",
    "        # nova condicação adicionada ao método eat()\n",
    "        # se o animal não estiver com fome, será chamado o código poop()\n",
    "        if not self.is_hungry:\n",
    "            return self.poop()\n",
    "        # caso o animal ainda esteja com fome\n",
    "        # ele vai comer e adicionar +1 ao atributo não-público\n",
    "        self._stuff_in_belly += 1\n",
    "        return f\"{self.name} is eating...\"\n",
    "    \n",
    "    # novo método adicionado\n",
    "    # o método poop() esvazia a barriga do animal (atributo não-público)\n",
    "    def poop(self):\n",
    "        self._stuff_in_belly = 0\n",
    "        return f\"{self.name} poops, then looks relieved.\"\n",
    "    \n",
    "    # decorador adicionado ao método is_hungry()\n",
    "    # dessa forma ele pode ser acessado como um atributo\n",
    "    @property\n",
    "    def is_hungry(self):\n",
    "        if self._stuff_in_belly > 2:\n",
    "            return False\n",
    "        return True\n",
    "\n",
    "    def move(self, new_location):\n",
    "        # 1) before updating self._location\n",
    "        # don't enter if animal is already in the location\n",
    "        if self._location is new_location:\n",
    "            return f\"{self.name} is already here!\"\n",
    "        # in case the animal is already in a location, but has to move to a new one\n",
    "        # exit from a location the animal is in\n",
    "        elif self._location is not None:\n",
    "            self._location.animals.remove(self)\n",
    "            print(f\"{self.name} exits from {self._location}\")\n",
    "\n",
    "\n",
    "        # 2) after updating self._location\n",
    "        # check whether the location is full\n",
    "        # enter into a location if it's not\n",
    "        \n",
    "        pass\n",
    "\n",
    "    def talk(self, sound=\"Zzzz\"):\n",
    "        return f\"{self.nome} says {sound}\"\n",
    "    \n",
    "\n",
    "\n",
    "\n",
    "class Galinha(Animal):\n",
    "    animal_type = 'galinha'\n",
    "\n",
    "    def talk(self, sound=\"Coco\"):\n",
    "        return super().talk(sound)\n",
    "\n",
    "\n",
    "class Vaca(Animal):\n",
    "    animal_type = 'vaca'\n",
    "\n",
    "    def talk(self, sound=\"Muuu\"):\n",
    "        return super().talk(sound)\n",
    "    \n",
    "\n",
    "class Cavalo(Animal):\n",
    "    animal_type = 'cavalo'\n",
    "\n",
    "    def talk(self, sound=\"Bruu\"):\n",
    "        return super().talk(sound)"
   ]
  },
  {
   "cell_type": "markdown",
   "metadata": {},
   "source": [
    "#### Prevent Overpopulation\n",
    "\n",
    "Aqui deixamos o método move() ainda mais completo. Fazemos alguma validações, checamos se o local já está cheio e, caso negativo, movemos o animal para dentro deste local."
   ]
  },
  {
   "cell_type": "code",
   "execution_count": 395,
   "metadata": {},
   "outputs": [],
   "source": [
    "class Animal:\n",
    "    animal_type = None\n",
    "\n",
    "    def __init__(self, name, color):\n",
    "        self.name = name\n",
    "        self.color = color\n",
    "        self._stuff_in_belly = 0\n",
    "        # criação do atributo não-público\n",
    "        self._location = None\n",
    "\n",
    "    def __str__(self) -> str:\n",
    "        return f\"This is a {self.__class__.animal_type}, and its name is {self.nome}\"\n",
    "    \n",
    "\n",
    "    def eat(self):\n",
    "        # nova condicação adicionada ao método eat()\n",
    "        # se o animal não estiver com fome, será chamado o código poop()\n",
    "        if not self.is_hungry:\n",
    "            return self.poop()\n",
    "        # caso o animal ainda esteja com fome\n",
    "        # ele vai comer e adicionar +1 ao atributo não-público\n",
    "        self._stuff_in_belly += 1\n",
    "        return f\"{self.name} is eating...\"\n",
    "    \n",
    "    # novo método adicionado\n",
    "    # o método poop() esvazia a barriga do animal (atributo não-público)\n",
    "    def poop(self):\n",
    "        self._stuff_in_belly = 0\n",
    "        return f\"{self.name} poops, then looks relieved.\"\n",
    "    \n",
    "    # decorador adicionado ao método is_hungry()\n",
    "    # dessa forma ele pode ser acessado como um atributo\n",
    "    @property\n",
    "    def is_hungry(self):\n",
    "        if self._stuff_in_belly > 2:\n",
    "            return False\n",
    "        return True\n",
    "\n",
    "    def move(self, new_location):\n",
    "        # 1) before updating self._location\n",
    "        # don't enter if animal is already in the location\n",
    "        if self._location is new_location:\n",
    "            return f\"{self.name} is already here!\"\n",
    "        # in case the animal is already in a location, but has to move to a new one\n",
    "        # exit from a location the animal is in\n",
    "        elif self._location is not None:\n",
    "            self._location.animals.remove(self)\n",
    "            return f\"{self.name} moved to the {new_location.location_type}\"\n",
    "\n",
    "        # 2) Checking and updating _location info\n",
    "        # check whether the location is full\n",
    "        # in case it is full, code will return a warning and do nothing\n",
    "        if new_location.is_full:\n",
    "            return f\"The {new_location.location_type} is full.\"\n",
    "        # in case the above statement return False, it will run below code\n",
    "        # and put the animal in the new location\n",
    "        # here we update info on the Animal\n",
    "        self._location = new_location\n",
    "        # and here we update in the Location object\n",
    "        # enter into a location if it's not\n",
    "        new_location.animals.append(self)\n",
    "        return f\"{self.name} moved to the {new_location.location_type}\"\n",
    "    \n",
    "\n",
    "    def talk(self, sound=\"Zzzz\"):\n",
    "        return f\"{self.nome} says {sound}\"\n",
    "    \n",
    "\n",
    "\n",
    "\n",
    "class Galinha(Animal):\n",
    "    animal_type = 'galinha'\n",
    "\n",
    "    def talk(self, sound=\"Coco\"):\n",
    "        return super().talk(sound)\n",
    "\n",
    "\n",
    "class Vaca(Animal):\n",
    "    animal_type = 'vaca'\n",
    "\n",
    "    def talk(self, sound=\"Muuu\"):\n",
    "        return super().talk(sound)\n",
    "    \n",
    "\n",
    "class Cavalo(Animal):\n",
    "    animal_type = 'cavalo'\n",
    "\n",
    "    def talk(self, sound=\"Bruu\"):\n",
    "        return super().talk(sound)"
   ]
  },
  {
   "cell_type": "markdown",
   "metadata": {},
   "source": [
    "#### Test Move Method"
   ]
  },
  {
   "cell_type": "code",
   "execution_count": 396,
   "metadata": {},
   "outputs": [],
   "source": [
    "cavalo = Cavalo(\"Pe de pano\", 'branco')\n",
    "galinha = Galinha(\"Tuca\", \"preta\")"
   ]
  },
  {
   "cell_type": "code",
   "execution_count": 397,
   "metadata": {},
   "outputs": [],
   "source": [
    "barn = Barn(1)\n",
    "field = Field(10)"
   ]
  },
  {
   "cell_type": "code",
   "execution_count": 398,
   "metadata": {},
   "outputs": [
    {
     "name": "stdout",
     "output_type": "stream",
     "text": [
      "None\n"
     ]
    }
   ],
   "source": [
    "print(cavalo._location)"
   ]
  },
  {
   "cell_type": "code",
   "execution_count": 399,
   "metadata": {},
   "outputs": [
    {
     "data": {
      "text/plain": [
       "'Tuca moved to the Field'"
      ]
     },
     "execution_count": 399,
     "metadata": {},
     "output_type": "execute_result"
    }
   ],
   "source": [
    "cavalo.move(field)\n",
    "galinha.move(field)"
   ]
  },
  {
   "cell_type": "code",
   "execution_count": 400,
   "metadata": {},
   "outputs": [
    {
     "name": "stdout",
     "output_type": "stream",
     "text": [
      "The Field has 2/10 spaces filled.\n"
     ]
    }
   ],
   "source": [
    "print(cavalo._location)"
   ]
  },
  {
   "cell_type": "code",
   "execution_count": 401,
   "metadata": {},
   "outputs": [
    {
     "data": {
      "text/plain": [
       "[<__main__.Cavalo at 0x7ff78c945b50>, <__main__.Galinha at 0x7ff78c945f70>]"
      ]
     },
     "execution_count": 401,
     "metadata": {},
     "output_type": "execute_result"
    }
   ],
   "source": [
    "field.animals"
   ]
  },
  {
   "cell_type": "code",
   "execution_count": 402,
   "metadata": {},
   "outputs": [
    {
     "data": {
      "text/plain": [
       "'Tuca moved to the barn'"
      ]
     },
     "execution_count": 402,
     "metadata": {},
     "output_type": "execute_result"
    }
   ],
   "source": [
    "galinha.move(barn)"
   ]
  },
  {
   "cell_type": "code",
   "execution_count": 403,
   "metadata": {},
   "outputs": [
    {
     "data": {
      "text/plain": [
       "[<__main__.Cavalo at 0x7ff78c945b50>]"
      ]
     },
     "execution_count": 403,
     "metadata": {},
     "output_type": "execute_result"
    }
   ],
   "source": [
    "field.animals"
   ]
  },
  {
   "cell_type": "code",
   "execution_count": 404,
   "metadata": {},
   "outputs": [
    {
     "data": {
      "text/plain": [
       "[]"
      ]
     },
     "execution_count": 404,
     "metadata": {},
     "output_type": "execute_result"
    }
   ],
   "source": [
    "# olha aqui o bug\n",
    "# barn era pra ter um animal, já q a galinha tinha ido pra lá\n",
    "barn.animals"
   ]
  },
  {
   "cell_type": "code",
   "execution_count": 405,
   "metadata": {},
   "outputs": [
    {
     "data": {
      "text/plain": [
       "'Pe de pano moved to the barn'"
      ]
     },
     "execution_count": 405,
     "metadata": {},
     "output_type": "execute_result"
    }
   ],
   "source": [
    "# tentei mover o cavalo pro barn e ele aceitou de boa\n",
    "# o correto era ele acusar q está cheio\n",
    "# isso deve estar acontecendo ali na linha 46\n",
    "# quando ele verifica se o _location está como None\n",
    "# caso dê verdadeiro ele executa até a linha 48 e para ali mesmo\n",
    "cavalo.move(barn)"
   ]
  },
  {
   "cell_type": "code",
   "execution_count": 406,
   "metadata": {},
   "outputs": [
    {
     "data": {
      "text/plain": [
       "[]"
      ]
     },
     "execution_count": 406,
     "metadata": {},
     "output_type": "execute_result"
    }
   ],
   "source": [
    "barn.animals"
   ]
  },
  {
   "cell_type": "markdown",
   "metadata": {},
   "source": [
    "#### Bug correction\n",
    "\n",
    "Aqui fazemos a correção do erro acima. Veja que agora ele verifica tbm se o atributo _location está como None ou não. Agora o código busca todas as exceções e executa todos os blocos de código."
   ]
  },
  {
   "cell_type": "code",
   "execution_count": 507,
   "metadata": {},
   "outputs": [],
   "source": [
    "class Animal:\n",
    "    animal_type = None\n",
    "\n",
    "    def __init__(self, name, color):\n",
    "        self.name = name\n",
    "        self.color = color\n",
    "        self._stuff_in_belly = 0\n",
    "        self._location = None\n",
    "\n",
    "    def __str__(self) -> str:\n",
    "        return f\"This is a {self.__class__.animal_type}, located in {self._location} and its name is {self.name}\"\n",
    "    \n",
    "\n",
    "    def eat(self):\n",
    "        if not self.is_hungry:\n",
    "            return self.poop()\n",
    "\n",
    "        self._stuff_in_belly += 1\n",
    "        return f\"{self.name} is eating...\"\n",
    "    \n",
    "    def poop(self):\n",
    "        self._stuff_in_belly = 0\n",
    "        return f\"{self.name} poops, then looks relieved.\"\n",
    "    \n",
    "    @property\n",
    "    def is_hungry(self):\n",
    "        if self._stuff_in_belly > 2:\n",
    "            return False\n",
    "        return True\n",
    "\n",
    "    def move(self, new_location):\n",
    "        if self._location is new_location:\n",
    "            return f\"{self.name} is already here!\"\n",
    "        \n",
    "        elif new_location.is_full:\n",
    "            return f\"The {new_location.location_type} is full.\"\n",
    "      \n",
    "        elif self._location is not None:\n",
    "            self._location.animals.remove(self)\n",
    "            new_location.animals.append(self)\n",
    "            self._location = new_location\n",
    "            return f\"{self.name} moved to the {new_location.location_type}\"\n",
    "        \n",
    "        self._location = new_location\n",
    "        new_location.animals.append(self)\n",
    "        return f\"{self.name} moved to the {new_location.location_type}\"\n",
    "\n",
    "    \n",
    "\n",
    "    def talk(self, sound=\"Zzzz\"):\n",
    "        return f\"{self.nome} says {sound}\"\n",
    "    \n",
    "\n",
    "\n",
    "\n",
    "class Galinha(Animal):\n",
    "    animal_type = 'galinha'\n",
    "\n",
    "    def talk(self, sound=\"Coco\"):\n",
    "        return super().talk(sound)\n",
    "\n",
    "\n",
    "class Vaca(Animal):\n",
    "    animal_type = 'vaca'\n",
    "\n",
    "    def talk(self, sound=\"Muuu\"):\n",
    "        return super().talk(sound)\n",
    "    \n",
    "\n",
    "class Cavalo(Animal):\n",
    "    animal_type = 'cavalo'\n",
    "\n",
    "    def talk(self, sound=\"Bruu\"):\n",
    "        return super().talk(sound)"
   ]
  },
  {
   "cell_type": "code",
   "execution_count": 508,
   "metadata": {},
   "outputs": [],
   "source": [
    "cavalo = Cavalo(\"Pe de pano\", 'branco')\n",
    "galinha = Galinha(\"Tuca\", \"preta\")"
   ]
  },
  {
   "cell_type": "code",
   "execution_count": 509,
   "metadata": {},
   "outputs": [],
   "source": [
    "barn = Barn(1)\n",
    "field = Field(10)"
   ]
  },
  {
   "cell_type": "code",
   "execution_count": 511,
   "metadata": {},
   "outputs": [],
   "source": [
    "# local do cavalo é None, pois ele acabou de nascer\n",
    "cavalo._location"
   ]
  },
  {
   "cell_type": "code",
   "execution_count": 512,
   "metadata": {},
   "outputs": [
    {
     "data": {
      "text/plain": [
       "'Pe de pano moved to the barn'"
      ]
     },
     "execution_count": 512,
     "metadata": {},
     "output_type": "execute_result"
    }
   ],
   "source": [
    "# cavalo foi para o barn\n",
    "cavalo.move(barn)"
   ]
  },
  {
   "cell_type": "code",
   "execution_count": 513,
   "metadata": {},
   "outputs": [
    {
     "name": "stdout",
     "output_type": "stream",
     "text": [
      "The barn has 1/1 spaces filled.\n"
     ]
    }
   ],
   "source": [
    "# o local do cavalo já está com ocupação maxima\n",
    "print(cavalo._location)"
   ]
  },
  {
   "cell_type": "code",
   "execution_count": 514,
   "metadata": {},
   "outputs": [
    {
     "data": {
      "text/plain": [
       "[<__main__.Cavalo at 0x7ff78c610d60>]"
      ]
     },
     "execution_count": 514,
     "metadata": {},
     "output_type": "execute_result"
    }
   ],
   "source": [
    "# tem um cavalo no barn\n",
    "barn.animals"
   ]
  },
  {
   "cell_type": "code",
   "execution_count": 515,
   "metadata": {},
   "outputs": [
    {
     "data": {
      "text/plain": [
       "'Pe de pano moved to the Field'"
      ]
     },
     "execution_count": 515,
     "metadata": {},
     "output_type": "execute_result"
    }
   ],
   "source": [
    "# cavalo saiu do barn e foi pro campo\n",
    "cavalo.move(field)"
   ]
  },
  {
   "cell_type": "code",
   "execution_count": 516,
   "metadata": {},
   "outputs": [
    {
     "data": {
      "text/plain": [
       "[]"
      ]
     },
     "execution_count": 516,
     "metadata": {},
     "output_type": "execute_result"
    }
   ],
   "source": [
    "# barn ficou vazio\n",
    "barn.animals"
   ]
  },
  {
   "cell_type": "code",
   "execution_count": 517,
   "metadata": {},
   "outputs": [
    {
     "data": {
      "text/plain": [
       "[<__main__.Cavalo at 0x7ff78c610d60>]"
      ]
     },
     "execution_count": 517,
     "metadata": {},
     "output_type": "execute_result"
    }
   ],
   "source": [
    "# enquanto field tem um cavalo\n",
    "field.animals"
   ]
  },
  {
   "cell_type": "code",
   "execution_count": 518,
   "metadata": {},
   "outputs": [
    {
     "data": {
      "text/plain": [
       "'Tuca moved to the Field'"
      ]
     },
     "execution_count": 518,
     "metadata": {},
     "output_type": "execute_result"
    }
   ],
   "source": [
    "# agora a galinha tbm foi para o field\n",
    "galinha.move(field)"
   ]
  },
  {
   "cell_type": "code",
   "execution_count": 519,
   "metadata": {},
   "outputs": [
    {
     "data": {
      "text/plain": [
       "[<__main__.Cavalo at 0x7ff78c610d60>, <__main__.Galinha at 0x7ff78c6101f0>]"
      ]
     },
     "execution_count": 519,
     "metadata": {},
     "output_type": "execute_result"
    }
   ],
   "source": [
    "# quais animais estão em field\n",
    "field.animals"
   ]
  },
  {
   "cell_type": "code",
   "execution_count": 521,
   "metadata": {},
   "outputs": [
    {
     "data": {
      "text/plain": [
       "[]"
      ]
     },
     "execution_count": 521,
     "metadata": {},
     "output_type": "execute_result"
    }
   ],
   "source": [
    "# aqui o barn ainda está vazio\n",
    "barn.animals"
   ]
  },
  {
   "cell_type": "code",
   "execution_count": 522,
   "metadata": {},
   "outputs": [
    {
     "data": {
      "text/plain": [
       "'Tuca moved to the barn'"
      ]
     },
     "execution_count": 522,
     "metadata": {},
     "output_type": "execute_result"
    }
   ],
   "source": [
    "# galinha foi para o barn\n",
    "galinha.move(barn)"
   ]
  },
  {
   "cell_type": "code",
   "execution_count": 523,
   "metadata": {},
   "outputs": [
    {
     "data": {
      "text/plain": [
       "[<__main__.Galinha at 0x7ff78c6101f0>]"
      ]
     },
     "execution_count": 523,
     "metadata": {},
     "output_type": "execute_result"
    }
   ],
   "source": [
    "# e o barn acusa q ela chegou...\n",
    "barn.animals"
   ]
  },
  {
   "cell_type": "code",
   "execution_count": 524,
   "metadata": {},
   "outputs": [
    {
     "data": {
      "text/plain": [
       "[<__main__.Cavalo at 0x7ff78c610d60>]"
      ]
     },
     "execution_count": 524,
     "metadata": {},
     "output_type": "execute_result"
    }
   ],
   "source": [
    "# e o field tbm mostra q lá só tem o cavalo agora\n",
    "field.animals"
   ]
  },
  {
   "cell_type": "code",
   "execution_count": 525,
   "metadata": {},
   "outputs": [
    {
     "data": {
      "text/plain": [
       "'The barn is full.'"
      ]
     },
     "execution_count": 525,
     "metadata": {},
     "output_type": "execute_result"
    }
   ],
   "source": [
    "# o cavalo tentou ir para o barn, mas ele está cheio\n",
    "cavalo.move(barn)"
   ]
  },
  {
   "cell_type": "code",
   "execution_count": 526,
   "metadata": {},
   "outputs": [
    {
     "data": {
      "text/plain": [
       "[<__main__.Cavalo at 0x7ff78c610d60>]"
      ]
     },
     "execution_count": 526,
     "metadata": {},
     "output_type": "execute_result"
    }
   ],
   "source": [
    "# mas o cavalo continua no field\n",
    "field.animals"
   ]
  },
  {
   "cell_type": "code",
   "execution_count": 528,
   "metadata": {},
   "outputs": [
    {
     "data": {
      "text/plain": [
       "'Field'"
      ]
     },
     "execution_count": 528,
     "metadata": {},
     "output_type": "execute_result"
    }
   ],
   "source": [
    "# confirmando q o cavalo ta no field\n",
    "cavalo._location.location_type"
   ]
  },
  {
   "cell_type": "markdown",
   "metadata": {},
   "source": [
    "#### Discover an Issue Referencing Location Objects"
   ]
  },
  {
   "cell_type": "markdown",
   "metadata": {},
   "source": [
    "Nesta aula o professor apenas evidencia que existe um erro na classer dunder str de animal. Veja que neste método ele referencia um ```_location.location_type```, mas isso pode dar erro quando ```_location``` estiver como ```None```. E também dá problema quando este atributo guarda a classe (barn ou field). Estas classes tem métodos dunder str próprios e pode causar problemas quando a utilizamos dentro do método dunder str de Animal."
   ]
  },
  {
   "cell_type": "code",
   "execution_count": 457,
   "metadata": {},
   "outputs": [
    {
     "name": "stdout",
     "output_type": "stream",
     "text": [
      "This is a cavalo, located in The Field has 1/10 spaces filled. and its name is Pe de pano\n"
     ]
    }
   ],
   "source": [
    "# veja q ao tentarmos printar o objeto cavalo\n",
    "# ele tbm vai printar o __str__ do objeto location\n",
    "# deixando a frase sem sentido\n",
    "print(cavalo)"
   ]
  },
  {
   "cell_type": "code",
   "execution_count": 458,
   "metadata": {},
   "outputs": [],
   "source": [
    "vaca = Vaca(\"mimosa\", \"malhada\")"
   ]
  },
  {
   "cell_type": "code",
   "execution_count": 459,
   "metadata": {},
   "outputs": [
    {
     "name": "stdout",
     "output_type": "stream",
     "text": [
      "This is a vaca, located in None and its name is mimosa\n"
     ]
    }
   ],
   "source": [
    "# agora veja q quando nao tem definição de location\n",
    "# ele retorna o None, deixando tbm a frase sem sentido\n",
    "print(vaca)"
   ]
  },
  {
   "cell_type": "markdown",
   "metadata": {},
   "source": [
    "#### Add Public Location Property\n",
    "\n",
    "Nesta aula vamos contornar o problema do location explicado acima."
   ]
  },
  {
   "cell_type": "code",
   "execution_count": 460,
   "metadata": {},
   "outputs": [],
   "source": [
    "class Animal:\n",
    "    animal_type = None\n",
    "\n",
    "    def __init__(self, name, color):\n",
    "        self.name = name\n",
    "        self.color = color\n",
    "        self._stuff_in_belly = 0\n",
    "        self._location = None\n",
    "\n",
    "    def __str__(self) -> str:\n",
    "        return f\"This is a {self.__class__.animal_type}, located in {self.location} and its name is {self.name}\"\n",
    "    \n",
    "    # vamos criar um método q retorna o local\n",
    "    # além de tratar a saída quando o location for None\n",
    "    # e aí transformamos o método num atributo para facilitar seu acesso\n",
    "    # este atributo é para ser usado pelo usuário\n",
    "    # o atributo não público _location é só para ser usado internamente na classe\n",
    "    # ele carrega outros objetos e deve ser manipulado com cuidado\n",
    "    @property\n",
    "    def location(self):\n",
    "        return self._location.location_type if self._location is not None else \"void\"\n",
    "\n",
    "    def eat(self):\n",
    "        if not self.is_hungry:\n",
    "            return self.poop()\n",
    "\n",
    "        self._stuff_in_belly += 1\n",
    "        return f\"{self.name} is eating...\"\n",
    "    \n",
    "    def poop(self):\n",
    "        self._stuff_in_belly = 0\n",
    "        return f\"{self.name} poops, then looks relieved.\"\n",
    "    \n",
    "    @property\n",
    "    def is_hungry(self):\n",
    "        if self._stuff_in_belly > 2:\n",
    "            return False\n",
    "        return True\n",
    "\n",
    "    def move(self, new_location):\n",
    "        if self._location is new_location:\n",
    "            return f\"{self.name} is already here!\"\n",
    "        \n",
    "        elif new_location.is_full:\n",
    "            return f\"The {new_location.location_type} is full.\"\n",
    "      \n",
    "        elif self._location is not None:\n",
    "            self._location.animals.remove(self)\n",
    "            new_location.animals.append(self)\n",
    "            self._location = new_location\n",
    "            return f\"{self.name} moved to the {new_location.location_type}\"\n",
    "        \n",
    "        elif self._location is None:\n",
    "            self._location = new_location\n",
    "            new_location.animals.append(self)\n",
    "            return f\"{self.name} moved to the {new_location.location_type}\"\n",
    "\n",
    "    \n",
    "\n",
    "    def talk(self, sound=\"Zzzz\"):\n",
    "        return f\"{self.nome} says {sound}\"\n",
    "    \n",
    "\n",
    "\n",
    "\n",
    "class Galinha(Animal):\n",
    "    animal_type = 'galinha'\n",
    "\n",
    "    def talk(self, sound=\"Coco\"):\n",
    "        return super().talk(sound)\n",
    "\n",
    "\n",
    "class Vaca(Animal):\n",
    "    animal_type = 'vaca'\n",
    "\n",
    "    def talk(self, sound=\"Muuu\"):\n",
    "        return super().talk(sound)\n",
    "    \n",
    "\n",
    "class Cavalo(Animal):\n",
    "    animal_type = 'cavalo'\n",
    "\n",
    "    def talk(self, sound=\"Bruu\"):\n",
    "        return super().talk(sound)"
   ]
  },
  {
   "cell_type": "code",
   "execution_count": 461,
   "metadata": {},
   "outputs": [],
   "source": [
    "# vamos agora fazer o teste\n",
    "\n",
    "# instanciando uma vaca\n",
    "vaca = Vaca(\"mimosa\", \"malhada\")"
   ]
  },
  {
   "cell_type": "code",
   "execution_count": 462,
   "metadata": {},
   "outputs": [
    {
     "name": "stdout",
     "output_type": "stream",
     "text": [
      "This is a vaca, located in void and its name is mimosa\n"
     ]
    }
   ],
   "source": [
    "# aqui já vemos que o novo atributo location funcionou\n",
    "# já q ele retorna void\n",
    "print(vaca)"
   ]
  },
  {
   "cell_type": "code",
   "execution_count": 463,
   "metadata": {},
   "outputs": [],
   "source": [
    "# criando um novo local...\n",
    "field = Field(10)"
   ]
  },
  {
   "cell_type": "code",
   "execution_count": 464,
   "metadata": {},
   "outputs": [
    {
     "data": {
      "text/plain": [
       "'mimosa moved to the Field'"
      ]
     },
     "execution_count": 464,
     "metadata": {},
     "output_type": "execute_result"
    }
   ],
   "source": [
    "# movendo a vaca para este novo local\n",
    "vaca.move(field)"
   ]
  },
  {
   "cell_type": "code",
   "execution_count": 466,
   "metadata": {},
   "outputs": [
    {
     "name": "stdout",
     "output_type": "stream",
     "text": [
      "This is a vaca, located in Field and its name is mimosa\n"
     ]
    }
   ],
   "source": [
    "# printando a vaca novamente e confirmando o funcionamento do novo atributo\n",
    "print(vaca)"
   ]
  },
  {
   "cell_type": "code",
   "execution_count": 467,
   "metadata": {},
   "outputs": [
    {
     "data": {
      "text/plain": [
       "'Field'"
      ]
     },
     "execution_count": 467,
     "metadata": {},
     "output_type": "execute_result"
    }
   ],
   "source": [
    "vaca.location"
   ]
  },
  {
   "cell_type": "markdown",
   "metadata": {},
   "source": [
    "#### Extend Child Class With Extra Method\n",
    "\n",
    "Aqui vamos extender a classe Cavalo."
   ]
  },
  {
   "cell_type": "code",
   "execution_count": 474,
   "metadata": {},
   "outputs": [],
   "source": [
    "import time\n",
    "\n",
    "class Animal:\n",
    "    animal_type = None\n",
    "\n",
    "    def __init__(self, name, color):\n",
    "        self.name = name\n",
    "        self.color = color\n",
    "        self._stuff_in_belly = 0\n",
    "        self._location = None\n",
    "\n",
    "    def __str__(self) -> str:\n",
    "        return f\"This is a {self.__class__.animal_type}, located in {self.location} and its name is {self.name}\"\n",
    "    \n",
    "    # vamos criar um método q retorna o local\n",
    "    # além de tratar a saída quando o location for None\n",
    "    # e aí transformamos o método num atributo para facilitar seu acesso\n",
    "    # este atributo é para ser usado pelo usuário\n",
    "    # o atributo não público _location é só para ser usado internamente na classe\n",
    "    # ele carrega outros objetos e deve ser manipulado com cuidado\n",
    "    @property\n",
    "    def location(self):\n",
    "        return self._location.location_type if self._location is not None else \"void\"\n",
    "\n",
    "    def eat(self):\n",
    "        if not self.is_hungry:\n",
    "            return self.poop()\n",
    "\n",
    "        self._stuff_in_belly += 1\n",
    "        return f\"{self.name} is eating...\"\n",
    "    \n",
    "    def poop(self):\n",
    "        self._stuff_in_belly = 0\n",
    "        return f\"{self.name} poops, then looks relieved.\"\n",
    "    \n",
    "    @property\n",
    "    def is_hungry(self):\n",
    "        if self._stuff_in_belly > 2:\n",
    "            return False\n",
    "        return True\n",
    "\n",
    "    def move(self, new_location):\n",
    "        if self._location is new_location:\n",
    "            return f\"{self.name} is already here!\"\n",
    "        \n",
    "        elif new_location.is_full:\n",
    "            return f\"The {new_location.location_type} is full.\"\n",
    "      \n",
    "        elif self._location is not None:\n",
    "            self._location.animals.remove(self)\n",
    "            new_location.animals.append(self)\n",
    "            self._location = new_location\n",
    "            return f\"{self.name} moved to the {new_location.location_type}\"\n",
    "        \n",
    "        elif self._location is None:\n",
    "            self._location = new_location\n",
    "            new_location.animals.append(self)\n",
    "            return f\"{self.name} moved to the {new_location.location_type}\"\n",
    "\n",
    "    \n",
    "\n",
    "    def talk(self, sound=\"Zzzz\"):\n",
    "        return f\"{self.nome} says {sound}\"\n",
    "    \n",
    "\n",
    "\n",
    "\n",
    "class Galinha(Animal):\n",
    "    animal_type = 'galinha'\n",
    "\n",
    "    def talk(self, sound=\"Coco\"):\n",
    "        return super().talk(sound)\n",
    "\n",
    "\n",
    "class Vaca(Animal):\n",
    "    animal_type = 'vaca'\n",
    "\n",
    "    def talk(self, sound=\"Muuu\"):\n",
    "        return super().talk(sound)\n",
    "    \n",
    "\n",
    "class Cavalo(Animal):\n",
    "    animal_type = 'cavalo'\n",
    "\n",
    "    def talk(self, sound=\"Bruu\"):\n",
    "        return super().talk(sound)\n",
    "    \n",
    "    # este é o novo método criado\n",
    "    # no exemplo do professor este método é uma habilidade da classe cachorro\n",
    "    # mas eu fiz um cavalo e vai ficar assim mesmo\n",
    "    def fetch(self, thing):\n",
    "        print(f\"O {self.name} corre atrás do(a) {thing}\")\n",
    "        time.sleep(0.5)\n",
    "        print(f\"{self.name} retorna com o(a) {thing}...\")\n",
    "        time.sleep(2)\n",
    "        return thing\n"
   ]
  },
  {
   "cell_type": "code",
   "execution_count": null,
   "metadata": {},
   "outputs": [],
   "source": []
  },
  {
   "cell_type": "markdown",
   "metadata": {},
   "source": [
    "#### Throw the Dog a Ball\n",
    "\n",
    "Testando o novo método adicionado acima à classe Cavalo."
   ]
  },
  {
   "cell_type": "code",
   "execution_count": 475,
   "metadata": {},
   "outputs": [],
   "source": [
    "cavalo = Cavalo(\"Pe de pano\", \"branco\")"
   ]
  },
  {
   "cell_type": "code",
   "execution_count": 478,
   "metadata": {},
   "outputs": [
    {
     "name": "stdout",
     "output_type": "stream",
     "text": [
      "O Pe de pano corre atrás do(a) pedra\n",
      "Pe de pano retorna com o(a) pedra...\n"
     ]
    },
    {
     "data": {
      "text/plain": [
       "'pedra'"
      ]
     },
     "execution_count": 478,
     "metadata": {},
     "output_type": "execute_result"
    }
   ],
   "source": [
    "cavalo.fetch('pedra')"
   ]
  },
  {
   "cell_type": "markdown",
   "metadata": {},
   "source": [
    "#### Explore Additional Ideas"
   ]
  },
  {
   "cell_type": "markdown",
   "metadata": {},
   "source": [
    "Aqui ele só dá algumas ideias em como podemos deixar nossa Fazenda mais complexa, criando mais objetos e interações como comida, fenômenos naturais, etc. Ele tbm menciona que podemos adicionar mais um método mágico, o ```__repr__```. Veja a diferença entre ```__repr__``` e ```__str__``` aqui."
   ]
  },
  {
   "cell_type": "markdown",
   "metadata": {},
   "source": [
    "#### Identify the bug"
   ]
  },
  {
   "cell_type": "markdown",
   "metadata": {},
   "source": [
    "Nesta o professor somente explica o porque do bug e qual o problema com o código: o problema está no método ```move()```quando o animal se move para um lugar q já está cheio. Ao tentar fazer isso o novo lugar não aceita porque está cheio (isso está correto), mas o antigo lugar retorna a lista animals como vazia. Ou seja, o animal saiu de lá, mas o outro lugar não aceitou (pq está cheio) e aí está o bug. No código q está no github eu fiz essa correção dentro do tópico *Bug Correction*. A solução que o professor disponibiliza para este bug vem no capítulo *Fix the bug*."
   ]
  },
  {
   "cell_type": "markdown",
   "metadata": {},
   "source": [
    "#### Make testing easier"
   ]
  },
  {
   "cell_type": "markdown",
   "metadata": {},
   "source": [
    "Aqui ele faz um teste manual do método ```move()```já para introduzir o assunto de testes automatizados em Python."
   ]
  },
  {
   "cell_type": "markdown",
   "metadata": {},
   "source": [
    "#### Fix the bug"
   ]
  },
  {
   "cell_type": "markdown",
   "metadata": {},
   "source": [
    "Ele deu a versão dele consertando o bug. Eu prefiro a q eu fiz acima pq ela é mais explícita, eu trato todas as exceções com o if. Mas não existe certo ou errado aqui. A solução do professor foi esta escrita abaixo. "
   ]
  },
  {
   "cell_type": "code",
   "execution_count": 2,
   "metadata": {},
   "outputs": [],
   "source": [
    "def move(self, new_location):\n",
    "        # primeira exceção q ele trata\n",
    "        if self._location is new_location:\n",
    "            return f\"{self.name} is already here!\"\n",
    "        \n",
    "        # segunda exceção\n",
    "        if new_location.is_full:\n",
    "            return f\"The {new_location.location_type} is full.\"\n",
    "      \n",
    "        # se as duas acima derem falso\n",
    "        # aí ele verifica se _location não é None\n",
    "        # se não for ele remove o objeto da lista animals\n",
    "        if self._location is not None:\n",
    "            self._location.animals.remove(self)\n",
    "\n",
    "        # daí ele continua o código e atribui o novo valor\n",
    "        # ao atributo _location\n",
    "        self._location = new_location\n",
    "        new_location.animals.append(self)\n",
    "        return f\"{self.name} moved to the {new_location.location_type}\""
   ]
  },
  {
   "cell_type": "markdown",
   "metadata": {},
   "source": [
    "#### Summary"
   ]
  },
  {
   "cell_type": "markdown",
   "metadata": {},
   "source": [
    "O que aprendemos ao longo desse curso:\n",
    "\n",
    "- Classes\n",
    "- Class Atributes\n",
    "- Instance attributes\n",
    "- Non-public attributes\n",
    "- Instance methods\n",
    "- Properties\n",
    "- Special methods (dunder methods)\n",
    "- Inheritance\n",
    "- Composition\n",
    "- Aggregation\n",
    "- F-strings"
   ]
  }
 ],
 "metadata": {
  "kernelspec": {
   "display_name": "base",
   "language": "python",
   "name": "python3"
  },
  "language_info": {
   "codemirror_mode": {
    "name": "ipython",
    "version": 3
   },
   "file_extension": ".py",
   "mimetype": "text/x-python",
   "name": "python",
   "nbconvert_exporter": "python",
   "pygments_lexer": "ipython3",
   "version": "3.8.12"
  },
  "orig_nbformat": 4
 },
 "nbformat": 4,
 "nbformat_minor": 2
}
