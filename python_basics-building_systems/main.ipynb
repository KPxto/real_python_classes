{
 "cells": [
  {
   "cell_type": "markdown",
   "metadata": {},
   "source": [
    "[Real Python - Course](https://realpython.com/lessons/python-basics-class-overview/)"
   ]
  },
  {
   "cell_type": "markdown",
   "metadata": {},
   "source": [
    "### Composing with Classes - test\n",
    "\n",
    "Composição acontece quando utilizamos classes como atributos de outras classes. Veja no exemplo abaixo:"
   ]
  },
  {
   "cell_type": "code",
   "execution_count": 2,
   "metadata": {},
   "outputs": [],
   "source": [
    "# essa é uma classe q representa 2 pontos num espaço\n",
    "class Point:\n",
    "    def __init__(self, x, y):\n",
    "        self.x = x\n",
    "        self.y = y"
   ]
  },
  {
   "cell_type": "code",
   "execution_count": 3,
   "metadata": {},
   "outputs": [],
   "source": [
    "# agora vamos utilizar a classe acima para criar um objeto chamado Shape\n",
    "# o atributo points q vamos passar como argumento vem de uma outra classe\n",
    "# isso q se chama composition\n",
    "class Shape:\n",
    "    def __init__(self, points):\n",
    "        self.points = points"
   ]
  },
  {
   "cell_type": "code",
   "execution_count": 4,
   "metadata": {},
   "outputs": [],
   "source": [
    "# aqui temos um triangulo\n",
    "# utilizamos a classe Shape para criar o objeto\n",
    "# depois utilizamos a classe Point como argumento para passar os pontos q formarão a figura\n",
    "triangulo = Shape([\n",
    "    Point(0, 0),\n",
    "    Point(5, 5),\n",
    "    Point(2, 4)\n",
    "    ])"
   ]
  },
  {
   "cell_type": "markdown",
   "metadata": {},
   "source": [
    "---"
   ]
  },
  {
   "cell_type": "markdown",
   "metadata": {},
   "source": [
    "### Inheriting from other classes"
   ]
  },
  {
   "cell_type": "code",
   "execution_count": 32,
   "metadata": {},
   "outputs": [],
   "source": [
    "# criando uma classe base de cachorro, a Doggo\n",
    "class Doggo:\n",
    "    species = 'Canis familiaris'\n",
    "\n",
    "    def __init__(self, name, age):\n",
    "        self.name = name\n",
    "        self.age = age\n",
    "\n",
    "    def __str__(self) -> str:\n",
    "        return f'{self.name} is {self.age} years old'\n",
    "    \n",
    "    def speak(self, sound):\n",
    "        return f'{self.name} says {sound}'"
   ]
  },
  {
   "cell_type": "code",
   "execution_count": 6,
   "metadata": {},
   "outputs": [],
   "source": [
    "# instanciando varios objetos a partir da classe Doggo\n",
    "miles = Doggo('Miles', 4)\n",
    "buddy = Doggo('Buddy', 9)\n",
    "jack = Doggo('Jack', 3)\n",
    "jim = Doggo('Jim', 5)"
   ]
  },
  {
   "cell_type": "code",
   "execution_count": 7,
   "metadata": {},
   "outputs": [
    {
     "data": {
      "text/plain": [
       "'Miles says Au Au'"
      ]
     },
     "execution_count": 7,
     "metadata": {},
     "output_type": "execute_result"
    }
   ],
   "source": [
    "miles.speak('Au Au')"
   ]
  },
  {
   "cell_type": "code",
   "execution_count": 35,
   "metadata": {},
   "outputs": [],
   "source": [
    "# agora vamos criar raças específicas de cachorro\n",
    "# para isso vamos utilizar a classe Doggo como base\n",
    "# é daí que vem a herança (inheritance)\n",
    "# para isso, basta criar a subclasse e colocar a classe pai entre parenteses\n",
    "\n",
    "class Labrador(Doggo):\n",
    "    pass\n",
    "\n",
    "class Dachshund(Doggo):\n",
    "    pass\n",
    "\n",
    "class Bulldog(Doggo):\n",
    "    pass"
   ]
  },
  {
   "cell_type": "markdown",
   "metadata": {},
   "source": [
    ">>"
   ]
  },
  {
   "cell_type": "markdown",
   "metadata": {},
   "source": [
    ">> Já que estamos passando apenas a instrução 'pass', essas subclasses vão ter o mesmo comportamento da classe pai."
   ]
  },
  {
   "cell_type": "code",
   "execution_count": 36,
   "metadata": {},
   "outputs": [],
   "source": [
    "# podemos agora criar os mesmos objetos, mas agora instanciando com a subclasse\n",
    "# não terá nenhuma diferença pratica, pq como dito acima, não houve modificação da subclasse\n",
    "# na pratica, sem mudança de comportamento, a unica diferença é no nome da classe\n",
    "miles = Labrador('Miles', 4)\n",
    "buddy = Dachshund('Buddy', 9)\n",
    "jack = Bulldog('Jack', 3)\n",
    "jim = Bulldog('Jim', 5)"
   ]
  },
  {
   "cell_type": "code",
   "execution_count": 37,
   "metadata": {},
   "outputs": [
    {
     "data": {
      "text/plain": [
       "True"
      ]
     },
     "execution_count": 37,
     "metadata": {},
     "output_type": "execute_result"
    }
   ],
   "source": [
    "# veja q os objetos são instancias das duas classes, pai e filha\n",
    "isinstance(miles, Labrador)"
   ]
  },
  {
   "cell_type": "code",
   "execution_count": 38,
   "metadata": {},
   "outputs": [
    {
     "data": {
      "text/plain": [
       "True"
      ]
     },
     "execution_count": 38,
     "metadata": {},
     "output_type": "execute_result"
    }
   ],
   "source": [
    "isinstance(miles, Doggo)"
   ]
  },
  {
   "cell_type": "markdown",
   "metadata": {},
   "source": [
    "\n",
    "---"
   ]
  },
  {
   "cell_type": "markdown",
   "metadata": {},
   "source": [
    "### Extending a Parent Class\n",
    "\n",
    "Aqui vamos estudar como podemos extender a classe pai, alterando o comportamento nas subclasses"
   ]
  },
  {
   "cell_type": "code",
   "execution_count": 39,
   "metadata": {},
   "outputs": [],
   "source": [
    "# aqui alteramos o método speak, atribuindo um argumento default para 'sound'\n",
    "class JackRussellTerrier(Doggo):\n",
    "    def speak(self, sound='Arf'):\n",
    "        return f'{self.name} says {sound}'"
   ]
  },
  {
   "cell_type": "code",
   "execution_count": 40,
   "metadata": {},
   "outputs": [],
   "source": [
    "# vamos fazer o teste criando um novo objeto\n",
    "miles = JackRussellTerrier('Miles', 4)"
   ]
  },
  {
   "cell_type": "code",
   "execution_count": 41,
   "metadata": {},
   "outputs": [
    {
     "data": {
      "text/plain": [
       "'Miles says Arf'"
      ]
     },
     "execution_count": 41,
     "metadata": {},
     "output_type": "execute_result"
    }
   ],
   "source": [
    "# agora testando o metodo modificado\n",
    "miles.speak()"
   ]
  },
  {
   "cell_type": "markdown",
   "metadata": {},
   "source": [
    "---"
   ]
  },
  {
   "cell_type": "markdown",
   "metadata": {},
   "source": [
    "### Using Composition and Inheritance\n",
    "\n",
    "Aqui vamos exercitar o uso de composition e inheritance num único caso."
   ]
  },
  {
   "cell_type": "code",
   "execution_count": 43,
   "metadata": {},
   "outputs": [],
   "source": [
    "# criação de uma exceção que herda da classe pai Exception\n",
    "class WrongNumberOfPoints(Exception):\n",
    "    pass"
   ]
  },
  {
   "cell_type": "code",
   "execution_count": 44,
   "metadata": {},
   "outputs": [],
   "source": [
    "# nesta classe herdamos de Shape e alteramos o método construtor\n",
    "# aqui ele verifica se o atributo points tem 4 lados (para formar um quadrado)\n",
    "# caso exista falha nessa verificação, ele vai retornar uma exceção\n",
    "# essa exceção por sua vez é outra subclasse q herdou da classe pai Exception\n",
    "# instanciar Exception é útil pois deixa mais excplícito o porquê do erro\n",
    "\n",
    "class Square(Shape):\n",
    "    def __init__(self, points):\n",
    "        if (len(points) != 4):\n",
    "            raise WrongNumberOfPoints\n",
    "        self.points = points"
   ]
  },
  {
   "cell_type": "code",
   "execution_count": 45,
   "metadata": {},
   "outputs": [
    {
     "ename": "WrongNumberOfPoints",
     "evalue": "",
     "output_type": "error",
     "traceback": [
      "\u001b[0;31m---------------------------------------------------------------------------\u001b[0m",
      "\u001b[0;31mWrongNumberOfPoints\u001b[0m                       Traceback (most recent call last)",
      "\u001b[0;32m/tmp/ipykernel_5894/1853817956.py\u001b[0m in \u001b[0;36m<module>\u001b[0;34m\u001b[0m\n\u001b[1;32m      1\u001b[0m \u001b[0;31m# veja como essa classe funciona\u001b[0m\u001b[0;34m\u001b[0m\u001b[0;34m\u001b[0m\u001b[0;34m\u001b[0m\u001b[0m\n\u001b[1;32m      2\u001b[0m \u001b[0;31m# vamos fazer um erro proposital para q veja como é a mensagem de Exception\u001b[0m\u001b[0;34m\u001b[0m\u001b[0;34m\u001b[0m\u001b[0;34m\u001b[0m\u001b[0m\n\u001b[0;32m----> 3\u001b[0;31m \u001b[0msquare\u001b[0m \u001b[0;34m=\u001b[0m \u001b[0mSquare\u001b[0m\u001b[0;34m(\u001b[0m\u001b[0;34m[\u001b[0m\u001b[0;34m]\u001b[0m\u001b[0;34m)\u001b[0m\u001b[0;34m\u001b[0m\u001b[0;34m\u001b[0m\u001b[0m\n\u001b[0m",
      "\u001b[0;32m/tmp/ipykernel_5894/2166893627.py\u001b[0m in \u001b[0;36m__init__\u001b[0;34m(self, points)\u001b[0m\n\u001b[1;32m      8\u001b[0m     \u001b[0;32mdef\u001b[0m \u001b[0m__init__\u001b[0m\u001b[0;34m(\u001b[0m\u001b[0mself\u001b[0m\u001b[0;34m,\u001b[0m \u001b[0mpoints\u001b[0m\u001b[0;34m)\u001b[0m\u001b[0;34m:\u001b[0m\u001b[0;34m\u001b[0m\u001b[0;34m\u001b[0m\u001b[0m\n\u001b[1;32m      9\u001b[0m         \u001b[0;32mif\u001b[0m \u001b[0;34m(\u001b[0m\u001b[0mlen\u001b[0m\u001b[0;34m(\u001b[0m\u001b[0mpoints\u001b[0m\u001b[0;34m)\u001b[0m \u001b[0;34m!=\u001b[0m \u001b[0;36m4\u001b[0m\u001b[0;34m)\u001b[0m\u001b[0;34m:\u001b[0m\u001b[0;34m\u001b[0m\u001b[0;34m\u001b[0m\u001b[0m\n\u001b[0;32m---> 10\u001b[0;31m             \u001b[0;32mraise\u001b[0m \u001b[0mWrongNumberOfPoints\u001b[0m\u001b[0;34m\u001b[0m\u001b[0;34m\u001b[0m\u001b[0m\n\u001b[0m\u001b[1;32m     11\u001b[0m         \u001b[0mself\u001b[0m\u001b[0;34m.\u001b[0m\u001b[0mpoints\u001b[0m \u001b[0;34m=\u001b[0m \u001b[0mpoints\u001b[0m\u001b[0;34m\u001b[0m\u001b[0;34m\u001b[0m\u001b[0m\n",
      "\u001b[0;31mWrongNumberOfPoints\u001b[0m: "
     ]
    }
   ],
   "source": [
    "# veja como essa classe funciona\n",
    "# vamos fazer um erro proposital para q veja como é a mensagem de Exception\n",
    "square = Square([])"
   ]
  },
  {
   "cell_type": "markdown",
   "metadata": {},
   "source": [
    ">> Aqui nós vimos exemplos de herança e composição trabalhando juntos. Primeiro nós herdamos da classe Shape e alteramos o constructor. Depois utilizamos instancias das class Points como atributo dessa nova subclasse (Square)."
   ]
  },
  {
   "cell_type": "markdown",
   "metadata": {},
   "source": [
    "---"
   ]
  },
  {
   "cell_type": "markdown",
   "metadata": {},
   "source": [
    "### Introducing the super() Function"
   ]
  },
  {
   "cell_type": "markdown",
   "metadata": {},
   "source": [
    "super() serve para referenciar ao método original da classe pai. Ou seja, ao sobrescrever o método na classe filha, podemos tbm chamar a função da classe pai"
   ]
  },
  {
   "cell_type": "code",
   "execution_count": 33,
   "metadata": {},
   "outputs": [],
   "source": [
    "class Poodle(Doggo):\n",
    "    def speak(self):\n",
    "        return 'I am a poodle!!'"
   ]
  },
  {
   "cell_type": "code",
   "execution_count": 34,
   "metadata": {},
   "outputs": [],
   "source": [
    "p = Poodle('Bob', 6)"
   ]
  },
  {
   "cell_type": "code",
   "execution_count": 35,
   "metadata": {},
   "outputs": [
    {
     "data": {
      "text/plain": [
       "'I am a poodle!!'"
      ]
     },
     "execution_count": 35,
     "metadata": {},
     "output_type": "execute_result"
    }
   ],
   "source": [
    "p.speak()"
   ]
  },
  {
   "cell_type": "markdown",
   "metadata": {},
   "source": [
    "Neste exemplo acima nós apenas sobrescrevemos a função speak. Agora veja a diferença para o exemplo abaixo, na classe ViraLata.\n",
    "\n",
    "Ele invoca o método da classe pai ao mesmo tempo q sobrescreve esta mesma função. Com o super(), o método vem direto da classe de origem."
   ]
  },
  {
   "cell_type": "code",
   "execution_count": 122,
   "metadata": {},
   "outputs": [],
   "source": [
    "class ViraLata(Doggo):\n",
    "    def speak(self):\n",
    "        print(super().speak('auau'))\n",
    "        return 'Eu sou um cachoro'\n",
    "    "
   ]
  },
  {
   "cell_type": "code",
   "execution_count": 123,
   "metadata": {},
   "outputs": [],
   "source": [
    "p2 = ViraLata('Bob', 6)"
   ]
  },
  {
   "cell_type": "code",
   "execution_count": 124,
   "metadata": {},
   "outputs": [
    {
     "name": "stdout",
     "output_type": "stream",
     "text": [
      "Bob says auau\n"
     ]
    },
    {
     "data": {
      "text/plain": [
       "'Eu sou um cachoro'"
      ]
     },
     "execution_count": 124,
     "metadata": {},
     "output_type": "execute_result"
    }
   ],
   "source": [
    "p2.speak()"
   ]
  },
  {
   "cell_type": "markdown",
   "metadata": {},
   "source": [
    "### Challenge: Model a Farm\n",
    "O objetivo aqui é criar os objetos de uma fazenda."
   ]
  },
  {
   "cell_type": "code",
   "execution_count": 128,
   "metadata": {},
   "outputs": [],
   "source": [
    "class Animal:\n",
    "    def __init__(self, nome, tipo, producao_mensal, custo_mensal):\n",
    "        self.nome = nome\n",
    "        self.tipo = tipo\n",
    "        self.custo_mensal = custo_mensal\n",
    "        self.producao_mensal = producao_mensal\n",
    "\n",
    "    def __str__(self) -> str:\n",
    "        return f'Animal: {self.nome} do tipo: {self.tipo}'\n",
    "    \n",
    "    def conta(self):\n",
    "        diminui = self.producao_mensal - self.custo_mensal\n",
    "        return f'O saldo deste animal é de {diminui}'\n",
    "    \n",
    "class Galinha(Animal):\n",
    "    def __init__(self, nome, tipo, producao_mensal, custo_mensal, ovos_semana):\n",
    "        self.producao_ovos = ovos_semana\n",
    "        super().__init__(nome, tipo, producao_mensal, custo_mensal)\n",
    "\n",
    "    def conta(self):\n",
    "        ovos = self.producao_ovos\n",
    "        print(f'A produção de ovos é de {ovos}\\n')\n",
    "        return super().conta()\n",
    "\n",
    "class Bovino(Animal):\n",
    "    def __init__(self, nome, tipo, producao_mensal, custo_mensal, leite):\n",
    "        self.producao_leite = leite\n",
    "        super().__init__(nome, tipo, producao_mensal, custo_mensal)\n",
    "\n",
    "    def conta(self):\n",
    "        leite = self.producao_leite\n",
    "        print(f'A produção de leite é de {leite}\\n')\n",
    "        return super().conta()\n",
    "\n",
    "class Caprino(Animal):\n",
    "    def __init__(self, nome, tipo, producao_mensal, custo_mensal, queijos_semana):\n",
    "        self.producao_qjo = queijos_semana\n",
    "        super().__init__(nome, tipo, producao_mensal, custo_mensal)\n",
    "\n",
    "    def conta(self):\n",
    "        qjo = self.producao_qjo\n",
    "        print(f'A produção de qjos é de {qjo}\\n')\n",
    "        return super().conta()\n",
    "    \n",
    "class Field:\n",
    "    def __init__(self, area, tipo_terreno):\n",
    "        self.area = area\n",
    "        self.tipo_terreno = tipo_terreno\n",
    "\n",
    "    def controla_tempo(self, fenomeno):\n",
    "        return f'Que se faça {fenomeno}'\n",
    "    \n",
    "class Barn:\n",
    "    def __init__(self, stock, status_reparo):\n",
    "        self.estoque = stock\n",
    "        self.status_reparo = status_reparo"
   ]
  },
  {
   "cell_type": "code",
   "execution_count": 129,
   "metadata": {},
   "outputs": [],
   "source": [
    "g = Galinha('Jurema', 'poedeira', 80, 60, 50)\n",
    "b = Bovino('Princeso', 'Nelore', 190, 100, 156)\n",
    "c = Caprino('Loco', 'leite', 112, 90, 130)"
   ]
  },
  {
   "cell_type": "code",
   "execution_count": 130,
   "metadata": {},
   "outputs": [
    {
     "name": "stdout",
     "output_type": "stream",
     "text": [
      "A produção de leite é de 156\n",
      "\n"
     ]
    },
    {
     "data": {
      "text/plain": [
       "'O saldo deste animal é de 90'"
      ]
     },
     "execution_count": 130,
     "metadata": {},
     "output_type": "execute_result"
    }
   ],
   "source": [
    "b.conta()"
   ]
  },
  {
   "cell_type": "code",
   "execution_count": 131,
   "metadata": {},
   "outputs": [
    {
     "name": "stdout",
     "output_type": "stream",
     "text": [
      "A produção de ovos é de 50\n",
      "\n"
     ]
    },
    {
     "data": {
      "text/plain": [
       "'O saldo deste animal é de 20'"
      ]
     },
     "execution_count": 131,
     "metadata": {},
     "output_type": "execute_result"
    }
   ],
   "source": [
    "g.conta()"
   ]
  },
  {
   "cell_type": "code",
   "execution_count": 132,
   "metadata": {},
   "outputs": [
    {
     "name": "stdout",
     "output_type": "stream",
     "text": [
      "A produção de qjos é de 130\n",
      "\n"
     ]
    },
    {
     "data": {
      "text/plain": [
       "'O saldo deste animal é de 22'"
      ]
     },
     "execution_count": 132,
     "metadata": {},
     "output_type": "execute_result"
    }
   ],
   "source": [
    "c.conta()"
   ]
  },
  {
   "cell_type": "code",
   "execution_count": null,
   "metadata": {},
   "outputs": [],
   "source": []
  }
 ],
 "metadata": {
  "kernelspec": {
   "display_name": "venv",
   "language": "python",
   "name": "python3"
  },
  "language_info": {
   "codemirror_mode": {
    "name": "ipython",
    "version": 3
   },
   "file_extension": ".py",
   "mimetype": "text/x-python",
   "name": "python",
   "nbconvert_exporter": "python",
   "pygments_lexer": "ipython3",
   "version": "3.8.12"
  },
  "orig_nbformat": 4
 },
 "nbformat": 4,
 "nbformat_minor": 2
}
