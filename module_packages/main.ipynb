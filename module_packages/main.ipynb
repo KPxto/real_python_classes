{
 "cells": [
  {
   "cell_type": "markdown",
   "metadata": {},
   "source": [
    "[Curso Real Python](https://realpython.com/lessons/writing-module/)"
   ]
  },
  {
   "cell_type": "markdown",
   "metadata": {},
   "source": [
    "### Writing a module"
   ]
  },
  {
   "cell_type": "code",
   "execution_count": 9,
   "metadata": {},
   "outputs": [],
   "source": [
    "# importando o modulo criado\n",
    "import mod"
   ]
  },
  {
   "cell_type": "code",
   "execution_count": 10,
   "metadata": {},
   "outputs": [
    {
     "name": "stdout",
     "output_type": "stream",
     "text": [
      "arg = auis\n"
     ]
    }
   ],
   "source": [
    "# podemos acessar todos os objetos dentro desse modulo\n",
    "mod.printy('auis')"
   ]
  },
  {
   "cell_type": "code",
   "execution_count": 11,
   "metadata": {},
   "outputs": [
    {
     "data": {
      "text/plain": [
       "'This is a string'"
      ]
     },
     "execution_count": 11,
     "metadata": {},
     "output_type": "execute_result"
    }
   ],
   "source": [
    "mod.s"
   ]
  },
  {
   "cell_type": "markdown",
   "metadata": {},
   "source": [
    "### The Module Search Path"
   ]
  },
  {
   "cell_type": "markdown",
   "metadata": {},
   "source": [
    "Quando vc importa um módulo ou pacote python, ele procura percorrendo uma hierarquia de pastas até encontrar o nome desejado. Então se vc quer criar algum módulo e torná-lo disponível no seu sistema, é preciso q esse código esteja em alguma dessas pastas."
   ]
  },
  {
   "cell_type": "code",
   "execution_count": 16,
   "metadata": {},
   "outputs": [],
   "source": [
    "# o modulo sys pode nos ajudar a identificar quais são essas pastas que o python procura\n",
    "import sys"
   ]
  },
  {
   "cell_type": "code",
   "execution_count": 17,
   "metadata": {},
   "outputs": [
    {
     "data": {
      "text/plain": [
       "['/home/kaio-peixoto/GitHub/real_python/module_packages',\n",
       " '/home/kaio-peixoto/.pyenv/versions/3.9.0/lib/python39.zip',\n",
       " '/home/kaio-peixoto/.pyenv/versions/3.9.0/lib/python3.9',\n",
       " '/home/kaio-peixoto/.pyenv/versions/3.9.0/lib/python3.9/lib-dynload',\n",
       " '',\n",
       " '/home/kaio-peixoto/.pyenv/versions/3.9.0/lib/python3.9/site-packages',\n",
       " '/home/kaio-peixoto/.pyenv/versions/3.9.0/lib/python3.9/site-packages/IPython/extensions',\n",
       " '/home/kaio-peixoto/.ipython']"
      ]
     },
     "execution_count": 17,
     "metadata": {},
     "output_type": "execute_result"
    }
   ],
   "source": [
    "# acessando sys.path ele retorna todos os caminhos das pastas\n",
    "sys.path"
   ]
  },
  {
   "cell_type": "markdown",
   "metadata": {},
   "source": [
    "Caso vc deseje adicionar uma nova pasta nessa hierarquia de procura do python, basta adicionar seu caminho ao sys.path. E para fazer isso é simples, já que sys.path retorna uma lista, basta usar o método append para adicioar o caminho da pasta desejado. No entando, este método só funciona uma vez, durante o tempo q estiver usando python naquele momento. Assim que reinicia o programa, o sys.path também reinicia e retira aquela pasta adicionada anteriormente."
   ]
  },
  {
   "cell_type": "code",
   "execution_count": null,
   "metadata": {},
   "outputs": [],
   "source": [
    "sys.path.append(r'/home/kaio/modulos')"
   ]
  },
  {
   "cell_type": "markdown",
   "metadata": {},
   "source": [
    "### The import statement"
   ]
  },
  {
   "cell_type": "code",
   "execution_count": 20,
   "metadata": {},
   "outputs": [],
   "source": [
    "# podemos importar objetos individuais do módulo\n",
    "from mod import a, s, printy"
   ]
  },
  {
   "cell_type": "code",
   "execution_count": 21,
   "metadata": {},
   "outputs": [
    {
     "data": {
      "text/plain": [
       "[100, 200, 300]"
      ]
     },
     "execution_count": 21,
     "metadata": {},
     "output_type": "execute_result"
    }
   ],
   "source": [
    "a"
   ]
  },
  {
   "cell_type": "markdown",
   "metadata": {},
   "source": [
    "### The dir() function"
   ]
  },
  {
   "cell_type": "code",
   "execution_count": 24,
   "metadata": {},
   "outputs": [
    {
     "data": {
      "text/plain": [
       "['In',\n",
       " 'Out',\n",
       " '_',\n",
       " '_11',\n",
       " '_13',\n",
       " '_15',\n",
       " '_17',\n",
       " '_18',\n",
       " '_21',\n",
       " '_22',\n",
       " '_23',\n",
       " '_3',\n",
       " '_8',\n",
       " '__',\n",
       " '___',\n",
       " '__builtin__',\n",
       " '__builtins__',\n",
       " '__doc__',\n",
       " '__loader__',\n",
       " '__name__',\n",
       " '__package__',\n",
       " '__spec__',\n",
       " '__vsc_ipynb_file__',\n",
       " '_dh',\n",
       " '_i',\n",
       " '_i1',\n",
       " '_i10',\n",
       " '_i11',\n",
       " '_i12',\n",
       " '_i13',\n",
       " '_i14',\n",
       " '_i15',\n",
       " '_i16',\n",
       " '_i17',\n",
       " '_i18',\n",
       " '_i19',\n",
       " '_i2',\n",
       " '_i20',\n",
       " '_i21',\n",
       " '_i22',\n",
       " '_i23',\n",
       " '_i24',\n",
       " '_i3',\n",
       " '_i4',\n",
       " '_i5',\n",
       " '_i6',\n",
       " '_i7',\n",
       " '_i8',\n",
       " '_i9',\n",
       " '_ih',\n",
       " '_ii',\n",
       " '_iii',\n",
       " '_oh',\n",
       " 'a',\n",
       " 'exit',\n",
       " 'get_ipython',\n",
       " 'mod',\n",
       " 'printy',\n",
       " 'quit',\n",
       " 's',\n",
       " 'sys',\n",
       " 'x']"
      ]
     },
     "execution_count": 24,
     "metadata": {},
     "output_type": "execute_result"
    }
   ],
   "source": [
    "# dir guarda todas as variáveis e definições locais\n",
    "dir()"
   ]
  },
  {
   "cell_type": "code",
   "execution_count": 26,
   "metadata": {},
   "outputs": [
    {
     "data": {
      "text/plain": [
       "['Classy',\n",
       " '__builtins__',\n",
       " '__cached__',\n",
       " '__doc__',\n",
       " '__file__',\n",
       " '__loader__',\n",
       " '__name__',\n",
       " '__package__',\n",
       " '__spec__',\n",
       " 'a',\n",
       " 'printy',\n",
       " 's']"
      ]
     },
     "execution_count": 26,
     "metadata": {},
     "output_type": "execute_result"
    }
   ],
   "source": [
    "# ou podemos saber as definições e variáveis de um módulo específico\n",
    "dir(mod)"
   ]
  },
  {
   "cell_type": "code",
   "execution_count": 28,
   "metadata": {},
   "outputs": [
    {
     "data": {
      "text/plain": [
       "['In',\n",
       " 'Out',\n",
       " '_',\n",
       " '_11',\n",
       " '_13',\n",
       " '_15',\n",
       " '_17',\n",
       " '_18',\n",
       " '_21',\n",
       " '_22',\n",
       " '_23',\n",
       " '_24',\n",
       " '_25',\n",
       " '_26',\n",
       " '_27',\n",
       " '_3',\n",
       " '_8',\n",
       " '__',\n",
       " '___',\n",
       " '__builtin__',\n",
       " '__builtins__',\n",
       " '__doc__',\n",
       " '__loader__',\n",
       " '__name__',\n",
       " '__package__',\n",
       " '__spec__',\n",
       " '__vsc_ipynb_file__',\n",
       " '_dh',\n",
       " '_i',\n",
       " '_i1',\n",
       " '_i10',\n",
       " '_i11',\n",
       " '_i12',\n",
       " '_i13',\n",
       " '_i14',\n",
       " '_i15',\n",
       " '_i16',\n",
       " '_i17',\n",
       " '_i18',\n",
       " '_i19',\n",
       " '_i2',\n",
       " '_i20',\n",
       " '_i21',\n",
       " '_i22',\n",
       " '_i23',\n",
       " '_i24',\n",
       " '_i25',\n",
       " '_i26',\n",
       " '_i27',\n",
       " '_i28',\n",
       " '_i3',\n",
       " '_i4',\n",
       " '_i5',\n",
       " '_i6',\n",
       " '_i7',\n",
       " '_i8',\n",
       " '_i9',\n",
       " '_ih',\n",
       " '_ii',\n",
       " '_iii',\n",
       " '_oh',\n",
       " 'a',\n",
       " 'exit',\n",
       " 'get_ipython',\n",
       " 'mod',\n",
       " 'printy',\n",
       " 'quit',\n",
       " 's',\n",
       " 'sys',\n",
       " 'x',\n",
       " 'xy']"
      ]
     },
     "execution_count": 28,
     "metadata": {},
     "output_type": "execute_result"
    }
   ],
   "source": [
    "# veja q ao definir a variável xy ela aparece quando chamamos o dir()\n",
    "xy = 'exemplo'\n",
    "dir()"
   ]
  },
  {
   "cell_type": "markdown",
   "metadata": {},
   "source": [
    "### Executing a module as a script\n",
    "\n",
    "Veja comentários e anotações feitos nos arquivos mod.py e fact.py"
   ]
  },
  {
   "cell_type": "code",
   "execution_count": 29,
   "metadata": {},
   "outputs": [],
   "source": [
    "import mod"
   ]
  },
  {
   "cell_type": "code",
   "execution_count": 30,
   "metadata": {},
   "outputs": [
    {
     "data": {
      "text/plain": [
       "<module 'mod' from '/home/kaio-peixoto/GitHub/real_python/module_packages/mod.py'>"
      ]
     },
     "execution_count": 30,
     "metadata": {},
     "output_type": "execute_result"
    }
   ],
   "source": [
    "mod"
   ]
  },
  {
   "cell_type": "markdown",
   "metadata": {},
   "source": [
    "### Reloading a Module\n",
    "\n",
    "Caso queria importar novamente o modulo, sem precisar de reiniciar o interpretador python, basta usar o método reload() de importlib"
   ]
  },
  {
   "cell_type": "code",
   "execution_count": 33,
   "metadata": {},
   "outputs": [
    {
     "data": {
      "text/plain": [
       "<module 'mod' from '/home/kaio-peixoto/GitHub/real_python/module_packages/mod.py'>"
      ]
     },
     "execution_count": 33,
     "metadata": {},
     "output_type": "execute_result"
    }
   ],
   "source": [
    "import importlib\n",
    "importlib.reload(mod)"
   ]
  },
  {
   "cell_type": "markdown",
   "metadata": {},
   "source": [
    "### Python Packages"
   ]
  },
  {
   "cell_type": "code",
   "execution_count": 43,
   "metadata": {},
   "outputs": [],
   "source": [
    "# dentro de um pacote podemos ter vários módulos\n",
    "# usamos a notação '.' para referenciar os diferentes módulos\n",
    "import pkg.mod1, pkg.mod2"
   ]
  },
  {
   "cell_type": "code",
   "execution_count": 44,
   "metadata": {},
   "outputs": [
    {
     "name": "stdout",
     "output_type": "stream",
     "text": [
      "data super loading...\n"
     ]
    }
   ],
   "source": [
    "pkg.mod1.load_data()"
   ]
  },
  {
   "cell_type": "code",
   "execution_count": 46,
   "metadata": {},
   "outputs": [
    {
     "data": {
      "text/plain": [
       "<pkg.mod2.Location at 0x7fd2ac579fd0>"
      ]
     },
     "execution_count": 46,
     "metadata": {},
     "output_type": "execute_result"
    }
   ],
   "source": [
    "pkg.mod2.Location()"
   ]
  },
  {
   "cell_type": "code",
   "execution_count": 47,
   "metadata": {},
   "outputs": [],
   "source": [
    "# podemos também só importar funções ou classes específicas dentro de um modulo\n",
    "# ou seja, podemos importar peças individualmente dentro de um pacote python\n",
    "from pkg.mod1 import load_data"
   ]
  },
  {
   "cell_type": "code",
   "execution_count": 49,
   "metadata": {},
   "outputs": [
    {
     "name": "stdout",
     "output_type": "stream",
     "text": [
      "data super loading...\n"
     ]
    }
   ],
   "source": [
    "load_data()"
   ]
  },
  {
   "cell_type": "code",
   "execution_count": 56,
   "metadata": {},
   "outputs": [],
   "source": [
    "# aqui importando somente o mod1\n",
    "from pkg import mod1"
   ]
  },
  {
   "cell_type": "code",
   "execution_count": 57,
   "metadata": {},
   "outputs": [
    {
     "name": "stdout",
     "output_type": "stream",
     "text": [
      "data super loading...\n"
     ]
    }
   ],
   "source": [
    "mod1.load_data()"
   ]
  },
  {
   "cell_type": "code",
   "execution_count": 60,
   "metadata": {},
   "outputs": [],
   "source": [
    "# podemos importar e dar um alias para o modulo\n",
    "from pkg import mod2 as foo"
   ]
  },
  {
   "cell_type": "code",
   "execution_count": 62,
   "metadata": {},
   "outputs": [
    {
     "name": "stdout",
     "output_type": "stream",
     "text": [
      "Data mung processing...\n"
     ]
    }
   ],
   "source": [
    "foo.clean_data()"
   ]
  },
  {
   "cell_type": "markdown",
   "metadata": {},
   "source": [
    "### Package Initialization\n",
    "\n",
    "Este é um assunto q fala sobretudo sobre o arquivo __ _init_ __.py.\n",
    "\n",
    "Se existir um arquivo com esse nome dentro de um pacote python, este arquivo será executado assim q o modulo for importado e qualquer objeto criado dentro desse arquivo será invocado para o pacote criando variáveis globais. E caso importe apenas um módulo do pacote, o arquivo init será executado da mesma forma.\n",
    "Isto é útil para executar algum pacote de inicialização q seja necessário para que tudo funcione corretamente. Nos nossos exemplos aqui do curto, vamos inserir algumas mensagens de print() para ver o init em ação."
   ]
  },
  {
   "cell_type": "code",
   "execution_count": 66,
   "metadata": {},
   "outputs": [
    {
     "name": "stdout",
     "output_type": "stream",
     "text": [
      "opa, aqui é o __init__.py!!!\n"
     ]
    },
    {
     "data": {
      "text/plain": [
       "<module 'pkg' from '/home/kaio-peixoto/GitHub/real_python/module_packages/pkg/__init__.py'>"
      ]
     },
     "execution_count": 66,
     "metadata": {},
     "output_type": "execute_result"
    }
   ],
   "source": [
    "# adicionamos o arquivo __init__.py no pkg\n",
    "# e veja o print sendo exibido\n",
    "importlib.reload(pkg)"
   ]
  },
  {
   "cell_type": "markdown",
   "metadata": {},
   "source": [
    "### Importing * from package\n",
    "\n",
    "Aqui aprendemos o uso _ _ all _ _\n",
    "\n",
    "Esta é uma variável especial q inserimos dentros de módulos e pacotes. Depois da definição dessa variável, nós só poderemos importar com o wildcard '*' o que vier especificado dentro de _ _ all _ _. Se _ _ all _ _ estiver dentro de init, somente os módulo especificados lá que serão possíveis de serem importados com o wildcard '\\*'. E veja q dentro de init não precisamos inserir a extensão .py, somente basta especificar os nomes dos módulos como strings. \n",
    "\n",
    "Podemos utilizar _ _ all _ _ dentro dos arquivos de módulo também, não somente dentro de _ _ init _ _. Por exemplo, veja no arquivo mod1.py, lá ele só permite importar 1 objeto (load_data()), se o usuário desejar utilizar o wildcard '*'. Resumindo, _ _ all _ _ é uma lista que controla o que será importado ao utilizar o wildcard '\\*'.\n",
    "\n",
    "Se _ _ all _ _ não estiver definido:\n",
    " - Ao importar um pacote com '*', ele não importa nada\n",
    " - Ao importar um módulo com '*', ele importa todos os objetos contidos neste módulo"
   ]
  },
  {
   "cell_type": "markdown",
   "metadata": {},
   "source": [
    "### Subpackages\n",
    "\n",
    "Esta é uma aula simples que mostra como podemos acessar subpacotes dentro de pacotes, ou seja, como se fossem subpastas dentros de pastas. Com o dot notation podemos acessar esses diferentes níveis de subpacotes. Por exemplo, se o mod1 estivesse dentro de uma pasta chamada subpkg1, seria assim o processo de import:\n",
    "\n",
    "**from pkg.subpkg1.mod1 import load_data**"
   ]
  }
 ],
 "metadata": {
  "kernelspec": {
   "display_name": "Python 3",
   "language": "python",
   "name": "python3"
  },
  "language_info": {
   "codemirror_mode": {
    "name": "ipython",
    "version": 3
   },
   "file_extension": ".py",
   "mimetype": "text/x-python",
   "name": "python",
   "nbconvert_exporter": "python",
   "pygments_lexer": "ipython3",
   "version": "3.9.0"
  },
  "orig_nbformat": 4
 },
 "nbformat": 4,
 "nbformat_minor": 2
}
