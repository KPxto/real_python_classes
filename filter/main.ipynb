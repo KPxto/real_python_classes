{
 "cells": [
  {
   "cell_type": "markdown",
   "metadata": {},
   "source": [
    "[Real Python - Course](https://realpython.com/lessons/python-filter-function-overview/)"
   ]
  },
  {
   "cell_type": "markdown",
   "metadata": {},
   "source": [
    "### Understand the concept of filtering\n",
    "\n",
    "O conceito de filtro é o q o próprio nome diz mesmo. Quando queremos retirar elementos indesejados e filtrar somente o que precisamos. Vamos acompanhar o exemplo abaixo com uma lista chamada numbers. Em python, um filtro é uma avaliação de True ou False baseado em um dado critério."
   ]
  },
  {
   "cell_type": "code",
   "execution_count": 4,
   "metadata": {},
   "outputs": [],
   "source": [
    "numbers = [-2, -1, 0, 1, 2]"
   ]
  },
  {
   "cell_type": "code",
   "execution_count": 8,
   "metadata": {},
   "outputs": [],
   "source": [
    "# função para extrair numeros positivos\n",
    "def extract_positive(numbers):\n",
    "    positive_list = []\n",
    "    for n in numbers:\n",
    "        if n > 0:\n",
    "            positive_list.append(n)\n",
    "    return positive_list"
   ]
  },
  {
   "cell_type": "code",
   "execution_count": 10,
   "metadata": {},
   "outputs": [
    {
     "data": {
      "text/plain": [
       "[1, 2]"
      ]
     },
     "execution_count": 10,
     "metadata": {},
     "output_type": "execute_result"
    }
   ],
   "source": [
    "# aqui utilizamos a função para iterar na lista numbers e retorna somente positivos\n",
    "extract_positive(numbers)"
   ]
  },
  {
   "cell_type": "markdown",
   "metadata": {},
   "source": [
    "### Filter iterables with filter()\n",
    "\n",
    "É uma função de python que faz esse trabalho de filtro feito acima, mas de forma bem mais concisa, rápida e com muito menos código. filter() é uma função de alta ordem (higher-order), pois ela aceita outras funções como argumento.\n",
    "<br>\n",
    "filter() aceita dois argumentos, uma função e um iterável. O filter vai aplicar a função a cada item do iterável. Vamos ver essa lógica no exemplo abaixo:"
   ]
  },
  {
   "cell_type": "code",
   "execution_count": 11,
   "metadata": {},
   "outputs": [],
   "source": [
    "# criação da lista \n",
    "numbers = [-2, -1, 0, 1, 2]"
   ]
  },
  {
   "cell_type": "code",
   "execution_count": 12,
   "metadata": {},
   "outputs": [],
   "source": [
    "# criação da função a ser passada para filter\n",
    "def is_positive(n):\n",
    "    return n > 0"
   ]
  },
  {
   "cell_type": "code",
   "execution_count": 16,
   "metadata": {},
   "outputs": [
    {
     "data": {
      "text/plain": [
       "[1, 2]"
      ]
     },
     "execution_count": 16,
     "metadata": {},
     "output_type": "execute_result"
    }
   ],
   "source": [
    "# o nome da função vai como primeiro argumento de filter\n",
    "# o iterável vai como segundo argumento\n",
    "# filter retorna um objeto iterável \n",
    "# Por isso temos q coloca-lo dentro de uma lista para visualizar o resultado\n",
    "list(filter(is_positive, numbers))"
   ]
  },
  {
   "cell_type": "markdown",
   "metadata": {},
   "source": [
    "### Extract Even Numbers\n",
    "\n",
    "Vamos usar o exemplo agora de extrair números pares. Primeiros criamos a lista e depois a função q vai extrair esses numeros pares. Faremos primeiro da forma \"primitiva\" e depois usaremos filter."
   ]
  },
  {
   "cell_type": "code",
   "execution_count": 24,
   "metadata": {},
   "outputs": [],
   "source": [
    "numbers = [1, 3, 10, 45, 6, 50, 67]"
   ]
  },
  {
   "cell_type": "code",
   "execution_count": 30,
   "metadata": {},
   "outputs": [],
   "source": [
    "def extract_even_numbers(numbers):\n",
    "    even_numbers = []\n",
    "    for n in numbers:\n",
    "        if n % 2 == 0:\n",
    "            even_numbers.append(n)\n",
    "    return even_numbers"
   ]
  },
  {
   "cell_type": "code",
   "execution_count": 34,
   "metadata": {},
   "outputs": [
    {
     "data": {
      "text/plain": [
       "[10, 6, 50]"
      ]
     },
     "execution_count": 34,
     "metadata": {},
     "output_type": "execute_result"
    }
   ],
   "source": [
    "extract_even_numbers(numbers)"
   ]
  },
  {
   "cell_type": "markdown",
   "metadata": {},
   "source": [
    "Agora usando o filter()"
   ]
  },
  {
   "cell_type": "code",
   "execution_count": 37,
   "metadata": {},
   "outputs": [],
   "source": [
    "# função para ser usada no filter\n",
    "# veja como ela é bem mais objetiva e curta\n",
    "# tudo q temos q fazer é uma função booleana, q retorne True ou False\n",
    "def extract_even_numbers(n):\n",
    "    return n % 2 == 0"
   ]
  },
  {
   "cell_type": "code",
   "execution_count": 36,
   "metadata": {},
   "outputs": [
    {
     "data": {
      "text/plain": [
       "[10, 6, 50]"
      ]
     },
     "execution_count": 36,
     "metadata": {},
     "output_type": "execute_result"
    }
   ],
   "source": [
    "list(filter(extract_even_numbers, numbers))"
   ]
  },
  {
   "cell_type": "markdown",
   "metadata": {},
   "source": [
    "### Find Palindrome Strings\n",
    "\n",
    "Além dos números, podemos usar filter() com string tbm. Para ilustrar, vamos criar um detector de palindromo."
   ]
  },
  {
   "cell_type": "code",
   "execution_count": 43,
   "metadata": {},
   "outputs": [
    {
     "data": {
      "text/plain": [
       "'oiak'"
      ]
     },
     "execution_count": 43,
     "metadata": {},
     "output_type": "execute_result"
    }
   ],
   "source": [
    "# vamos usar a função reversed, já nativa de python\n",
    "# esta função escreve a string de trás para frente\n",
    "# vamos utiliza-la na função de detector de palindromo\n",
    "\"\".join(reversed('kaio'))"
   ]
  },
  {
   "cell_type": "code",
   "execution_count": 49,
   "metadata": {},
   "outputs": [],
   "source": [
    "# criando a lista de palavras a serem investigadas\n",
    "words = ('filter', 'Ana', 'hello', 'world','madam', 'racecar', 'arara')"
   ]
  },
  {
   "cell_type": "code",
   "execution_count": 50,
   "metadata": {},
   "outputs": [
    {
     "data": {
      "text/plain": [
       "True"
      ]
     },
     "execution_count": 50,
     "metadata": {},
     "output_type": "execute_result"
    }
   ],
   "source": [
    "# criando a função de detecção de palindromo\n",
    "def is_palindrome(word):\n",
    "    reversed_word = \"\".join(reversed(word))\n",
    "    return word.lower() == reversed_word.lower()\n",
    "\n",
    "# testando\n",
    "is_palindrome('Ana')"
   ]
  },
  {
   "cell_type": "code",
   "execution_count": 52,
   "metadata": {},
   "outputs": [
    {
     "data": {
      "text/plain": [
       "['Ana', 'madam', 'racecar', 'arara']"
      ]
     },
     "execution_count": 52,
     "metadata": {},
     "output_type": "execute_result"
    }
   ],
   "source": [
    "# usando filter para retornar somente os palindromos\n",
    "list(filter(is_palindrome, words))"
   ]
  },
  {
   "cell_type": "markdown",
   "metadata": {},
   "source": [
    "### Code with Functional Programming\n",
    "\n",
    "Python nos fornece ferramentas de linguagem funcional como map(), filter(), reduce() e funções anonimas (lambda).\n",
    "<br>\n",
    "Pure functions (funções puras) são funções que retornam sempre o mesmo valor esperado, ela não altera o estado global de nenhuma variável. Ao contrários da funções imperativas, que alteram o estado global de uma variável. As funções puras são as utilizadas na programação funcional."
   ]
  },
  {
   "cell_type": "markdown",
   "metadata": {},
   "source": [
    "### Explore lambda functions\n",
    "\n",
    "São funções anonimas que podem ser usadas como argumento de filter, map, reduce. As funções lambda também compõem a programação funcional. Vamos dar um exemplo rápido abaixo:"
   ]
  },
  {
   "cell_type": "code",
   "execution_count": 58,
   "metadata": {},
   "outputs": [
    {
     "data": {
      "text/plain": [
       "3"
      ]
     },
     "execution_count": 58,
     "metadata": {},
     "output_type": "execute_result"
    }
   ],
   "source": [
    "# definição padrão de uma função em python\n",
    "def add_numbers(num1, num2):\n",
    "    return num1 + num2\n",
    "\n",
    "add_numbers(1, 2)"
   ]
  },
  {
   "cell_type": "code",
   "execution_count": 59,
   "metadata": {},
   "outputs": [
    {
     "data": {
      "text/plain": [
       "3"
      ]
     },
     "execution_count": 59,
     "metadata": {},
     "output_type": "execute_result"
    }
   ],
   "source": [
    "# a mesma função acima, mas agora com lambda\n",
    "add = lambda num1, num2: num1 + num2\n",
    "\n",
    "add(1, 2)"
   ]
  },
  {
   "cell_type": "markdown",
   "metadata": {},
   "source": [
    "### Combine filter() and map()"
   ]
  },
  {
   "cell_type": "markdown",
   "metadata": {},
   "source": [
    "map()\n",
    "\n",
    "- Aplica uma função à cada elemento de um iterável\n",
    "- Aceita 2 argumentos: função e iterável"
   ]
  },
  {
   "cell_type": "code",
   "execution_count": 66,
   "metadata": {},
   "outputs": [
    {
     "data": {
      "text/plain": [
       "[1, 4, 9, 16, 25]"
      ]
     },
     "execution_count": 66,
     "metadata": {},
     "output_type": "execute_result"
    }
   ],
   "source": [
    "# vamos no exemplo abaixo\n",
    "# aqui queremos calcular o quadrado de todos os numeros da lista\n",
    "numbers = [1, 2, 3, 4, 5]\n",
    "\n",
    "# vamos aplicar uma função anonima para cada item\n",
    "# assim como filter, poderíamos aplicar também uma função nomeada\n",
    "list(map(lambda x: x ** 2, numbers))"
   ]
  },
  {
   "cell_type": "markdown",
   "metadata": {},
   "source": [
    "Usando filter() junto com map()\n",
    "\n",
    "Vamos primeiro filtrar somente os numeros pares de uma lista e depois elevá-los ao quadrado"
   ]
  },
  {
   "cell_type": "code",
   "execution_count": 67,
   "metadata": {},
   "outputs": [],
   "source": [
    "numbers = [1, 3, 10, 45, 6, 50]"
   ]
  },
  {
   "cell_type": "code",
   "execution_count": 68,
   "metadata": {},
   "outputs": [
    {
     "data": {
      "text/plain": [
       "[10, 6, 50]"
      ]
     },
     "execution_count": 68,
     "metadata": {},
     "output_type": "execute_result"
    }
   ],
   "source": [
    "list(filter(lambda x: x % 2 == 0, numbers))"
   ]
  },
  {
   "cell_type": "code",
   "execution_count": 71,
   "metadata": {},
   "outputs": [
    {
     "data": {
      "text/plain": [
       "[100, 36, 2500]"
      ]
     },
     "execution_count": 71,
     "metadata": {},
     "output_type": "execute_result"
    }
   ],
   "source": [
    "# agora combinando com map()\n",
    "# aplicamos uma função lambda em ambas funções, map e filter\n",
    "# primeiros filtramos somentes os numeros pares\n",
    "# depois aplicamos o map para calcular o quadrado de cada um\n",
    "# veja q filter já faz seu processo\n",
    "# e seu retorno já serve como argumento iterável de map\n",
    "list(map(lambda x: x ** 2, filter(lambda x: x % 2 ==0, numbers)))"
   ]
  },
  {
   "cell_type": "markdown",
   "metadata": {},
   "source": [
    "### Combine filter() and reduce()\n",
    "\n",
    "Reduce() combina/calcula elementos de um iterável e o reduz para reotornar um único valor. Para usá-lo será necessário importar do módulo functools.\n",
    "<br>\n",
    "\n",
    "Ele pede 3 argumentos, send 1 opcional:\n",
    "<br>\n",
    "\n",
    "reduce(function, iterable, initial)\n",
    "\n",
    "<br>\n",
    "\n",
    "A função e o iterável funcionam como em filter e map. Já o argumento 'initial' é opcional e, se aplicado, indica por onde a função será aplicada primeiro para a operação de redução."
   ]
  },
  {
   "cell_type": "code",
   "execution_count": 73,
   "metadata": {},
   "outputs": [],
   "source": [
    "from functools import reduce"
   ]
  },
  {
   "cell_type": "markdown",
   "metadata": {},
   "source": [
    "Calcule a soma dos numeros pares\n",
    "<br>\n",
    "\n",
    "Usaremos filter() para filtrarmos os numeros pares e com reduce() reduziremos todos a um resultado único."
   ]
  },
  {
   "cell_type": "code",
   "execution_count": 79,
   "metadata": {},
   "outputs": [],
   "source": [
    "# criando a lista de numeros\n",
    "numbers = [1, 3, 45, 6, 88, 9, 24]"
   ]
  },
  {
   "cell_type": "code",
   "execution_count": 80,
   "metadata": {},
   "outputs": [],
   "source": [
    "# criando a função para usar no filter()\n",
    "def even_numbers(n):\n",
    "    return n % 2 == 0\n",
    "\n",
    "# função a ser utiizada no reduce()\n",
    "def add_numbers(n1, n2):\n",
    "    return n1 + n2"
   ]
  },
  {
   "cell_type": "code",
   "execution_count": 81,
   "metadata": {},
   "outputs": [
    {
     "data": {
      "text/plain": [
       "[6, 88, 24]"
      ]
     },
     "execution_count": 81,
     "metadata": {},
     "output_type": "execute_result"
    }
   ],
   "source": [
    "# vamos identificar quais são os numeros pares\n",
    "list(filter(even_numbers, numbers))"
   ]
  },
  {
   "cell_type": "code",
   "execution_count": 82,
   "metadata": {},
   "outputs": [
    {
     "data": {
      "text/plain": [
       "118"
      ]
     },
     "execution_count": 82,
     "metadata": {},
     "output_type": "execute_result"
    }
   ],
   "source": [
    "# agora vamos usar filter dentro de reduce \n",
    "# para obtermos uma soma desses números\n",
    "reduce(add_numbers, filter(even_numbers, numbers))"
   ]
  },
  {
   "cell_type": "code",
   "execution_count": 84,
   "metadata": {},
   "outputs": [
    {
     "data": {
      "text/plain": [
       "118"
      ]
     },
     "execution_count": 84,
     "metadata": {},
     "output_type": "execute_result"
    }
   ],
   "source": [
    "# e claro, podemos fazer tudo isso usando lambda\n",
    "reduce(lambda x, y: x + y, filter(lambda x: x % 2 == 0, numbers))"
   ]
  },
  {
   "cell_type": "markdown",
   "metadata": {},
   "source": [
    "### Filter iterables with filterfalse()\n",
    "\n",
    "Filterfalse() faz o inverso de filter(), ou seja, filtra os valores e retorna os False em vez do True\n",
    "\n",
    "Está disponível na biblioteca itertools, por isso devemos importá-la de lá"
   ]
  },
  {
   "cell_type": "code",
   "execution_count": 86,
   "metadata": {},
   "outputs": [],
   "source": [
    "from itertools import filterfalse"
   ]
  },
  {
   "cell_type": "code",
   "execution_count": 91,
   "metadata": {},
   "outputs": [
    {
     "data": {
      "text/plain": [
       "[1, 3, 45, 6, 88, 9, 24]"
      ]
     },
     "execution_count": 91,
     "metadata": {},
     "output_type": "execute_result"
    }
   ],
   "source": [
    "# reaproveitando a lista criada anteriormente\n",
    "numbers"
   ]
  },
  {
   "cell_type": "code",
   "execution_count": 92,
   "metadata": {},
   "outputs": [
    {
     "data": {
      "text/plain": [
       "[1, 3, 45, 9]"
      ]
     },
     "execution_count": 92,
     "metadata": {},
     "output_type": "execute_result"
    }
   ],
   "source": [
    "# usando a função lambda para detectar pares\n",
    "# o filterfalse vai retornar ímpares\n",
    "list(filterfalse(lambda x: x % 2 == 0, numbers))"
   ]
  },
  {
   "cell_type": "markdown",
   "metadata": {},
   "source": [
    "### Replace filter() with a list comprehension\n",
    "\n",
    "Como pode ver nos exemplos abaixo, o uso de list comprehension pode gerar o mesmo resultado de filter()"
   ]
  },
  {
   "cell_type": "code",
   "execution_count": 93,
   "metadata": {},
   "outputs": [
    {
     "data": {
      "text/plain": [
       "[1, 3, 45, 6, 88, 9, 24]"
      ]
     },
     "execution_count": 93,
     "metadata": {},
     "output_type": "execute_result"
    }
   ],
   "source": [
    "numbers"
   ]
  },
  {
   "cell_type": "code",
   "execution_count": 95,
   "metadata": {},
   "outputs": [
    {
     "data": {
      "text/plain": [
       "[6, 88, 24]"
      ]
     },
     "execution_count": 95,
     "metadata": {},
     "output_type": "execute_result"
    }
   ],
   "source": [
    "# extraindo numeros pares\n",
    "even_numbers = [i for i in numbers if i % 2 == 0]\n",
    "even_numbers"
   ]
  },
  {
   "cell_type": "markdown",
   "metadata": {},
   "source": [
    "### Extract even numbers with a generator\n",
    "\n",
    "Uma outra maneira de filtrar, mas usando geradores. Funciona de forma parecida com o list comprehension. No entanto tem as vantagens de ser um gerador e retornar valores lazy evaluation. A decisão do q utilizar vai depender da necessidade em cada projeto."
   ]
  },
  {
   "cell_type": "code",
   "execution_count": 96,
   "metadata": {},
   "outputs": [
    {
     "data": {
      "text/plain": [
       "[1, 3, 45, 6, 88, 9, 24]"
      ]
     },
     "execution_count": 96,
     "metadata": {},
     "output_type": "execute_result"
    }
   ],
   "source": [
    "numbers"
   ]
  },
  {
   "cell_type": "code",
   "execution_count": 100,
   "metadata": {},
   "outputs": [],
   "source": [
    "# extraindo numeros pares com uma expressão geradora\n",
    "# poderíamos fazer o mesmo com uma função geradora (com retorno yeld)\n",
    "# mesmo processo com o list, a unica diferença é q usa parenteses\n",
    "# em vez de colchetes\n",
    "even_numbers = (i for i in numbers if i % 2 == 0)"
   ]
  },
  {
   "cell_type": "code",
   "execution_count": 101,
   "metadata": {},
   "outputs": [
    {
     "data": {
      "text/plain": [
       "<generator object <genexpr> at 0x7fee77789270>"
      ]
     },
     "execution_count": 101,
     "metadata": {},
     "output_type": "execute_result"
    }
   ],
   "source": [
    "# um objeto gerador\n",
    "even_numbers"
   ]
  },
  {
   "cell_type": "code",
   "execution_count": 102,
   "metadata": {},
   "outputs": [
    {
     "data": {
      "text/plain": [
       "[6, 88, 24]"
      ]
     },
     "execution_count": 102,
     "metadata": {},
     "output_type": "execute_result"
    }
   ],
   "source": [
    "# visualizando esses números\n",
    "# podemos visualizar o resultado do gerador com um for loop ou com a função next\n",
    "list(even_numbers)"
   ]
  }
 ],
 "metadata": {
  "kernelspec": {
   "display_name": "Python 3",
   "language": "python",
   "name": "python3"
  },
  "language_info": {
   "codemirror_mode": {
    "name": "ipython",
    "version": 3
   },
   "file_extension": ".py",
   "mimetype": "text/x-python",
   "name": "python",
   "nbconvert_exporter": "python",
   "pygments_lexer": "ipython3",
   "version": "3.9.0"
  },
  "orig_nbformat": 4
 },
 "nbformat": 4,
 "nbformat_minor": 2
}
